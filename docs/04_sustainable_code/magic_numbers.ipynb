{
 "cells": [
  {
   "cell_type": "markdown",
   "id": "5230dc33-291b-4748-a4c8-77bb80036486",
   "metadata": {},
   "source": [
    "# \u907f\u514d\u9b54\u6cd5\u6570\u5b57\n",
    "\u5728\u9605\u8bfb\u4ee3\u7801\u65f6\uff0c\u6211\u4eec\u6709\u65f6\u4f1a\u53d1\u73b0\u4ee3\u7801\u4e2d\u51fa\u73b0\u4e00\u4e9b\u6570\u5b57\uff0c\u4f46\u4e0d\u6e05\u695a\u5b83\u4eec\u7684\u4f5c\u7528\u3002\u7136\u800c\uff0c\u5f53\u6211\u4eec\u6539\u53d8\u8fd9\u4e9b\u6570\u5b57\u65f6\uff0c\u7a0b\u5e8f\u7a81\u7136\u5c31\u4e0d\u80fd\u6b63\u5e38\u5de5\u4f5c\u4e86\u3002\u6211\u4eec\u79f0\u8fd9\u4e9b\u6570\u5b57\u4e3a[\u9b54\u6cd5\u6570\u5b57](https://en.wikipedia.org/wiki/Magic_number_(programming))\u3002\u4f8b\u5982\uff0c\u4f60\u77e5\u9053\u4e0b\u9762\u4ee3\u7801\u4e2d\u7684 `3` \u548c `7` \u662f\u505a\u4ec0\u4e48\u7528\u7684\u5417\uff1f"
   ]
  },
  {
   "cell_type": "code",
   "execution_count": 1,
   "id": "c0ddc835-d1a8-4d05-abc6-9df2e606b9fe",
   "metadata": {},
   "outputs": [],
   "source": [
    "from skimage.io import imread\n",
    "from skimage.filters import gaussian, threshold_otsu\n",
    "from skimage.measure import label"
   ]
  },
  {
   "cell_type": "code",
   "execution_count": 2,
   "id": "ff35ed3c-4159-479c-8be8-f314eda942d9",
   "metadata": {},
   "outputs": [
    {
     "data": {
      "text/plain": [
       "37"
      ]
     },
     "execution_count": 2,
     "metadata": {},
     "output_type": "execute_result"
    }
   ],
   "source": [
    "image = imread(\"../../data/BBBC007_batch/17P1_POS0013_D_1UL.tif\")\n",
    "\n",
    "# noise removal\n",
    "blurred = gaussian(image, 3)\n",
    "\n",
    "# instance segmentation\n",
    "binary = blurred > threshold_otsu(blurred)\n",
    "labels = label(binary)\n",
    "\n",
    "# quantitative measurement\n",
    "labels.max()"
   ]
  },
  {
   "cell_type": "code",
   "execution_count": 3,
   "id": "a373b994-def7-4bdd-8525-2c81b5970d8a",
   "metadata": {},
   "outputs": [
    {
     "data": {
      "text/plain": [
       "19"
      ]
     },
     "execution_count": 3,
     "metadata": {},
     "output_type": "execute_result"
    }
   ],
   "source": [
    "image = imread(\"../../data/BBBC007_batch/17P1_POS0013_D_1UL.tif\")\n",
    "\n",
    "# noise removal\n",
    "blurred = gaussian(image, 7)\n",
    "\n",
    "# instance segmentation\n",
    "binary = blurred > threshold_otsu(blurred)\n",
    "labels = label(binary)\n",
    "\n",
    "# quantitative measurement\n",
    "labels.max()"
   ]
  },
  {
   "cell_type": "markdown",
   "id": "d9f144e8-0b63-491d-ad45-7bdf360ad958",
   "metadata": {},
   "source": [
    "## \u5728\u5f00\u5934\u8bbe\u7f6e\u914d\u7f6e\u90e8\u5206\n",
    "\u4e3a\u4e86\u907f\u514d\u9b54\u6cd5\u6570\u5b57\u5e76\u4f7f\u4ee3\u7801\u66f4\u6613\u8bfb\uff0c\u5efa\u8bae\u5728\u6bcf\u4e2a\u811a\u672c/\u7b14\u8bb0\u672c\u7684\u5f00\u5934\u8bbe\u7f6e\u4e00\u4e2a\u914d\u7f6e\u4ee3\u7801\u90e8\u5206\u3002\u5728\u90a3\u91cc\uff0c\u4f60\u8fd8\u53ef\u4ee5\u4f7f\u7528\u6ce8\u91ca\u6765\u89e3\u91ca\u53d8\u91cf\u7684\u542b\u4e49\u3002\u987a\u4fbf\u8bf4\u4e00\u4e0b\uff0c\u7ed9\u8fd9\u4e9b\u53d8\u91cf\u53d6\u4e00\u4e2a\u597d\u540d\u5b57\u662f\u5173\u952e\u3002"
   ]
  },
  {
   "cell_type": "code",
   "execution_count": 4,
   "id": "951b4f71-158f-468b-84a2-a9fd1b1deb23",
   "metadata": {},
   "outputs": [],
   "source": [
    "# enter the image filename to be processed here\n",
    "file_to_process = \"../../data/BBBC007_batch/17P1_POS0013_D_1UL.tif\"\n",
    "\n",
    "# enter the expected radius of nuclei here, in pixel units\n",
    "approximate_nuclei_radius = 3"
   ]
  },
  {
   "cell_type": "code",
   "execution_count": 5,
   "id": "9f715981-c55d-4526-bbe6-bfb0f521be49",
   "metadata": {},
   "outputs": [
    {
     "data": {
      "text/plain": [
       "37"
      ]
     },
     "execution_count": 5,
     "metadata": {},
     "output_type": "execute_result"
    }
   ],
   "source": [
    "image = imread(file_to_process)\n",
    "\n",
    "# noise removal\n",
    "blurred = gaussian(image, approximate_nuclei_radius)\n",
    "\n",
    "# instance segmentation\n",
    "binary = blurred > threshold_otsu(blurred)\n",
    "labels = label(binary)\n",
    "\n",
    "# quantitative measurement\n",
    "labels.max()"
   ]
  },
  {
   "cell_type": "markdown",
   "id": "2326b955-ec1e-416e-9606-36a2f7709d90",
   "metadata": {},
   "source": [
    "\u518d\u63d0\u4e00\u4e2a\u5efa\u8bae\uff1aPython \u5141\u8bb8\u5728\u8c03\u7528\u51fd\u6570\u65f6\u6307\u5b9a[\u5173\u952e\u5b57\u53c2\u6570](https://treyhunner.com/2018/04/keyword-arguments-in-python/)\u3002\u4f7f\u7528\u5173\u952e\u5b57\u53c2\u6570\u53ef\u4ee5\u4f7f\u4ee3\u7801\u66f4\u6613\u8bfb\u548c\u7406\u89e3\uff1a"
   ]
  },
  {
   "cell_type": "code",
   "execution_count": 6,
   "id": "76d0cc44-4a5e-4dcd-990e-ec2e49b5462f",
   "metadata": {},
   "outputs": [],
   "source": [
    "blurred = gaussian(image, sigma=approximate_nuclei_radius)"
   ]
  },
  {
   "cell_type": "code",
   "execution_count": null,
   "id": "5384afe5-3760-424e-8d7c-998f4aa724fe",
   "metadata": {},
   "outputs": [],
   "source": []
  }
 ],
 "metadata": {
  "kernelspec": {
   "display_name": "Python 3 (ipykernel)",
   "language": "python",
   "name": "python3"
  },
  "language_info": {
   "codemirror_mode": {
    "name": "ipython",
    "version": 3
   },
   "file_extension": ".py",
   "mimetype": "text/x-python",
   "name": "python",
   "nbconvert_exporter": "python",
   "pygments_lexer": "ipython3",
   "version": "3.9.13"
  }
 },
 "nbformat": 4,
 "nbformat_minor": 5
}