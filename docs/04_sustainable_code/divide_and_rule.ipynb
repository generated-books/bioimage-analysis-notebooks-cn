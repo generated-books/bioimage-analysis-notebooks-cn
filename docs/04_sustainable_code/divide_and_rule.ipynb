{
 "cells": [
  {
   "cell_type": "markdown",
   "id": "06e6b903-c670-4061-9559-eabca80a566d",
   "metadata": {},
   "source": [
    "# \u5206\u800c\u6cbb\u4e4b\n",
    "\u6709\u65f6\uff0c\u7a0b\u5e8f\u53d8\u5f97\u975e\u5e38\u957f\u4e14\u96be\u4ee5\u9605\u8bfb\u3002\u6211\u4eec\u79f0\u4e4b\u4e3a[\u610f\u5927\u5229\u9762\u6761\u5f0f\u4ee3\u7801](https://en.wikipedia.org/wiki/Spaghetti_code)\u3002\u4f7f\u4ee3\u7801\u66f4\u6613\u4e8e\u9605\u8bfb\u548c\u7ef4\u62a4\u7684\u4e00\u79cd\u65b9\u6cd5\u662f\u5c06\u5176\u5206\u6210\u66f4\u5c0f\u7684\u51fd\u6570\uff0c\u5e76\u5728\u66f4\u590d\u6742\u7684\u5de5\u4f5c\u6d41\u7a0b\u4e2d\u4f7f\u7528\u5b83\u4eec\u3002\u8fd9\u79cd\u8f6f\u4ef6\u8bbe\u8ba1\u539f\u5219\u88ab\u79f0\u4e3a[\u5206\u800c\u6cbb\u4e4b](https://www.quora.com/What-is-divide-and-conquer-programming-strategy)\u3002"
   ]
  },
  {
   "cell_type": "code",
   "execution_count": 1,
   "id": "484f7356-0703-416e-88fc-cb760f325e3f",
   "metadata": {},
   "outputs": [],
   "source": [
    "from skimage.io import imread\n",
    "from skimage.morphology import white_tophat, disk\n",
    "from skimage.filters import gaussian, threshold_otsu\n",
    "from skimage.measure import label, regionprops_table\n",
    "import pandas as pd\n",
    "import numpy as np"
   ]
  },
  {
   "cell_type": "code",
   "execution_count": 2,
   "id": "4ae5ecf1-322d-4555-a0af-45dba03a11bb",
   "metadata": {},
   "outputs": [
    {
     "data": {
      "text/plain": [
       "17136.90322580645"
      ]
     },
     "execution_count": 2,
     "metadata": {},
     "output_type": "execute_result"
    }
   ],
   "source": [
    "image = imread(\"../../data/blobs.tif\")\n",
    "footprint = disk(15)\n",
    "background_subtracted = white_tophat(image, \n",
    "                                     footprint=footprint)\n",
    "particle_radius = 5\n",
    "denoised = gaussian(background_subtracted, \n",
    "                    sigma=particle_radius)\n",
    "binary = denoised > threshold_otsu(denoised)\n",
    "labels = label(binary)\n",
    "requested_measurements = [\"label\", \"area\", \"mean_intensity\"]\n",
    "regionprops = regionprops_table(image, \n",
    "                                labels, \n",
    "                                properties=requested_measurements)\n",
    "table = pd.DataFrame(regionprops)\n",
    "mean_total_intensity = np.mean(table[\"area\"] * table[\"mean_intensity\"])\n",
    "mean_total_intensity"
   ]
  },
  {
   "cell_type": "markdown",
   "id": "27e898db-d8b5-4886-9182-3a55ba24e44a",
   "metadata": {},
   "source": [
    "\u4f7f\u8fd9\u79cd\u4ee3\u7801\u66f4\u6613\u8bfb\u7684\u4e00\u79cd\u5e38\u89c1\u4e14\u7b80\u5355\u7684\u65b9\u6cd5\u662f\u5c06\u5176\u5206\u6210\u51e0\u4e2a\u90e8\u5206\uff0c\u6bcf\u4e2a\u90e8\u5206\u90fd\u4ee5\u6ce8\u91ca\u5f00\u59cb\u3002"
   ]
  },
  {
   "cell_type": "code",
   "execution_count": 3,
   "id": "342007b6-dc86-41cb-b3de-7a23a1f57f57",
   "metadata": {},
   "outputs": [
    {
     "data": {
      "text/plain": [
       "17136.90322580645"
      ]
     },
     "execution_count": 3,
     "metadata": {},
     "output_type": "execute_result"
    }
   ],
   "source": [
    "# configuration\n",
    "file_to_analyze = \"../../data/blobs.tif\"\n",
    "background_subtraction_radius = 15\n",
    "particle_radius = 5\n",
    "requested_measurements = [\"area\", \"mean_intensity\"]\n",
    "\n",
    "# load data\n",
    "image = imread(file_to_analyze)\n",
    "\n",
    "# preprocess image\n",
    "footprint = disk(background_subtraction_radius)\n",
    "background_subtracted = white_tophat(image, \n",
    "                                     footprint=footprint)\n",
    "denoised = gaussian(background_subtracted, \n",
    "                    sigma=particle_radius)\n",
    "\n",
    "# segment image\n",
    "binary = denoised > threshold_otsu(denoised)\n",
    "labels = label(binary)\n",
    "\n",
    "# extract features\n",
    "regionprops = regionprops_table(image, \n",
    "                                labels, \n",
    "                                properties=requested_measurements)\n",
    "table = pd.DataFrame(regionprops)\n",
    "\n",
    "# descriptive statistics\n",
    "mean_total_intensity = np.mean(table[\"area\"] * table[\"mean_intensity\"])\n",
    "mean_total_intensity"
   ]
  },
  {
   "cell_type": "markdown",
   "id": "332bb3d0-88c3-465b-a60f-9dd2449dd959",
   "metadata": {},
   "source": [
    "\u66f4\u4e13\u4e1a\u7684\u505a\u6cd5\u662f\u5c06\u6240\u6709\u8fd9\u4e9b\u4ee3\u7801\u653e\u5165\u6709\u610f\u4e49\u7684\u5b50\u7a0b\u5e8f\u4e2d\uff0c\u5e76\u4ece\u4e00\u4e2a\u4e2d\u5fc3\u51fd\u6570\u8c03\u7528\u5b83\u4eec\u3002"
   ]
  },
  {
   "cell_type": "code",
   "execution_count": 4,
   "id": "28e3f126-622b-47ed-b03e-90a6ae6e333c",
   "metadata": {},
   "outputs": [],
   "source": [
    "# reusable functions\n",
    "def preprocess_image(image, background_subtraction_radius, particle_radius):\n",
    "    \"\"\"Apply background removal and denoising\"\"\"\n",
    "    footprint = disk(background_subtraction_radius)\n",
    "    background_subtracted = white_tophat(image, footprint=footprint)\n",
    "    denoised = gaussian(background_subtracted, sigma=particle_radius)\n",
    "    return denoised\n",
    "\n",
    "def segment_image(image):\n",
    "    \"\"\"Apply thresholding and connected component analysis\"\"\"\n",
    "    binary = image > threshold_otsu(image)\n",
    "    labels = label(binary)\n",
    "    return labels\n",
    "\n",
    "def extract_features(image, labels, requested_measurements):\n",
    "    \"\"\"Measure specified properties\"\"\"\n",
    "    regionprops = regionprops_table(image, \n",
    "                                    labels, \n",
    "                                    properties=requested_measurements)\n",
    "    table = pd.DataFrame(regionprops)\n",
    "    return table"
   ]
  },
  {
   "cell_type": "markdown",
   "id": "b4676135-ec60-4d49-accc-5beab2d94449",
   "metadata": {},
   "source": [
    "\u5728\u6211\u4eec\u5c06\u5904\u7406\u6b65\u9aa4\u5206\u7ec4\u5230\u51fd\u6570\u4e2d\u4e4b\u540e\uff0c\u6211\u4eec\u53ef\u4ee5\u4ece\u4e00\u4e2a\u4e3b\u8981\u51fd\u6570\u4e2d\u8c03\u7528\u5b83\u4eec\u3002\u8fd9\u4e2a\u51fd\u6570\u4ee5\u540e\u53ef\u4ee5\u88ab\u91cd\u7528\u6765\u5bf9\u6587\u4ef6\u5939\u4e2d\u7684\u6240\u6709\u56fe\u50cf\u5e94\u7528\u76f8\u540c\u7684\u5904\u7406\u7a0b\u5e8f\u3002\u5b83\u4e5f\u4f5c\u4e3a\u7d22\u5f15\uff0c\u63d0\u4f9b\u56fe\u50cf\u5904\u7406\u5de5\u4f5c\u6d41\u7a0b\u7684\u6982\u89c8\u3002\u901a\u8fc7\u4ec5\u9605\u8bfb\u8fd9\u4e2a\u51fd\u6570\uff0c\u6211\u4eec\u5c31\u53ef\u4ee5\u77e5\u9053\u6240\u6709\u7684\u5904\u7406\u6b65\u9aa4\u53ca\u5176\u53c2\u6570\u3002"
   ]
  },
  {
   "cell_type": "code",
   "execution_count": 5,
   "id": "6f77d663-764b-45de-8668-600d8465561b",
   "metadata": {},
   "outputs": [],
   "source": [
    "def analyse_average_total_intensity(filename, \n",
    "                                    background_subtraction_radius = 15, \n",
    "                                    particle_radius = 5):\n",
    "    \"\"\"Load an image, segment objects and measure their mean total intensity.\"\"\"\n",
    "    image = imread(filename)\n",
    "    denoised = preprocess_image(image, \n",
    "                                background_subtraction_radius, \n",
    "                                particle_radius)\n",
    "    labels = segment_image(denoised)\n",
    "    requested_measurements = [\"area\", \"mean_intensity\"]\n",
    "    table = extract_features(image, \n",
    "                             labels, \n",
    "                             requested_measurements)\n",
    "\n",
    "    # descriptive statistics\n",
    "    mean_total_intensity = np.mean(table[\"area\"] * table[\"mean_intensity\"])\n",
    "    \n",
    "    return mean_total_intensity"
   ]
  },
  {
   "cell_type": "code",
   "execution_count": 6,
   "id": "4ed16cc5-8517-413f-84e8-3498224b5c46",
   "metadata": {},
   "outputs": [],
   "source": [
    "# configuration\n",
    "file_to_analyze = \"../../data/blobs.tif\""
   ]
  },
  {
   "cell_type": "markdown",
   "id": "1f1fa453-cedd-4c9c-9708-9937b49b72c0",
   "metadata": {},
   "source": [
    "\u8fd9\u4e2a\u4e2d\u5fc3\u51fd\u6570\u73b0\u5728\u53ef\u4ee5\u5f88\u5bb9\u6613\u5730\u9605\u8bfb\uff1b\u5b83\u53ea\u67096\u884c\u4ee3\u7801"
   ]
  },
  {
   "cell_type": "code",
   "execution_count": 7,
   "id": "a076194f-8917-4cd4-93d8-eb81cb02fea7",
   "metadata": {},
   "outputs": [
    {
     "data": {
      "text/plain": [
       "17136.90322580645"
      ]
     },
     "execution_count": 7,
     "metadata": {},
     "output_type": "execute_result"
    }
   ],
   "source": [
    "analyse_average_total_intensity(file_to_analyze)"
   ]
  },
  {
   "cell_type": "markdown",
   "id": "b66687a9-71c4-4d82-a4ac-678bb7eb587a",
   "metadata": {},
   "source": [
    "\u7136\u540e\uff0c\u8fd9\u4e2a\u51fd\u6570\u4e5f\u53ef\u4ee5\u88ab\u91cd\u7528\u4e8e\u5176\u4ed6\u56fe\u50cf\u6587\u4ef6\u3002"
   ]
  },
  {
   "cell_type": "code",
   "execution_count": 8,
   "id": "a30f8c95-340c-4321-a40e-176bda977409",
   "metadata": {},
   "outputs": [
    {
     "data": {
      "text/plain": [
       "884.2620087336245"
      ]
     },
     "execution_count": 8,
     "metadata": {},
     "output_type": "execute_result"
    }
   ],
   "source": [
    "analyse_average_total_intensity(\"../../data/BBBC007_batch/20P1_POS0005_D_1UL.tif\")"
   ]
  },
  {
   "cell_type": "code",
   "execution_count": null,
   "id": "5a5ff78b-b1ba-48c1-8214-0f7a2c6b6641",
   "metadata": {},
   "outputs": [],
   "source": []
  }
 ],
 "metadata": {
  "kernelspec": {
   "display_name": "Python 3 (ipykernel)",
   "language": "python",
   "name": "python3"
  },
  "language_info": {
   "codemirror_mode": {
    "name": "ipython",
    "version": 3
   },
   "file_extension": ".py",
   "mimetype": "text/x-python",
   "name": "python",
   "nbconvert_exporter": "python",
   "pygments_lexer": "ipython3",
   "version": "3.9.15"
  }
 },
 "nbformat": 4,
 "nbformat_minor": 5
}