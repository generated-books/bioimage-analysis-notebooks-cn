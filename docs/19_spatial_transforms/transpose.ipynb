{
 "cells": [
  {
   "cell_type": "markdown",
   "metadata": {},
   "source": [
    "# \u8f74\u8f6c\u7f6e\u57fa\u51c6\u6d4b\u8bd5\n",
    "\u672c\u7b14\u8bb0\u672c\u6bd4\u8f83\u4e86\u4e0d\u540c\u8f74\u8f6c\u7f6e\u5b9e\u73b0\u7684\u6027\u80fd\u3002\n",
    "\n",
    "**\u6ce8\u610f\uff1a** \u57fa\u51c6\u6d4b\u8bd5\u7ed3\u679c\u4f1a\u6839\u636e\u56fe\u50cf\u5927\u5c0f\u3001\u5185\u6838\u5927\u5c0f\u3001\u4f7f\u7528\u7684\u64cd\u4f5c\u3001\u53c2\u6570\u548c\u4f7f\u7528\u7684\u786c\u4ef6\u800c\u6709\u5f88\u5927\u53d8\u5316\u3002\u4f7f\u7528\u6b64\u7b14\u8bb0\u672c\u6765\u9002\u5e94\u60a8\u7684\u7528\u4f8b\u573a\u666f\uff0c\u5e76\u5728\u60a8\u7684\u76ee\u6807\u786c\u4ef6\u4e0a\u8fdb\u884c\u57fa\u51c6\u6d4b\u8bd5\u3002\u5982\u679c\u60a8\u6709\u4e0d\u540c\u7684\u573a\u666f\u6216\u7528\u4f8b\uff0c\u975e\u5e38\u6b22\u8fce\u60a8\u4ee5\u62c9\u53d6\u8bf7\u6c42\u7684\u5f62\u5f0f\u63d0\u4ea4\u60a8\u7684\u7b14\u8bb0\u672c\uff01"
   ]
  },
  {
   "cell_type": "code",
   "execution_count": 1,
   "metadata": {},
   "outputs": [
    {
     "data": {
      "text/plain": [
       "<NVIDIA GeForce RTX 3050 Ti Laptop GPU on Platform: NVIDIA CUDA (1 refs)>"
      ]
     },
     "execution_count": 1,
     "metadata": {},
     "output_type": "execute_result"
    }
   ],
   "source": [
    "import pyclesperanto_prototype as cle\n",
    "import numpy as np\n",
    "import time\n",
    "import cupy as cp\n",
    "\n",
    "# to measure kernel execution duration properly, we need to set this flag. It will slow down exection of workflows a bit though\n",
    "cle.set_wait_for_kernel_finish(True)\n",
    "\n",
    "# selet a GPU with the following in the name. This will fallback to any other GPU if none with this name is found\n",
    "cle.select_device('RTX')"
   ]
  },
  {
   "cell_type": "code",
   "execution_count": 2,
   "metadata": {},
   "outputs": [],
   "source": [
    "# test data\n",
    "import numpy as np\n",
    "\n",
    "test_image = np.random.random([100, 512, 1024])"
   ]
  },
  {
   "cell_type": "markdown",
   "metadata": {},
   "source": [
    "## clEsperanto"
   ]
  },
  {
   "cell_type": "code",
   "execution_count": 3,
   "metadata": {},
   "outputs": [
    {
     "name": "stdout",
     "output_type": "stream",
     "text": [
      "pyclesperanto transpose duration: 0.06201291084289551\n",
      "pyclesperanto transpose duration: 0.04100918769836426\n",
      "pyclesperanto transpose duration: 0.040008544921875\n",
      "pyclesperanto transpose duration: 0.040008544921875\n",
      "pyclesperanto transpose duration: 0.0400090217590332\n",
      "pyclesperanto transpose duration: 0.04129624366760254\n",
      "pyclesperanto transpose duration: 0.042009592056274414\n",
      "pyclesperanto transpose duration: 0.04128861427307129\n",
      "pyclesperanto transpose duration: 0.04102063179016113\n",
      "pyclesperanto transpose duration: 0.04099869728088379\n",
      "(1024, 512, 100)\n"
     ]
    }
   ],
   "source": [
    "# transpose with pyclesperanto\n",
    "result_image = None\n",
    "\n",
    "test_image_gpu = cle.push_zyx(test_image)\n",
    "\n",
    "for i in range(0, 10):\n",
    "    start_time = time.time()\n",
    "    result_image = cle.transpose_xz(test_image_gpu, result_image)\n",
    "    print(\"pyclesperanto transpose duration: \" + str(time.time() - start_time))\n",
    "print(result_image.shape)"
   ]
  },
  {
   "cell_type": "markdown",
   "metadata": {},
   "source": [
    "## cupy"
   ]
  },
  {
   "cell_type": "code",
   "execution_count": 4,
   "metadata": {},
   "outputs": [
    {
     "name": "stdout",
     "output_type": "stream",
     "text": [
      "cupy transpose duration: 0.06301379203796387\n",
      "cupy transpose duration: 0.0009999275207519531\n",
      "cupy transpose duration: 0.0\n",
      "cupy transpose duration: 0.0\n",
      "cupy transpose duration: 0.0\n",
      "cupy transpose duration: 0.0\n",
      "cupy transpose duration: 0.0\n",
      "cupy transpose duration: 0.0\n",
      "cupy transpose duration: 0.0\n",
      "cupy transpose duration: 0.0\n",
      "(1024, 512, 100)\n"
     ]
    }
   ],
   "source": [
    "# transpose with numpy\n",
    "result_image = None\n",
    "cu_test_image = cp.asarray(test_image)\n",
    "\n",
    "for i in range(0, 10):\n",
    "    start_time = time.time()\n",
    "    result_image = cp.transpose(cu_test_image, (2, 1, 0))\n",
    "    cp.cuda.stream.get_current_stream().synchronize() # we need to wait here to measure time properly\n",
    "    print(\"cupy transpose duration: \" + str(time.time() - start_time))\n",
    "print(result_image.shape)"
   ]
  },
  {
   "cell_type": "markdown",
   "metadata": {},
   "source": [
    "## numpy"
   ]
  },
  {
   "cell_type": "code",
   "execution_count": 5,
   "metadata": {},
   "outputs": [
    {
     "name": "stdout",
     "output_type": "stream",
     "text": [
      "numpy transpose duration: 0.0\n",
      "numpy transpose duration: 0.0\n",
      "numpy transpose duration: 0.0\n",
      "numpy transpose duration: 0.0\n",
      "numpy transpose duration: 0.0\n",
      "numpy transpose duration: 0.0\n",
      "numpy transpose duration: 0.0\n",
      "numpy transpose duration: 0.0\n",
      "numpy transpose duration: 0.0\n",
      "numpy transpose duration: 0.0\n",
      "(1024, 512, 100)\n"
     ]
    }
   ],
   "source": [
    "# transpose with numpy\n",
    "result_image = None\n",
    "\n",
    "for i in range(0, 10):\n",
    "    start_time = time.time()\n",
    "    result_image = np.transpose(test_image, (2, 1, 0))\n",
    "    print(\"numpy transpose duration: \" + str(time.time() - start_time))\n",
    "print(result_image.shape)"
   ]
  },
  {
   "cell_type": "code",
   "execution_count": null,
   "metadata": {},
   "outputs": [],
   "source": []
  }
 ],
 "metadata": {
  "kernelspec": {
   "display_name": "Python 3 (ipykernel)",
   "language": "python",
   "name": "python3"
  },
  "language_info": {
   "codemirror_mode": {
    "name": "ipython",
    "version": 3
   },
   "file_extension": ".py",
   "mimetype": "text/x-python",
   "name": "python",
   "nbconvert_exporter": "python",
   "pygments_lexer": "ipython3",
   "version": "3.8.5"
  }
 },
 "nbformat": 4,
 "nbformat_minor": 4
}