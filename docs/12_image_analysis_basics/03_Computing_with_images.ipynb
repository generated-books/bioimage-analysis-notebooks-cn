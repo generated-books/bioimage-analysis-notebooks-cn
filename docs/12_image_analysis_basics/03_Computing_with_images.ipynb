{
 "cells": [
  {
   "cell_type": "markdown",
   "id": "d236e728-86ed-4f1c-93fe-544bc07ac8d5",
   "metadata": {},
   "source": [
    "# \u56fe\u50cf\u8ba1\u7b97\n",
    "\n",
    "\u6211\u4eec\u5728\u4e0a\u4e00\u7ae0\u770b\u5230\uff0c\u56fe\u50cf\u4ee5Numpy\u6570\u7ec4\u7684\u5f62\u5f0f\u5b58\u5728\u3002\u5728\u8fd9\u91cc\uff0c\u6211\u4eec\u5c06\u770b\u5230\u53ef\u4ee5\u7528\u8fd9\u4e9b\u6570\u7ec4\u8fdb\u884c\u7684\u4e0d\u540c\u7c7b\u578b\u7684\u56fe\u50cf\u5904\u7406\u8ba1\u7b97\uff0c\u6bd4\u5982\u7b97\u672f\u8fd0\u7b97\u3001\u7ec4\u5408\u56fe\u50cf\u7b49\u3002\n",
    "\n",
    "\u6211\u4eec\u5728\u4e0a\u4e00\u7ae0\u770b\u5230\uff0c\u6211\u4eec\u53ef\u4ee5\u4f7f\u7528\u4f8b\u5982```np.random.random```\u51fd\u6570\u521b\u5efa\u56fe\u50cf\u3002\u8ba9\u6211\u4eec\u521b\u5efa\u4e24\u4e2a\u5c0f\u56fe\u50cf\uff1a"
   ]
  },
  {
   "cell_type": "code",
   "execution_count": 1,
   "id": "2568eb4f-13c4-4a20-beeb-882ca58f843e",
   "metadata": {},
   "outputs": [],
   "source": [
    "import numpy as np\n",
    "from matplotlib import pyplot as plt"
   ]
  },
  {
   "cell_type": "code",
   "execution_count": 2,
   "id": "202b00c4-4500-464f-82e6-9a62b4cb2277",
   "metadata": {},
   "outputs": [
    {
     "data": {
      "text/plain": [
       "array([[1., 1., 1., 1., 1.],\n",
       "       [1., 1., 1., 1., 1.],\n",
       "       [1., 1., 1., 1., 1.]])"
      ]
     },
     "execution_count": 2,
     "metadata": {},
     "output_type": "execute_result"
    }
   ],
   "source": [
    "image1 = np.ones((3,5))\n",
    "image1"
   ]
  },
  {
   "cell_type": "code",
   "execution_count": 3,
   "id": "067853b6-f3fa-4c11-a768-30ca5fd8cc6d",
   "metadata": {},
   "outputs": [
    {
     "data": {
      "text/plain": [
       "array([[0.1389824 , 0.99979463, 0.82577042, 0.79474507, 0.23101268],\n",
       "       [0.27034647, 0.01410389, 0.20435784, 0.0721552 , 0.61984191],\n",
       "       [0.85459468, 0.58800162, 0.62462822, 0.01819988, 0.06607906]])"
      ]
     },
     "execution_count": 3,
     "metadata": {},
     "output_type": "execute_result"
    }
   ],
   "source": [
    "image2 = np.random.random((3,5))\n",
    "image2"
   ]
  },
  {
   "cell_type": "markdown",
   "id": "021b84f4-f74a-4c74-80b7-85b4aa3b8836",
   "metadata": {},
   "source": [
    "## \u7b80\u5355\u8ba1\u7b97\n",
    "\n",
    "\u56de\u987e\u4e0a\u4e00\u7ae0\uff0c\u6211\u4eec\u770b\u5230\u53ef\u4ee5\u50cf\u5bf9\u7b80\u5355\u6570\u5b57\u8fdb\u884c\u7b97\u672f\u8fd0\u7b97\u4e00\u6837\u5bf9\u56fe\u50cf\u8fdb\u884c\u8fd0\u7b97\uff1a"
   ]
  },
  {
   "cell_type": "code",
   "execution_count": 4,
   "id": "d8f0ad23-6616-4056-a34a-cffd04d8cd95",
   "metadata": {},
   "outputs": [
    {
     "data": {
      "text/plain": [
       "array([[4., 4., 4., 4., 4.],\n",
       "       [4., 4., 4., 4., 4.],\n",
       "       [4., 4., 4., 4., 4.]])"
      ]
     },
     "execution_count": 4,
     "metadata": {},
     "output_type": "execute_result"
    }
   ],
   "source": [
    "image1_plus = image1 + 3\n",
    "image1_plus"
   ]
  },
  {
   "cell_type": "markdown",
   "id": "fe7a7149-698c-4286-86a8-7514743abbaa",
   "metadata": {},
   "source": [
    "\u8fd9\u5bf9\u6240\u6709\u57fa\u672c\u8fd0\u7b97\u5982\u52a0\u6cd5\u3001\u4e58\u6cd5\u7b49\u90fd\u6709\u6548\u3002\u751a\u81f3\u5e42\u8fd0\u7b97\u4e5f\u53ef\u4ee5\uff1a"
   ]
  },
  {
   "cell_type": "code",
   "execution_count": 5,
   "id": "3a2e5a3d-b132-4d53-b82d-c5d9006e1213",
   "metadata": {},
   "outputs": [
    {
     "data": {
      "text/plain": [
       "array([[16., 16., 16., 16., 16.],\n",
       "       [16., 16., 16., 16., 16.],\n",
       "       [16., 16., 16., 16., 16.]])"
      ]
     },
     "execution_count": 5,
     "metadata": {},
     "output_type": "execute_result"
    }
   ],
   "source": [
    "image1_plus ** 2"
   ]
  },
  {
   "cell_type": "markdown",
   "id": "b201825f-d0b0-41a7-b583-40da2bcbd4e0",
   "metadata": {},
   "source": [
    "## \u7ec4\u5408\u56fe\u50cf\n",
    "\n",
    "\u5982\u679c\u56fe\u50cf\u7684\u5927\u5c0f\u76f8\u540c\uff0c\u6211\u4eec\u540c\u6837\u53ef\u4ee5\u50cf\u5bf9\u7b80\u5355\u6570\u5b57\u4e00\u6837\u5bf9\u5b83\u4eec\u8fdb\u884c\u6570\u5b66\u8fd0\u7b97\uff1a\u540c\u6837\u5305\u62ec\u52a0\u6cd5\u3001\u4e58\u6cd5\u7b49\u3002\u4f8b\u5982\uff1a"
   ]
  },
  {
   "cell_type": "code",
   "execution_count": 6,
   "id": "30865c30-8ea6-4e97-a743-49094ff6bdfb",
   "metadata": {},
   "outputs": [
    {
     "data": {
      "text/plain": [
       "array([[1.1389824 , 1.99979463, 1.82577042, 1.79474507, 1.23101268],\n",
       "       [1.27034647, 1.01410389, 1.20435784, 1.0721552 , 1.61984191],\n",
       "       [1.85459468, 1.58800162, 1.62462822, 1.01819988, 1.06607906]])"
      ]
     },
     "execution_count": 6,
     "metadata": {},
     "output_type": "execute_result"
    }
   ],
   "source": [
    "image1 + image2"
   ]
  },
  {
   "cell_type": "markdown",
   "id": "14abbe03-718d-4b70-bab6-d7131c4a7f16",
   "metadata": {},
   "source": [
    "## \u9010\u50cf\u7d20\u51fd\u6570\n",
    "\n",
    "\u9664\u4e86\u5141\u8bb8\u6211\u4eec\u521b\u5efa\u5404\u79cd\u7c7b\u578b\u7684\u6570\u7ec4\u5916\uff0cNumpy\u8fd8\u4e3a\u6211\u4eec\u63d0\u4f9b\u4e86\u53ef\u4ee5\u5bf9\u6570\u7ec4\u8fdb\u884c\u64cd\u4f5c\u7684\u51fd\u6570\u3002\u5728\u8bb8\u591a\u60c5\u51b5\u4e0b\uff0c\u8f93\u5165\u662f\u4e00\u4e2a\u56fe\u50cf\uff0c\u8f93\u51fa\u662f\u76f8\u540c\u5927\u5c0f\u7684\u56fe\u50cf\uff0c\u5176\u4e2d*\u67d0\u4e2a\u51fd\u6570\u5df2\u5e94\u7528\u4e8e\u6bcf\u4e2a\u5355\u72ec\u7684\u50cf\u7d20*\u3002\n",
    "\n",
    "\u4f8b\u5982\uff0c\u6211\u4eec\u53ef\u80fd\u60f3\u5bf9\u56fe\u50cf\u5e94\u7528\u5bf9\u6570\u51fd\u6570\u6765\u51cf\u5c11\u50cf\u7d20\u53ef\u4ee5\u53d6\u7684\u503c\u7684\u8303\u56f4\u3002\u8fd9\u91cc\u6211\u4eec\u4f1a\u4f7f\u7528```np.log```\u51fd\u6570\uff1a"
   ]
  },
  {
   "cell_type": "code",
   "execution_count": 7,
   "id": "1be0f38c-35df-411e-9961-c2c8285c7288",
   "metadata": {},
   "outputs": [
    {
     "data": {
      "text/plain": [
       "array([[-1.97340794e+00, -2.05388747e-04, -1.91438488e-01,\n",
       "        -2.29733884e-01, -1.46528267e+00],\n",
       "       [-1.30805091e+00, -4.26130469e+00, -1.58788269e+00,\n",
       "        -2.62893591e+00, -4.78290819e-01],\n",
       "       [-1.57127986e-01, -5.31025584e-01, -4.70598659e-01,\n",
       "        -4.00634024e+00, -2.71690330e+00]])"
      ]
     },
     "execution_count": 7,
     "metadata": {},
     "output_type": "execute_result"
    }
   ],
   "source": [
    "np.log(image2)"
   ]
  },
  {
   "cell_type": "markdown",
   "id": "1c5ddcc7-10c2-49b8-8da5-72d3837530e6",
   "metadata": {},
   "source": [
    "\u6b63\u5982\u6211\u4eec\u6240\u770b\u5230\u7684\uff0c\u8f93\u5165\u56fe\u50cf\u67093\u884c5\u5217\uff0c\u8f93\u51fa\u56fe\u50cf\u5177\u6709\u76f8\u540c\u7684\u7ef4\u5ea6\u3002\u4f60\u53ef\u4ee5\u5728Numpy\u4e2d\u627e\u5230\u8bb8\u591a\u4ee5\u8fd9\u79cd\u65b9\u5f0f\u64cd\u4f5c\u7684\u51fd\u6570\uff0c\u4f8b\u5982\u53d6\u6307\u6570\uff08```np.exp()```\uff09\uff0c\u8fdb\u884c\u4e09\u89d2\u8fd0\u7b97\uff08```np.cos()```\uff0c```np.sin()```\uff09\u7b49\u3002"
   ]
  },
  {
   "cell_type": "markdown",
   "id": "6a65bd49-255b-4e2f-ac4a-c051a169ddf5",
   "metadata": {},
   "source": [
    "## \u56fe\u50cf\u7edf\u8ba1\n",
    "\n",
    "\u53e6\u4e00\u7c7b\u51fd\u6570\u4ee5\u56fe\u50cf\u4f5c\u4e3a\u8f93\u5165\uff0c\u4f46\u901a\u8fc7\u8ba1\u7b97\u56fe\u50cf\u6216\u5176\u90e8\u5206\u7684\u7edf\u8ba1\u6570\u636e\u8fd4\u56de\u4e0d\u540c\u5927\u5c0f\u7684\u8f93\u51fa\u3002\u4f8b\u5982\uff0c\u6211\u4eec\u53ef\u4ee5\u8ba1\u7b97*\u6240\u6709* ```image2```\u50cf\u7d20\u503c\u7684\u5e73\u5747\u503c\uff1a"
   ]
  },
  {
   "cell_type": "code",
   "execution_count": 8,
   "id": "00cd34ee-08d3-406f-a8b4-4c31216db5cc",
   "metadata": {},
   "outputs": [
    {
     "data": {
      "text/plain": [
       "0.4215075982440046"
      ]
     },
     "execution_count": 8,
     "metadata": {},
     "output_type": "execute_result"
    }
   ],
   "source": [
    "np.mean(image2)"
   ]
  },
  {
   "cell_type": "markdown",
   "id": "87ae0a8f-f6a4-4190-b85f-a17e8a5bd2d2",
   "metadata": {},
   "source": [
    "\u6216\u8005\u6211\u4eec\u53ef\u4ee5\u6307\u5b9a\u8981\u6cbf\u56fe\u50cf\u7684\u67d0\u4e2a\u7ef4\u5ea6\u8ba1\u7b97\u5e73\u5747\u503c\uff0c\u57282D\u4e2d\u6cbf\u5217\u6216\u884c\u3002\u8ba9\u6211\u4eec\u56de\u987e\u4e00\u4e0b```image2```\u662f\u4ec0\u4e48\uff1a"
   ]
  },
  {
   "cell_type": "code",
   "execution_count": 9,
   "id": "a75034d0-9110-4ee2-b5a5-0d019a5cc352",
   "metadata": {},
   "outputs": [
    {
     "data": {
      "text/plain": [
       "array([[0.1389824 , 0.99979463, 0.82577042, 0.79474507, 0.23101268],\n",
       "       [0.27034647, 0.01410389, 0.20435784, 0.0721552 , 0.61984191],\n",
       "       [0.85459468, 0.58800162, 0.62462822, 0.01819988, 0.06607906]])"
      ]
     },
     "execution_count": 9,
     "metadata": {},
     "output_type": "execute_result"
    }
   ],
   "source": [
    "image2"
   ]
  },
  {
   "cell_type": "markdown",
   "id": "7bea9efb-5aa4-4501-900a-a9cb13208bf0",
   "metadata": {},
   "source": [
    "\u73b0\u5728\u6211\u4eec\u5bf9\u5217\u53d6\u5e73\u5747\u503c\uff0c\u8fd9\u610f\u5473\u7740\u6cbf\u7b2c\u4e00\u4e2a\u8f74\u6216```axis=0```\uff1a"
   ]
  },
  {
   "cell_type": "code",
   "execution_count": 10,
   "id": "3fd7a790-9383-40dd-b2ef-21a1b7fc998f",
   "metadata": {},
   "outputs": [
    {
     "data": {
      "text/plain": [
       "array([0.42130785, 0.53396671, 0.55158549, 0.29503338, 0.30564455])"
      ]
     },
     "execution_count": 10,
     "metadata": {},
     "output_type": "execute_result"
    }
   ],
   "source": [
    "np.mean(image2, axis=0)"
   ]
  },
  {
   "cell_type": "markdown",
   "id": "3069cf2c-362f-494c-a750-3574faf11258",
   "metadata": {},
   "source": [
    "\u540c\u6837\u7684\u903b\u8f91\u9002\u7528\u4e8e\u6240\u6709\u5176\u4ed6\u7edf\u8ba1\u51fd\u6570\uff0c\u5982\u53d6\u6700\u5c0f\u503c\uff08```np.min()```\uff09\uff0c\u6700\u5927\u503c\uff08```np.max()```\uff09\uff0c\u6807\u51c6\u5dee\uff08```np.std()```\uff09\uff0c\u4e2d\u4f4d\u6570\uff08```np.median()```\uff09\u7b49\u3002"
   ]
  },
  {
   "cell_type": "markdown",
   "id": "7d94b5a6-7606-4a0a-b88f-93012d50d5b6",
   "metadata": {},
   "source": [
    "\u6ce8\u610f\uff0c\u8fd9\u4e9b\u51fd\u6570\u4e2d\u7684\u5927\u591a\u6570\u4e5f\u53ef\u4ee5\u76f4\u63a5\u5728Numpy\u6570\u7ec4\u53d8\u91cf\u4e0a\u8c03\u7528\u3002\u4f8b\u5982"
   ]
  },
  {
   "cell_type": "code",
   "execution_count": 11,
   "id": "8e77e21e-92bc-48bc-a26d-5cbbe22d0287",
   "metadata": {},
   "outputs": [
    {
     "data": {
      "text/plain": [
       "0.3362691013424119"
      ]
     },
     "execution_count": 11,
     "metadata": {},
     "output_type": "execute_result"
    }
   ],
   "source": [
    "np.std(image2)"
   ]
  },
  {
   "cell_type": "markdown",
   "id": "f5b00ab4-c6d0-4ab6-815f-41408d0f5999",
   "metadata": {},
   "source": [
    "\u548c"
   ]
  },
  {
   "cell_type": "code",
   "execution_count": 12,
   "id": "09961793-69ec-412b-9bc9-223f4ff07005",
   "metadata": {},
   "outputs": [
    {
     "data": {
      "text/plain": [
       "0.3362691013424119"
      ]
     },
     "execution_count": 12,
     "metadata": {},
     "output_type": "execute_result"
    }
   ],
   "source": [
    "image2.std()"
   ]
  },
  {
   "cell_type": "markdown",
   "id": "7c9ecae0-5f2b-4030-9b66-4458bf1bb556",
   "metadata": {},
   "source": [
    "\u662f\u5b8c\u5168\u7b49\u4ef7\u7684\u3002\u5728\u540e\u4e00\u79cd\u60c5\u51b5\u4e0b\u4f7f\u7528\u70b9\u7b26\u53f7\uff0c\u4f60\u53ef\u80fd\u4f1a\u542c\u8bf4```std()```\u662f```image2```\u7684\u4e00\u4e2a*\u65b9\u6cd5*\u3002"
   ]
  },
  {
   "cell_type": "markdown",
   "id": "88bc1845-7952-487c-9a79-420c06ce84ee",
   "metadata": {
    "tags": []
   },
   "source": [
    "\u6700\u540e\uff0c\u6211\u4eec\u53ef\u80fd\u60f3\u770b\u4e00\u4e0b\u50cf\u7d20\u503c\u7684\u5b9e\u9645\u5206\u5e03\u3002\n",
    "\u4e3a\u6b64\uff0c\u6211\u4eec\u770b\u4e00\u4e0b\u56fe\u50cf\u7684[\u76f4\u65b9\u56fe](https://en.wikipedia.org/wiki/Histogram)\u3002"
   ]
  },
  {
   "cell_type": "code",
   "execution_count": 13,
   "id": "477c333b-6da3-4215-af03-43c9468ed14f",
   "metadata": {
    "tags": []
   },
   "outputs": [],
   "source": [
    "number_of_bins = 10\n",
    "min_max = [0,1]\n",
    "histogram,bins = np.histogram(image2.ravel(),number_of_bins,min_max)\n"
   ]
  },
  {
   "cell_type": "code",
   "execution_count": 14,
   "id": "2f83dcd0-23bd-496c-a9ed-c24db201a095",
   "metadata": {
    "tags": []
   },
   "outputs": [
    {
     "data": {
      "image/png": "[encoded data removed]",
      "text/plain": [
       "<Figure size 640x480 with 1 Axes>"
      ]
     },
     "metadata": {},
     "output_type": "display_data"
    }
   ],
   "source": [
    "plt.hist(image2.ravel(), number_of_bins, min_max)\n",
    "plt.show()"
   ]
  },
  {
   "cell_type": "markdown",
   "id": "cedbe894-561a-4cab-9001-1410328c0aaf",
   "metadata": {},
   "source": [
    "## \u7ec3\u4e60\n",
    "\n",
    "\u4ece```numpy.random```\u6a21\u5757\u4e2d\uff0c\u627e\u5230\u4e00\u4e2a\u751f\u6210**\u6cca\u677e**\u566a\u58f0\u7684\u51fd\u6570\uff0c\u5e76\u521b\u5efa\u4e00\u4e2a4x9\u7684\u56fe\u50cf\u3002\u8ba1\u7b97\u5176\u5747\u503c\u548c\u6807\u51c6\u5dee\u3002"
   ]
  },
  {
   "cell_type": "code",
   "execution_count": null,
   "id": "a6470339-1972-433d-92ad-a660403fa671",
   "metadata": {},
   "outputs": [],
   "source": []
  }
 ],
 "metadata": {
  "kernelspec": {
   "display_name": "Python 3 (ipykernel)",
   "language": "python",
   "name": "python3"
  },
  "language_info": {
   "codemirror_mode": {
    "name": "ipython",
    "version": 3
   },
   "file_extension": ".py",
   "mimetype": "text/x-python",
   "name": "python",
   "nbconvert_exporter": "python",
   "pygments_lexer": "ipython3",
   "version": "3.9.15"
  }
 },
 "nbformat": 4,
 "nbformat_minor": 5
}