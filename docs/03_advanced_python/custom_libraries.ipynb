{
 "cells": [
  {
   "cell_type": "markdown",
   "id": "directed-compensation",
   "metadata": {},
   "source": [
    "# \u81ea\u5b9a\u4e49\u5e93\n",
    "\u5728\u4f7f\u7528Python\u7f16\u7a0b\u4e00\u6bb5\u65f6\u95f4\u540e\uff0c\u4f60\u53ef\u80fd\u4f1a\u91cd\u590d\u4f7f\u7528\u76f8\u540c\u7684\u4ee3\u7801\u3002\u4f60\u53ef\u4ee5\u4ece\u4e00\u4e2aJupyter\u7b14\u8bb0\u672c\u590d\u5236\u7c98\u8d34\u5230\u53e6\u4e00\u4e2a\u3002\u7136\u800c\uff0c\u7b14\u8bb0\u672c\u5e76\u4e0d\u9002\u5408\u5b58\u653e\u5927\u91cf\u51fd\u6570\u3002\u7b14\u8bb0\u672c\u65e8\u5728\u5c55\u793a\u7b80\u77ed\u800c\u7b80\u6d01\u7684\u4ee3\u7801\u793a\u4f8b\u3002\u56e0\u6b64\uff0c\u4e3a\u4e86\u7ec4\u7ec7\u6211\u4eec\u7684\u4ee3\u7801\uff0c\u6211\u4eec\u53ef\u4ee5\u5c06\u7ecf\u5e38\u4f7f\u7528\u7684\u51fd\u6570\u653e\u5165\u4e00\u4e2aPython\u6587\u4ef6\u4e2d\uff0c\u5373\u81ea\u5b9a\u4e49\u5e93\uff0c\u7136\u540e\u5bfc\u5165\u8fd9\u4e9b\u51fd\u6570\u3002\n",
    "\n",
    "\u53e6\u8bf7\u53c2\u9605\uff1a\n",
    "* [\u5bfc\u5165\u7cfb\u7edf](https://docs.python.org/3/reference/import.html)\n",
    "\n",
    "\u5728\u540c\u4e00\u6587\u4ef6\u5939\u4e2d\uff0c\u5b58\u5728\u4e00\u4e2a[my_library.py](my_library.py)\u6587\u4ef6\u3002\u5b83\u5305\u542b\u4e24\u4e2a\u51fd\u6570\u3002\u8ba9\u6211\u4eec\u5bfc\u5165\u5e76\u4f7f\u7528\u5b83\u4eec\uff1a"
   ]
  },
  {
   "cell_type": "code",
   "execution_count": 1,
   "id": "collaborative-leisure",
   "metadata": {},
   "outputs": [],
   "source": [
    "from my_library import square"
   ]
  },
  {
   "cell_type": "code",
   "execution_count": 2,
   "id": "compressed-chassis",
   "metadata": {},
   "outputs": [
    {
     "data": {
      "text/plain": [
       "25"
      ]
     },
     "execution_count": 2,
     "metadata": {},
     "output_type": "execute_result"
    }
   ],
   "source": [
    "square(5)"
   ]
  },
  {
   "cell_type": "code",
   "execution_count": 4,
   "id": "coastal-franklin",
   "metadata": {},
   "outputs": [],
   "source": [
    "from my_library import *"
   ]
  },
  {
   "cell_type": "code",
   "execution_count": 5,
   "id": "defensive-small",
   "metadata": {},
   "outputs": [
    {
     "data": {
      "text/plain": [
       "2.449489742783178"
      ]
     },
     "execution_count": 5,
     "metadata": {},
     "output_type": "execute_result"
    }
   ],
   "source": [
    "wuzzle(5)"
   ]
  },
  {
   "cell_type": "markdown",
   "id": "aggregate-invalid",
   "metadata": {},
   "source": [
    "\u5728\u7ef4\u62a4\u81ea\u5df1\u7684\u51fd\u6570\u5e93\u65f6\uff0c\u786e\u4fdd\u51fd\u6570\u6709\u5408\u7406\u7684\u540d\u79f0\u548c\u6709\u7528\u7684\u6587\u6863\u5b57\u7b26\u4e32\u3002\u5426\u5219\uff0c\u4f60\u4ee5\u540e\u53ef\u80fd\u4f1a\u5bf9\u81ea\u5df1\u7684\u4ee3\u7801\u611f\u5230\u56f0\u60d1\u3002\n",
    "\n",
    "\u8fd9\u662f\u4e00\u4e2a\u597d\u4f8b\u5b50\uff1a"
   ]
  },
  {
   "cell_type": "code",
   "execution_count": 6,
   "id": "catholic-afternoon",
   "metadata": {},
   "outputs": [
    {
     "name": "stdout",
     "output_type": "stream",
     "text": [
      "\n",
      "    Squares a number by multiplying it with itself  and returns its result.\n",
      "    \n"
     ]
    }
   ],
   "source": [
    "print(square.__doc__)"
   ]
  },
  {
   "cell_type": "markdown",
   "id": "textile-cricket",
   "metadata": {},
   "source": [
    "\u8fd9\u662f\u4e00\u4e2a\u7cdf\u7cd5\u7684\u4f8b\u5b50\uff1a"
   ]
  },
  {
   "cell_type": "code",
   "execution_count": 8,
   "id": "lesbian-candy",
   "metadata": {},
   "outputs": [
    {
     "name": "stdout",
     "output_type": "stream",
     "text": [
      "\n",
      "    The wuzzle function manipulates a number in a magic way and returns the result.\n",
      "    \n"
     ]
    }
   ],
   "source": [
    "print(wuzzle.__doc__)"
   ]
  },
  {
   "cell_type": "markdown",
   "id": "approved-violence",
   "metadata": {},
   "source": [
    "## \u4fee\u6539\u81ea\u5b9a\u4e49\u5e93\u4e2d\u7684\u4ee3\u7801\n",
    "\u5982\u679c\u4f60\u5728\u7b14\u8bb0\u672c\u65c1\u8fb9\u4fee\u6539Python\u5e93\u6587\u4ef6\u4e2d\u7684\u4ee3\u7801\uff0c\u4f60\u53ef\u80fd\u9700\u8981\u5728\u4fee\u6539\u5e93\u6587\u4ef6\u540e\u91cd\u65b0\u542f\u52a8\u7b14\u8bb0\u672c\u3002\u4f60\u53ef\u4ee5\u5728\u83dc\u5355\u4e2d\u9009\u62e9`Kernel > Restart & Run All`\u6765\u5b8c\u6210\u8fd9\u4e2a\u64cd\u4f5c\u3002"
   ]
  },
  {
   "cell_type": "markdown",
   "id": "liable-press",
   "metadata": {},
   "source": [
    "# \u7ec3\u4e60\n",
    "\u521b\u5efa\u4e00\u4e2a\u81ea\u5df1\u7684\u5e93\uff0c\u5e76\u7f16\u5199\u4e00\u4e2a\u51fd\u6570\u6765\u8ba1\u7b97\u4e24\u70b9\u4e4b\u95f4\u7684[\u6b27\u51e0\u91cc\u5f97\u8ddd\u79bb](https://en.wikipedia.org/wiki/Euclidean_distance)\u3002\u70b9\u7684\u5750\u6807\u4ee5\u5143\u7ec4\u5f62\u5f0f\u7ed9\u51fa\u3002\u63d0\u793a\uff1a\u5728\u8fd9\u4e2a\u51fd\u6570\u4e2d\uff0c\u4f60\u9700\u8981\u4e00\u4e2afor\u5faa\u73af\u6765\u5bf9\u4e24\u4e2a\u5750\u6807\u8fdb\u884c\u6210\u5bf9\u8fed\u4ee3\uff1a"
   ]
  },
  {
   "cell_type": "code",
   "execution_count": 9,
   "id": "worse-reggae",
   "metadata": {},
   "outputs": [],
   "source": [
    "p = (1.5, 6.4, 7.3)\n",
    "q = (3.4, 1.0, 0.9)"
   ]
  },
  {
   "cell_type": "code",
   "execution_count": null,
   "id": "confident-incidence",
   "metadata": {},
   "outputs": [],
   "source": []
  }
 ],
 "metadata": {
  "kernelspec": {
   "display_name": "Python 3",
   "language": "python",
   "name": "python3"
  },
  "language_info": {
   "codemirror_mode": {
    "name": "ipython",
    "version": 3
   },
   "file_extension": ".py",
   "mimetype": "text/x-python",
   "name": "python",
   "nbconvert_exporter": "python",
   "pygments_lexer": "ipython3",
   "version": "3.9.4"
  }
 },
 "nbformat": 4,
 "nbformat_minor": 5
}