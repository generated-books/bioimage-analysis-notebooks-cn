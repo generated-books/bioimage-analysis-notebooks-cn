{
 "cells": [
  {
   "cell_type": "markdown",
   "id": "2bac9780-3f38-4f74-9a22-577e2a4c6643",
   "metadata": {},
   "source": [
    "# \u6392\u5e8f\u5217\u8868\n",
    "\u5728\u5904\u7406\u7b80\u5355\u5f62\u5f0f\u7684\u6570\u636e\u65f6\uff0c\u4f8b\u5982\u4e00\u4e2a\u6d4b\u91cf\u503c\u5217\u8868\uff0c\u5bf9\u5b83\u4eec\u8fdb\u884c\u6392\u5e8f\u53ef\u80fd\u4f1a\u5f88\u6709\u7528\u3002\u901a\u8fc7\u8fd9\u79cd\u65b9\u5f0f\uff0c\u6211\u4eec\u53ef\u4ee5\u4f8b\u5982\u5feb\u901f\u8bbf\u95ee\u5217\u8868\u4e2d\u7684\u6700\u5c0f\u6570\u5b57\u3002\n",
    "\n",
    "\u8ba9\u6211\u4eec\u518d\u6b21\u4ece\u4e00\u4e2a\u6570\u5b57\u5217\u8868\u5f00\u59cb"
   ]
  },
  {
   "cell_type": "code",
   "execution_count": 1,
   "id": "24617c60-0f20-4d12-ae69-b99630fbd919",
   "metadata": {},
   "outputs": [
    {
     "data": {
      "text/plain": [
       "[34, 0, 65, 23, 51, 9, 50, 78, 34, 100]"
      ]
     },
     "execution_count": 1,
     "metadata": {},
     "output_type": "execute_result"
    }
   ],
   "source": [
    "data = [34, 0, 65, 23, 51, 9, 50, 78, 34, 100]\n",
    "data"
   ]
  },
  {
   "cell_type": "markdown",
   "id": "21077e88-518e-4f68-94b8-2d77e87b4058",
   "metadata": {},
   "source": [
    "\u6709\u4e00\u4e2a[sort](https://docs.python.org/3/library/stdtypes.html?highlight=sort#list.sort)\u64cd\u4f5c\uff0c\u5b83\u5b9e\u9645\u4e0a\u4f1a\u4fee\u6539\u5217\u8868\uff1a"
   ]
  },
  {
   "cell_type": "code",
   "execution_count": 2,
   "id": "b6ea27f0-1a39-4750-be11-f32302f9221a",
   "metadata": {},
   "outputs": [
    {
     "data": {
      "text/plain": [
       "[0, 9, 23, 34, 34, 50, 51, 65, 78, 100]"
      ]
     },
     "execution_count": 2,
     "metadata": {},
     "output_type": "execute_result"
    }
   ],
   "source": [
    "data.sort()\n",
    "data"
   ]
  },
  {
   "cell_type": "markdown",
   "id": "047fd778-15dc-4d31-8029-f403ad4f555a",
   "metadata": {},
   "source": [
    "\u56e0\u6b64\uff0c\u6211\u4eec\u5e94\u8be5\u6309\u987a\u5e8f\u6267\u884cJupyter notebook\u5355\u5143\u683c\uff0c\u56e0\u4e3a`data`\u53d8\u91cf\u4e4b\u540e\u4f1a\u88ab\u4fee\u6539\uff08\u6211\u4eec\u65e0\u8bba\u5982\u4f55\u90fd\u5e94\u8be5\u8fd9\u6837\u505a\uff09\u3002\n",
    "\n",
    "\u6392\u5e8f\u540e\uff0c\u8fd9\u5c06\u7ed9\u6211\u4eec\u5217\u8868\u4e2d\u6700\u5c0f\u7684\u4e09\u4e2a\u6761\u76ee\uff1a"
   ]
  },
  {
   "cell_type": "code",
   "execution_count": 3,
   "id": "37a90146-5349-483f-a59f-65a085e11210",
   "metadata": {},
   "outputs": [
    {
     "data": {
      "text/plain": [
       "[0, 9, 23]"
      ]
     },
     "execution_count": 3,
     "metadata": {},
     "output_type": "execute_result"
    }
   ],
   "source": [
    "data[:3]"
   ]
  },
  {
   "cell_type": "markdown",
   "id": "ed4fa049-f856-4dce-9611-bfd15aea4b0f",
   "metadata": {},
   "source": [
    "\u8fd9\u5c06\u7ed9\u6211\u4eec\u6700\u5927\u7684\u4e09\u4e2a\u6570\u5b57\uff1a"
   ]
  },
  {
   "cell_type": "code",
   "execution_count": 4,
   "id": "a7cf8c3e-6728-4b2a-aa55-09fb813ca566",
   "metadata": {},
   "outputs": [
    {
     "data": {
      "text/plain": [
       "[65, 78, 100]"
      ]
     },
     "execution_count": 4,
     "metadata": {},
     "output_type": "execute_result"
    }
   ],
   "source": [
    "data[-3:]"
   ]
  },
  {
   "cell_type": "markdown",
   "id": "59652f9a-e7f8-430a-af79-80d91a902bef",
   "metadata": {},
   "source": [
    "## \u7ec3\u4e60\n",
    "\u627e\u51fa\u8fd9\u4e24\u4e2a\u6570\u5b57\u5217\u8868\u7684[\u4e2d\u4f4d\u6570](https://en.wikipedia.org/wiki/Median)\uff1a"
   ]
  },
  {
   "cell_type": "code",
   "execution_count": 5,
   "id": "50f4cac1-b627-45af-a966-908e09812cfe",
   "metadata": {},
   "outputs": [],
   "source": [
    "data1 = [6, 4, 3, 4, 8, 10]"
   ]
  },
  {
   "cell_type": "code",
   "execution_count": 6,
   "id": "6b3c6eec-c6af-451a-bf3f-098463166531",
   "metadata": {},
   "outputs": [],
   "source": [
    "data2 = [6, 4, 3, 4, 8, 10, 8]"
   ]
  },
  {
   "cell_type": "code",
   "execution_count": null,
   "id": "3cec52eb-8d46-4431-8f28-387e98e8091c",
   "metadata": {},
   "outputs": [],
   "source": []
  }
 ],
 "metadata": {
  "kernelspec": {
   "display_name": "Python 3 (ipykernel)",
   "language": "python",
   "name": "python3"
  },
  "language_info": {
   "codemirror_mode": {
    "name": "ipython",
    "version": 3
   },
   "file_extension": ".py",
   "mimetype": "text/x-python",
   "name": "python",
   "nbconvert_exporter": "python",
   "pygments_lexer": "ipython3",
   "version": "3.9.0"
  }
 },
 "nbformat": 4,
 "nbformat_minor": 5
}