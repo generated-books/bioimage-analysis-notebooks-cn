{
 "cells": [
  {
   "cell_type": "markdown",
   "id": "frank-basement",
   "metadata": {},
   "source": [
    "# \u4f7f\u7528Jupyter\u7b14\u8bb0\u672c\u65f6\u7684\u9677\u9631\n",
    "\u5728Jupyter\u7b14\u8bb0\u672c\u4e2d\uff0c\u60a8\u53ef\u4ee5\u591a\u6b21\u6267\u884c\u540c\u4e00\u4e2a\u5355\u5143\u683c\u3002\u8fd9\u53ef\u80fd\u4f1a\u5bfc\u81f4\u7b14\u8bb0\u672c\u5bf9\u8bfb\u8005\u6765\u8bf4\u6beb\u65e0\u610f\u4e49\u3002"
   ]
  },
  {
   "cell_type": "code",
   "execution_count": 3,
   "id": "metallic-classification",
   "metadata": {},
   "outputs": [],
   "source": [
    "a = 5\n",
    "b = 5"
   ]
  },
  {
   "cell_type": "code",
   "execution_count": 6,
   "id": "wired-crowd",
   "metadata": {},
   "outputs": [],
   "source": [
    "a = a + 1"
   ]
  },
  {
   "cell_type": "code",
   "execution_count": 7,
   "id": "shaped-capital",
   "metadata": {},
   "outputs": [
    {
     "data": {
      "text/plain": [
       "13"
      ]
     },
     "execution_count": 7,
     "metadata": {},
     "output_type": "execute_result"
    }
   ],
   "source": [
    "a + b"
   ]
  },
  {
   "cell_type": "markdown",
   "id": "olympic-vienna",
   "metadata": {},
   "source": [
    "\u60a8\u53ef\u4ee5\u4ee5\u9519\u8bef\u7684\u987a\u5e8f\u6267\u884c\u5b83\u4eec\uff0c\u8fd9\u4f1a\u5bfc\u81f4\u540c\u6837\u7684\u6548\u679c\u3002"
   ]
  },
  {
   "cell_type": "code",
   "execution_count": 10,
   "id": "backed-shaft",
   "metadata": {},
   "outputs": [],
   "source": [
    "d = 5"
   ]
  },
  {
   "cell_type": "code",
   "execution_count": 9,
   "id": "military-bedroom",
   "metadata": {},
   "outputs": [],
   "source": [
    "d = 10"
   ]
  },
  {
   "cell_type": "code",
   "execution_count": 11,
   "id": "radical-shakespeare",
   "metadata": {},
   "outputs": [
    {
     "data": {
      "text/plain": [
       "5"
      ]
     },
     "execution_count": 11,
     "metadata": {},
     "output_type": "execute_result"
    }
   ],
   "source": [
    "d"
   ]
  },
  {
   "cell_type": "markdown",
   "id": "persistent-porcelain",
   "metadata": {},
   "source": [
    "\u901a\u8fc7\u9605\u8bfb\u5de6\u4fa7\u7684\u6570\u5b57`In [?]`\uff0c\u60a8\u53ef\u4ee5\u770b\u5230\u5355\u5143\u683c\u662f\u4ee5\u9519\u8bef\u7684\u987a\u5e8f\u6267\u884c\u7684\uff0c\u91cd\u590d\u6267\u884c\u6216\u975e\u8fde\u7eed\u6267\u884c\u3002\n",
    "\n",
    "![](cell_execution_number.png)\n",
    "\n",
    "\u63d0\u793a\uff1a\u5f53\u60a8\u7684\u7b14\u8bb0\u672c\u51c6\u5907\u5c31\u7eea\u65f6\uff0c\u70b9\u51fb\u83dc\u5355`Kernel > Restart & Run all`\uff0c\u4ee5\u786e\u4fdd\u7b14\u8bb0\u672c\u4e2d\u7684\u6240\u6709\u5355\u5143\u683c\u90fd\u6309\u6b63\u786e\u7684\u987a\u5e8f\u6267\u884c\u3002"
   ]
  },
  {
   "cell_type": "code",
   "execution_count": null,
   "id": "conservative-cyprus",
   "metadata": {},
   "outputs": [],
   "source": []
  }
 ],
 "metadata": {
  "kernelspec": {
   "display_name": "Python 3 (ipykernel)",
   "language": "python",
   "name": "python3"
  },
  "language_info": {
   "codemirror_mode": {
    "name": "ipython",
    "version": 3
   },
   "file_extension": ".py",
   "mimetype": "text/x-python",
   "name": "python",
   "nbconvert_exporter": "python",
   "pygments_lexer": "ipython3",
   "version": "3.9.0"
  }
 },
 "nbformat": 4,
 "nbformat_minor": 5
}