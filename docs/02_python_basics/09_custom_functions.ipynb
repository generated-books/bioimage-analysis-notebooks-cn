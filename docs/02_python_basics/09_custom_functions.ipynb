{
 "cells": [
  {
   "cell_type": "markdown",
   "metadata": {},
   "source": [
    "# \u51fd\u6570\n",
    "\u6211\u4eec\u5728\u8fc7\u53bb\u7684\u8bfe\u7a0b\u4e2d\u4f7f\u7528\u8fc7\u51fd\u6570\u3002\u51fd\u6570\u6709\u540d\u79f0\u548c\u53c2\u6570\u3002\u6709\u4e9b\u51fd\u6570\u8fd4\u56de\u7ed3\u679c\uff0c\u6709\u4e9b\u5219\u4e0d\u8fd4\u56de\u3002\u6211\u4eec\u901a\u5e38\u4f7f\u7528 `result = name(parameters)` \u7684\u5f62\u5f0f\u6765\u8c03\u7528\u5b83\u4eec\u3002\n",
    "\n",
    "\u53e6\u8bf7\u53c2\u9605\n",
    "* [Python\u51fd\u6570](https://www.tutorialspoint.com/python/python_functions.htm)\n",
    "* [\u5185\u7f6e\u51fd\u6570\u5217\u8868](https://docs.python.org/3/library/functions.html)\n",
    "\n",
    "\u8ba9\u6211\u4eec\u770b\u4e00\u4e9b\u51fd\u6570\u7684\u4f8b\u5b50\uff0c\u6bd4\u5982 `print(text)` \u548c `pow(x, y)`\u3002print\u51fd\u6570\u63a5\u53d7\u4e00\u4e2a\u53c2\u6570\uff08\u6216\u591a\u4e2a\u53c2\u6570\uff09\u5e76\u4e14\u4e0d\u8fd4\u56de\u4efb\u4f55\u5185\u5bb9\uff1a"
   ]
  },
  {
   "cell_type": "code",
   "execution_count": 1,
   "metadata": {},
   "outputs": [
    {
     "name": "stdout",
     "output_type": "stream",
     "text": [
      "Hello world\n"
     ]
    }
   ],
   "source": [
    "result = print('Hello world')"
   ]
  },
  {
   "cell_type": "code",
   "execution_count": 2,
   "metadata": {},
   "outputs": [],
   "source": [
    "result"
   ]
  },
  {
   "cell_type": "markdown",
   "metadata": {},
   "source": [
    "[pow](https://docs.python.org/3/library/functions.html#pow) \u51fd\u6570\u6709\u4e24\u4e2a\u53c2\u6570\u5e76\u8fd4\u56de\u4e00\u4e2a\u7ed3\u679c\uff1a"
   ]
  },
  {
   "cell_type": "code",
   "execution_count": 3,
   "metadata": {},
   "outputs": [],
   "source": [
    "result = pow(2, 3)"
   ]
  },
  {
   "cell_type": "code",
   "execution_count": 4,
   "metadata": {},
   "outputs": [
    {
     "data": {
      "text/plain": [
       "8"
      ]
     },
     "execution_count": 4,
     "metadata": {},
     "output_type": "execute_result"
    }
   ],
   "source": [
    "result"
   ]
  },
  {
   "cell_type": "markdown",
   "metadata": {},
   "source": [
    "## \u81ea\u5b9a\u4e49\u51fd\u6570\n",
    "\u4f60\u53ef\u4ee5\u4f7f\u7528 `def` \u8bed\u53e5\u5b9a\u4e49\u81ea\u5df1\u7684\u51fd\u6570\u3002\u5728def\u8bed\u53e5\u4e4b\u540e\uff0c\u4f60\u5e94\u8be5\u6307\u5b9a\u51fd\u6570\u7684\u540d\u79f0\uff0c\u5e76\u5728\u62ec\u53f7\u4e2d\u6307\u5b9a\u5176\u53c2\u6570\u3002\u7136\u540e\u662f\u4e00\u4e2a\u5192\u53f7 `:` \uff0c\u6240\u6709\u7f29\u8fdb\u7684\u540e\u7eed\u4ee3\u7801\u884c\u90fd\u662f\u8fd9\u4e2a\u51fd\u6570\u7684\u4e00\u90e8\u5206\u3002\u6700\u540e\u7684 `return` \u8bed\u53e5\u5c06\u7ed3\u679c\u53d1\u9001\u56de\u51fd\u6570\u88ab\u8c03\u7528\u7684\u5730\u65b9\u3002"
   ]
  },
  {
   "cell_type": "code",
   "execution_count": 5,
   "metadata": {},
   "outputs": [],
   "source": [
    "def sum_numbers(a, b):\n",
    "    \n",
    "    result = a + b\n",
    "    \n",
    "    return result"
   ]
  },
  {
   "cell_type": "markdown",
   "metadata": {},
   "source": [
    "\u7136\u540e\u4f60\u53ef\u4ee5\u6839\u636e\u9700\u8981\u591a\u6b21\u8c03\u7528\u4f60\u7684\u51fd\u6570"
   ]
  },
  {
   "cell_type": "code",
   "execution_count": 6,
   "metadata": {},
   "outputs": [
    {
     "data": {
      "text/plain": [
       "7"
      ]
     },
     "execution_count": 6,
     "metadata": {},
     "output_type": "execute_result"
    }
   ],
   "source": [
    "sum_numbers(3, 4)"
   ]
  },
  {
   "cell_type": "code",
   "execution_count": 7,
   "metadata": {},
   "outputs": [
    {
     "data": {
      "text/plain": [
       "11"
      ]
     },
     "execution_count": 7,
     "metadata": {},
     "output_type": "execute_result"
    }
   ],
   "source": [
    "sum_numbers(5, 6)"
   ]
  },
  {
   "cell_type": "markdown",
   "metadata": {},
   "source": [
    "\u6709\u65f6\uff0c\u4f60\u53ef\u80fd\u60f3\u5c06\u51fd\u6570\u7684\u7ed3\u679c\u4fdd\u5b58\u5728\u4e00\u4e2a\u53d8\u91cf\u4e2d\u3002"
   ]
  },
  {
   "cell_type": "code",
   "execution_count": 8,
   "metadata": {},
   "outputs": [
    {
     "name": "stdout",
     "output_type": "stream",
     "text": [
      "9\n"
     ]
    }
   ],
   "source": [
    "c = sum_numbers(4, 5)\n",
    "print(c)"
   ]
  },
  {
   "cell_type": "markdown",
   "metadata": {},
   "source": [
    "## \u4f7f\u7528\u51fd\u6570\u7b80\u5316\u4ee3\u7801\n",
    "\u5047\u8bbe\u4f60\u6709\u4e00\u4e2a\u590d\u6742\u7684\u7b97\u6cd5\uff0c\u53ef\u4ee5\u5224\u65ad\u4e00\u4e2a\u6570\u662f\u5947\u6570\u8fd8\u662f\u5076\u6570\u3002\u8ba9\u6211\u4eec\u628a\u8fd9\u4e2a\u7b97\u6cd5\u653e\u5728\u4e00\u4e2a\u51fd\u6570\u4e2d\uff0c\u7a0d\u540e\u518d\u8c03\u7528\u5b83\u3002\u5bf9\u4e8e\u6211\u4eec\u7684\u7b97\u6cd5\uff0c\u6211\u4eec\u5c06\u4f7f\u7528[\u6a21\u8fd0\u7b97\u7b26 %](https://en.wikipedia.org/wiki/Modulo_operation)\u3002"
   ]
  },
  {
   "cell_type": "code",
   "execution_count": 9,
   "metadata": {},
   "outputs": [],
   "source": [
    "def print_odd_or_even(number):\n",
    "    if number % 2 == 0:\n",
    "        print(number, \"is even\")\n",
    "    else:\n",
    "        print(number, \"is odd\")"
   ]
  },
  {
   "cell_type": "code",
   "execution_count": 10,
   "metadata": {},
   "outputs": [
    {
     "name": "stdout",
     "output_type": "stream",
     "text": [
      "3 is odd\n"
     ]
    }
   ],
   "source": [
    "print_odd_or_even(3)"
   ]
  },
  {
   "cell_type": "code",
   "execution_count": 11,
   "metadata": {},
   "outputs": [
    {
     "name": "stdout",
     "output_type": "stream",
     "text": [
      "4 is even\n"
     ]
    }
   ],
   "source": [
    "print_odd_or_even(4)"
   ]
  },
  {
   "cell_type": "code",
   "execution_count": 12,
   "metadata": {},
   "outputs": [
    {
     "name": "stdout",
     "output_type": "stream",
     "text": [
      "10 is even\n"
     ]
    }
   ],
   "source": [
    "print_odd_or_even(10)"
   ]
  },
  {
   "cell_type": "markdown",
   "metadata": {},
   "source": [
    "\u56e0\u6b64\uff0c\u6211\u4eec\u4e0d\u9700\u8981\u53cd\u590d\u7f16\u5199\u76f8\u540c\u7684 `if-else` \u5757\uff0c\u53ea\u9700\u8c03\u7528\u6211\u4eec\u81ea\u5b9a\u4e49\u7684 `print_odd_or_even` \u51fd\u6570\u5373\u53ef\u3002"
   ]
  },
  {
   "cell_type": "markdown",
   "metadata": {},
   "source": [
    "## \u51fd\u6570\u6587\u6863\n",
    "\u4f60\u53ef\u4ee5\u5728\u51fd\u6570\u7684\u6240\u8c13\u6587\u6863\u5b57\u7b26\u4e32\u4e2d\u8bb0\u5f55\u51fd\u6570\u7684\u529f\u80fd\u3002\u6587\u6863\u5b57\u7b26\u4e32\u7d27\u8ddf\u5728\u51fd\u6570\u5934\u4e4b\u540e\uff0c\u770b\u8d77\u6765\u50cf\u8fd9\u6837\uff1a"
   ]
  },
  {
   "cell_type": "code",
   "execution_count": 13,
   "metadata": {},
   "outputs": [],
   "source": [
    "def square(number):\n",
    "    '''\n",
    "    \u5c06\u4e00\u4e2a\u6570\u5e73\u65b9\uff0c\u5373\u5c06\u5176\u4e0e\u81ea\u8eab\u76f8\u4e58\uff0c\u5e76\u8fd4\u56de\u7ed3\u679c\u3002\n",
    "    '''\n",
    "\n",
    "    return number * number"
   ]
  },
  {
   "cell_type": "markdown",
   "metadata": {},
   "source": [
    "\u4e4b\u540e\u4f60\u53ef\u4ee5\u8fd9\u6837\u9605\u8bfb\u51fd\u6570\u7684\u6587\u6863\uff1a"
   ]
  },
  {
   "cell_type": "code",
   "execution_count": 14,
   "metadata": {},
   "outputs": [
    {
     "name": "stdout",
     "output_type": "stream",
     "text": [
      "\n",
      "    Squares a number by multiplying it with itself  and returns its result.\n",
      "    \n"
     ]
    }
   ],
   "source": [
    "print(square.__doc__)"
   ]
  },
  {
   "cell_type": "markdown",
   "metadata": {},
   "source": [
    "\u5982\u679c\u4f60\u60f3\u5728\u7b14\u8bb0\u672c\u4e2d\u5e76\u6392\u663e\u793a\u6587\u6863\u5b57\u7b26\u4e32\uff0c\u4e5f\u53ef\u4ee5\u5c1d\u8bd5\u8fd9\u6837\uff1a"
   ]
  },
  {
   "cell_type": "code",
   "execution_count": 15,
   "metadata": {},
   "outputs": [
    {
     "data": {
      "text/plain": [
       "\u001b[0;31mSignature:\u001b[0m \u001b[0msquare\u001b[0m\u001b[0;34m(\u001b[0m\u001b[0mnumber\u001b[0m\u001b[0;34m)\u001b[0m\u001b[0;34m\u001b[0m\u001b[0;34m\u001b[0m\u001b[0m\n",
       "\u001b[0;31mDocstring:\u001b[0m Squares a number by multiplying it with itself  and returns its result.\n",
       "\u001b[0;31mFile:\u001b[0m      /var/folders/p1/6svzckgd1y5906pfgm71fvmr0000gn/T/ipykernel_11914/1507435947.py\n",
       "\u001b[0;31mType:\u001b[0m      function\n"
      ]
     },
     "metadata": {},
     "output_type": "display_data"
    }
   ],
   "source": [
    "square?"
   ]
  },
  {
   "cell_type": "markdown",
   "metadata": {},
   "source": [
    "\u987a\u4fbf\u8bf4\u4e00\u4e0b\uff0c\u4f60\u53ef\u4ee5\u5bf9\u4efb\u4f55\u51fd\u6570\u8fd9\u6837\u505a\uff1a"
   ]
  },
  {
   "cell_type": "code",
   "execution_count": 16,
   "metadata": {},
   "outputs": [
    {
     "name": "stdout",
     "output_type": "stream",
     "text": [
      "Return the square root of x.\n"
     ]
    }
   ],
   "source": [
    "import math\n",
    "print(math.sqrt.__doc__)"
   ]
  },
  {
   "cell_type": "code",
   "execution_count": 17,
   "metadata": {},
   "outputs": [
    {
     "name": "stdout",
     "output_type": "stream",
     "text": [
      "Return e raised to the power of x.\n"
     ]
    }
   ],
   "source": [
    "print(math.exp.__doc__)"
   ]
  },
  {
   "cell_type": "markdown",
   "metadata": {},
   "source": [
    "## \u7ec3\u4e60\n",
    "\u7f16\u5199\u4e00\u4e2a\u51fd\u6570\uff0c\u63a5\u53d7\u4e24\u4e2a\u53c2\u6570\uff1a`number_of_points_in_exam` \u548c `number_of_total_points_in_exam`\uff0c\u5e76\u8fd4\u56de\u4e00\u4e2a1\u52305\u7684\u6210\u7ee9\u3002\u83b7\u5f97\u8d85\u8fc795%\u5206\u6570\u7684\u5b66\u751f\u5f971\u5206\uff0c\u8d85\u8fc780%\u5f972\u5206\uff0c\u8d85\u8fc760%\u5f973\u5206\uff0c\u8d85\u8fc750%\u5f974\u5206\u3002\u5f97\u5206\u4f4e\u4e8e50%\u7684\u5b66\u751f\u5f975\u5206\u5e76\u9700\u8981\u91cd\u8003\u3002\u7136\u540e\uff0c\u4e3a\u4e09\u540d\u5b66\u751f\u8c03\u7528\u8fd9\u4e2a\u51fd\u6570\uff0c\u4ed6\u4eec\u5728\u4e00\u6b21\u603b\u5206\u4e3a30\u5206\u7684\u8003\u8bd5\u4e2d\u5206\u522b\u5f97\u523015\u5206\u300125\u5206\u548c29\u5206\u3002"
   ]
  },
  {
   "cell_type": "code",
   "execution_count": null,
   "metadata": {},
   "outputs": [],
   "source": []
  }
 ],
 "metadata": {
  "kernelspec": {
   "display_name": "Python 3 (ipykernel)",
   "language": "python",
   "name": "python3"
  },
  "language_info": {
   "codemirror_mode": {
    "name": "ipython",
    "version": 3
   },
   "file_extension": ".py",
   "mimetype": "text/x-python",
   "name": "python",
   "nbconvert_exporter": "python",
   "pygments_lexer": "ipython3",
   "version": "3.9.0"
  },
  "toc": {
   "base_numbering": 1,
   "nav_menu": {},
   "number_sections": false,
   "sideBar": false,
   "skip_h1_title": false,
   "title_cell": "Table of Contents",
   "title_sidebar": "Contents",
   "toc_cell": false,
   "toc_position": {},
   "toc_section_display": false,
   "toc_window_display": false
  }
 },
 "nbformat": 4,
 "nbformat_minor": 4
}