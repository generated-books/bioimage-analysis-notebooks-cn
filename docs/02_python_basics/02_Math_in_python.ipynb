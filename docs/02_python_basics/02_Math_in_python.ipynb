{
 "cells": [
  {
   "cell_type": "markdown",
   "metadata": {
    "slideshow": {
     "slide_type": "slide"
    }
   },
   "source": [
    "# Python\u4e2d\u7684\u57fa\u7840\u6570\u5b66\u8fd0\u7b97\n",
    "\u4e3a\u4e86\u7406\u89e3Python\u7684\u5de5\u4f5c\u539f\u7406\uff0c\u6211\u4eec\u5c06\u4f7f\u7528\u53d8\u91cf\u548c\u51fd\u6570\u8fdb\u884c\u4e00\u4e9b\u57fa\u7840\u7684\u6570\u5b66\u8fd0\u7b97\u3002\u8fd9\u4e24\u8005\u5728Python\u4e2d\u626e\u6f14\u7740\u91cd\u8981\u89d2\u8272\uff0c\u5c06\u8d2f\u7a7f\u6211\u4eec\u6240\u6709\u7684\u7ae0\u8282\u3002\n",
    "\n",
    "\u5728\u4e0b\u4e00\u4e2a\u5355\u5143\u683c\u4e2d\uff0c\u6211\u4eec\u5b9a\u4e49\u4e00\u4e2a\u540d\u4e3a\"a\"\u7684\u53d8\u91cf\uff0c\u5e76\u4e3a\u5176\u8d4b\u503c`5`\u3002"
   ]
  },
  {
   "cell_type": "code",
   "execution_count": 1,
   "metadata": {},
   "outputs": [],
   "source": [
    "a = 5"
   ]
  },
  {
   "cell_type": "markdown",
   "metadata": {},
   "source": [
    "\u4e4b\u540e\uff0c\u6211\u4eec\u53ef\u4ee5\u91cd\u590d\u4f7f\u7528\u8fd9\u4e2a\u53d8\u91cf\uff0c\u4f8b\u5982\u5c06\u5176\u6253\u5370\u51fa\u6765\uff1a"
   ]
  },
  {
   "cell_type": "code",
   "execution_count": 2,
   "metadata": {},
   "outputs": [
    {
     "name": "stdout",
     "output_type": "stream",
     "text": [
      "5\n"
     ]
    }
   ],
   "source": [
    "print(a)"
   ]
  },
  {
   "cell_type": "markdown",
   "metadata": {},
   "source": [
    "\u6709\u65f6\uff0c\u5728\u6253\u5370\u53d8\u91cf\u65f6\u6dfb\u52a0\u4e00\u4e9b\u989d\u5916\u7684\u89e3\u91ca\u6027\u6587\u672c\u53ef\u80fd\u4f1a\u6709\u5e2e\u52a9\uff1a"
   ]
  },
  {
   "cell_type": "code",
   "execution_count": 3,
   "metadata": {},
   "outputs": [
    {
     "name": "stdout",
     "output_type": "stream",
     "text": [
      "The area is 5\n"
     ]
    }
   ],
   "source": [
    "print(\"The area is\", a)"
   ]
  },
  {
   "cell_type": "markdown",
   "metadata": {},
   "source": [
    "\u9700\u8981\u5f3a\u8c03\u7684\u662f\uff0c\u826f\u597d\u7684\u79d1\u5b66\u5b9e\u8df5\u8fd8\u5305\u62ec\u6dfb\u52a0\u7269\u7406\u5355\u4f4d\u3002"
   ]
  },
  {
   "cell_type": "code",
   "execution_count": 4,
   "metadata": {},
   "outputs": [
    {
     "name": "stdout",
     "output_type": "stream",
     "text": [
      "The area is 5 mm^2\n"
     ]
    }
   ],
   "source": [
    "print(\"The area is\", a, \"mm^2\")"
   ]
  },
  {
   "cell_type": "markdown",
   "metadata": {},
   "source": [
    "\u6211\u4eec\u53ef\u4ee5\u4f7f\u7528\u591a\u4e2a\u53d8\u91cf\uff0c\u5e76\u4f7f\u7528\u6570\u5b66\u8fd0\u7b97\u7b26\u7ec4\u5408\u5b83\u4eec\uff1a"
   ]
  },
  {
   "cell_type": "code",
   "execution_count": 5,
   "metadata": {},
   "outputs": [],
   "source": [
    "b = 3\n",
    "c = a + b"
   ]
  },
  {
   "cell_type": "code",
   "execution_count": 6,
   "metadata": {},
   "outputs": [
    {
     "name": "stdout",
     "output_type": "stream",
     "text": [
      "8\n"
     ]
    }
   ],
   "source": [
    "print(c)"
   ]
  },
  {
   "cell_type": "code",
   "execution_count": 7,
   "metadata": {},
   "outputs": [],
   "source": [
    "d = 6\n",
    "e = 7\n",
    "f = a * d\n",
    "g = f / e\n",
    "h = 1 + g"
   ]
  },
  {
   "cell_type": "code",
   "execution_count": 8,
   "metadata": {},
   "outputs": [
    {
     "name": "stdout",
     "output_type": "stream",
     "text": [
      "5.285714285714286\n"
     ]
    }
   ],
   "source": [
    "print(h)"
   ]
  },
  {
   "cell_type": "markdown",
   "metadata": {},
   "source": [
    "\u6211\u4eec\u8fd8\u53ef\u4ee5\u901a\u8fc7\u5c06\u53d8\u91cf\u6216\u8868\u8fbe\u5f0f\uff08\u53d8\u91cf\u7684\u7ec4\u5408\uff09\u5355\u72ec\u653e\u5728\u4e00\u4e2a\u5355\u5143\u683c\u4e2d\u6765\u83b7\u53d6\u5176\u503c\u3002"
   ]
  },
  {
   "cell_type": "code",
   "execution_count": 9,
   "metadata": {},
   "outputs": [
    {
     "data": {
      "text/plain": [
       "5.285714285714286"
      ]
     },
     "execution_count": 9,
     "metadata": {},
     "output_type": "execute_result"
    }
   ],
   "source": [
    "h"
   ]
  },
  {
   "cell_type": "code",
   "execution_count": 10,
   "metadata": {},
   "outputs": [
    {
     "data": {
      "text/plain": [
       "8"
      ]
     },
     "execution_count": 10,
     "metadata": {},
     "output_type": "execute_result"
    }
   ],
   "source": [
    "a + b"
   ]
  },
  {
   "cell_type": "markdown",
   "metadata": {},
   "source": [
    "\u5982\u679c\u4f60\u6267\u884c\u975e\u6cd5\u64cd\u4f5c\uff0c\u6bd4\u5982\u9664\u4ee5\u96f6\uff0c\u4f60\u4f1a\u6536\u5230\u7c7b\u4f3c\u8fd9\u6837\u7684\u9519\u8bef\u4fe1\u606f\uff1a"
   ]
  },
  {
   "cell_type": "code",
   "execution_count": 11,
   "metadata": {},
   "outputs": [
    {
     "ename": "ZeroDivisionError",
     "evalue": "division by zero",
     "output_type": "error",
     "traceback": [
      "\u001b[0;31m---------------------------------------------------------------------------\u001b[0m",
      "\u001b[0;31mZeroDivisionError\u001b[0m                         Traceback (most recent call last)",
      "Input \u001b[0;32mIn [11]\u001b[0m, in \u001b[0;36m<module>\u001b[0;34m\u001b[0m\n\u001b[0;32m----> 1\u001b[0m \u001b[43ma\u001b[49m\u001b[43m \u001b[49m\u001b[38;5;241;43m/\u001b[39;49m\u001b[43m \u001b[49m\u001b[38;5;241;43m0\u001b[39;49m\n",
      "\u001b[0;31mZeroDivisionError\u001b[0m: division by zero"
     ]
    }
   ],
   "source": [
    "a / 0"
   ]
  },
  {
   "cell_type": "markdown",
   "metadata": {},
   "source": [
    "\u5982\u679c\u53d8\u91cf\u672a\u5b9a\u4e49\uff0c\u4f60\u4f1a\u6536\u5230\u7c7b\u4f3c\u8fd9\u6837\u7684\u9519\u8bef\u4fe1\u606f\uff1a"
   ]
  },
  {
   "cell_type": "code",
   "execution_count": 12,
   "metadata": {},
   "outputs": [
    {
     "ename": "NameError",
     "evalue": "name 'k' is not defined",
     "output_type": "error",
     "traceback": [
      "\u001b[0;31m---------------------------------------------------------------------------\u001b[0m",
      "\u001b[0;31mNameError\u001b[0m                                 Traceback (most recent call last)",
      "Input \u001b[0;32mIn [12]\u001b[0m, in \u001b[0;36m<module>\u001b[0;34m\u001b[0m\n\u001b[0;32m----> 1\u001b[0m a \u001b[38;5;241m/\u001b[39m \u001b[43mk\u001b[49m\n",
      "\u001b[0;31mNameError\u001b[0m: name 'k' is not defined"
     ]
    }
   ],
   "source": [
    "a / k"
   ]
  },
  {
   "cell_type": "markdown",
   "metadata": {},
   "source": [
    "# \u5185\u7f6e\u6570\u5b66\u51fd\u6570\n",
    "Python\u81ea\u5e26\u4e00\u7cfb\u5217[\u5185\u7f6e\u51fd\u6570](https://docs.python.org/3/library/functions.html)"
   ]
  },
  {
   "cell_type": "code",
   "execution_count": 13,
   "metadata": {},
   "outputs": [
    {
     "data": {
      "text/plain": [
       "9"
      ]
     },
     "execution_count": 13,
     "metadata": {},
     "output_type": "execute_result"
    }
   ],
   "source": [
    "pow(3, 2)"
   ]
  },
  {
   "cell_type": "code",
   "execution_count": 14,
   "metadata": {},
   "outputs": [
    {
     "data": {
      "text/plain": [
       "8"
      ]
     },
     "execution_count": 14,
     "metadata": {},
     "output_type": "execute_result"
    }
   ],
   "source": [
    "abs(-8)"
   ]
  },
  {
   "cell_type": "code",
   "execution_count": 15,
   "metadata": {},
   "outputs": [
    {
     "data": {
      "text/plain": [
       "5"
      ]
     },
     "execution_count": 15,
     "metadata": {},
     "output_type": "execute_result"
    }
   ],
   "source": [
    "round(4.6)"
   ]
  },
  {
   "cell_type": "markdown",
   "metadata": {},
   "source": [
    "\u8fd9\u4e9b\u64cd\u4f5c\u4e2d\u7684\u4e00\u4e9b\u53ef\u80fd\u5e76\u4e0d\u5b8c\u5168\u7b26\u5408\u4f60\u7684\u9884\u671f\u3002\u6700\u597d\u5728\u4f7f\u7528\u4e4b\u524d\u5148\u5c1d\u8bd5\u4e00\u4e0b\u3002"
   ]
  },
  {
   "cell_type": "code",
   "execution_count": 16,
   "metadata": {},
   "outputs": [
    {
     "data": {
      "text/plain": [
       "4"
      ]
     },
     "execution_count": 16,
     "metadata": {},
     "output_type": "execute_result"
    }
   ],
   "source": [
    "round(4.5)"
   ]
  },
  {
   "cell_type": "code",
   "execution_count": 17,
   "metadata": {},
   "outputs": [
    {
     "data": {
      "text/plain": [
       "6"
      ]
     },
     "execution_count": 17,
     "metadata": {},
     "output_type": "execute_result"
    }
   ],
   "source": [
    "round(5.5)"
   ]
  },
  {
   "cell_type": "code",
   "execution_count": 18,
   "metadata": {},
   "outputs": [
    {
     "data": {
      "text/plain": [
       "6"
      ]
     },
     "execution_count": 18,
     "metadata": {},
     "output_type": "execute_result"
    }
   ],
   "source": [
    "round(6.5)"
   ]
  },
  {
   "cell_type": "code",
   "execution_count": 19,
   "metadata": {},
   "outputs": [
    {
     "data": {
      "text/plain": [
       "8"
      ]
     },
     "execution_count": 19,
     "metadata": {},
     "output_type": "execute_result"
    }
   ],
   "source": [
    "round(7.5)"
   ]
  },
  {
   "cell_type": "markdown",
   "metadata": {},
   "source": [
    "\u987a\u4fbf\u8bf4\u4e00\u4e0b\uff0c\u6211\u4eec\u8fd8\u53ef\u4ee5\u5728\u7b14\u8bb0\u672c\u4e2d\u7ec4\u5408\u591a\u4e2a\u8868\u8fbe\u5f0f\u6765\u6253\u5370\u4e2d\u95f4\u7ed3\u679c\uff0c\u800c\u4e0d\u4f1a\u6d6a\u8d39\u592a\u591a\u7a7a\u95f4\u3002"
   ]
  },
  {
   "cell_type": "code",
   "execution_count": 20,
   "metadata": {},
   "outputs": [
    {
     "data": {
      "text/plain": [
       "(4, 6, 6, 8)"
      ]
     },
     "execution_count": 20,
     "metadata": {},
     "output_type": "execute_result"
    }
   ],
   "source": [
    "round(4.5), round(5.5), round(6.5), round(7.5)"
   ]
  },
  {
   "cell_type": "markdown",
   "metadata": {},
   "source": [
    "## math\u5e93\n",
    "Python\u9884\u88c5\u4e86\u4e00\u4e2a\u5305\u542b\u989d\u5916[\u6570\u5b66\u51fd\u6570](https://docs.python.org/3/library/math.html)\u7684\u5e93\u3002\u5728\u4f7f\u7528\u8fd9\u4e9b\u51fd\u6570\u4e4b\u524d\uff0c\u4f60\u9700\u8981\u5bfc\u5165\u8fd9\u4e2a\u5e93\u3002\u5426\u5219\uff0c\u4f60\u4f1a\u6536\u5230\u7c7b\u4f3c\u8fd9\u6837\u7684\u9519\u8bef\uff1a"
   ]
  },
  {
   "cell_type": "code",
   "execution_count": 21,
   "metadata": {},
   "outputs": [
    {
     "ename": "NameError",
     "evalue": "name 'math' is not defined",
     "output_type": "error",
     "traceback": [
      "\u001b[0;31m---------------------------------------------------------------------------\u001b[0m",
      "\u001b[0;31mNameError\u001b[0m                                 Traceback (most recent call last)",
      "Input \u001b[0;32mIn [21]\u001b[0m, in \u001b[0;36m<module>\u001b[0;34m\u001b[0m\n\u001b[0;32m----> 1\u001b[0m \u001b[43mmath\u001b[49m\u001b[38;5;241m.\u001b[39msqrt(\u001b[38;5;241m9\u001b[39m)\n",
      "\u001b[0;31mNameError\u001b[0m: name 'math' is not defined"
     ]
    }
   ],
   "source": [
    "math.sqrt(9)"
   ]
  },
  {
   "cell_type": "markdown",
   "metadata": {},
   "source": [
    "\u5728\u5bfc\u5165\u5e93\u65f6\uff0c\u4f60\u544a\u8bc9Python\u89e3\u91ca\u5668\u4f60\u60f3\u4f7f\u7528\u7ed9\u5b9a\u5e93\u4e2d\u7684\u6240\u6709\u5185\u5bb9\uff0c\u5728\u6211\u4eec\u7684\u4f8b\u5b50\u4e2d\u662f\"math\"\uff1a"
   ]
  },
  {
   "cell_type": "code",
   "execution_count": 22,
   "metadata": {},
   "outputs": [],
   "source": [
    "import math"
   ]
  },
  {
   "cell_type": "markdown",
   "metadata": {},
   "source": [
    "\u5bfc\u5165\"math\"\u5e93\u540e\uff0c\u4f60\u5c31\u53ef\u4ee5\u4f7f\u7528math\u4e2d\u7684\u51fd\u6570\u4e86\u3002"
   ]
  },
  {
   "cell_type": "code",
   "execution_count": 23,
   "metadata": {},
   "outputs": [
    {
     "data": {
      "text/plain": [
       "3.0"
      ]
     },
     "execution_count": 23,
     "metadata": {},
     "output_type": "execute_result"
    }
   ],
   "source": [
    "math.sqrt(9)"
   ]
  },
  {
   "cell_type": "markdown",
   "metadata": {},
   "source": [
    "# \u7ec3\u4e60\n",
    "\u5047\u8bbe\u4f60\u6709\u4e24\u4e2a\u70b9\uff0c\u7531\u5b83\u4eec\u7684x\u548cy\u5750\u6807\u6307\u5b9a\u3002\u8ba1\u7b97\u5b83\u4eec\u4e4b\u95f4\u7684[\u6b27\u51e0\u91cc\u5f97\u8ddd\u79bb](https://en.wikipedia.org/wiki/Euclidean_distance#Two_dimensions)\u3002"
   ]
  },
  {
   "cell_type": "code",
   "execution_count": 24,
   "metadata": {},
   "outputs": [],
   "source": [
    "x1 = 5\n",
    "y1 = 3\n",
    "\n",
    "x2 = 8\n",
    "y2 = 11"
   ]
  },
  {
   "cell_type": "code",
   "execution_count": null,
   "metadata": {},
   "outputs": [],
   "source": []
  }
 ],
 "metadata": {
  "kernelspec": {
   "display_name": "Python 3 (ipykernel)",
   "language": "python",
   "name": "python3"
  },
  "language_info": {
   "codemirror_mode": {
    "name": "ipython",
    "version": 3
   },
   "file_extension": ".py",
   "mimetype": "text/x-python",
   "name": "python",
   "nbconvert_exporter": "python",
   "pygments_lexer": "ipython3",
   "version": "3.9.0"
  }
 },
 "nbformat": 4,
 "nbformat_minor": 4
}