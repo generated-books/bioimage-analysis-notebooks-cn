{
 "cells": [
  {
   "cell_type": "markdown",
   "metadata": {
    "slideshow": {
     "slide_type": "slide"
    }
   },
   "source": [
    "# Jupyter\u7b14\u8bb0\u672c\u4e2d\u7684Python\u4ee3\u7801\n",
    "Python\u4ee3\u7801\u53ef\u4ee5\u5199\u5728\".py\"\u6587\u4ef6\u4e2d\uff0c\u5e76\u53ef\u4ee5\u4ece\u547d\u4ee4\u884c\u6267\u884c\u3002\u6b64\u5916\uff0c\u51fa\u4e8e\u5b66\u672f\u76ee\u7684\uff0c[Jupyter\u7b14\u8bb0\u672c](https://jupyter-notebook.readthedocs.io/en/stable/)\u7ecf\u5e38\u88ab\u7528\u6765\u8bb0\u5f55\u4ee3\u7801\u7684\u529f\u80fd\uff0c\u5e76\u6dfb\u52a0\u989d\u5916\u7684\u89e3\u91ca\u548c\u8d44\u6e90\u94fe\u63a5\u3002\n",
    "\n",
    "\u53e6\u8bf7\u53c2\u9605\n",
    "* [Python 3 \u6587\u6863](https://docs.python.org/3)\n",
    "* [Carpentries\u7684Python\u57fa\u7840\u77e5\u8bc6](https://swcarpentry.github.io/python-novice-inflammation/)\n",
    "* [Digital Sreeni\u7684\u56fe\u50cf\u5904\u7406\u548c\u673a\u5668\u5b66\u4e60Python\u6559\u7a0b](https://www.youtube.com/playlist?list=PLZsOBAyNTZwYHBIlu_PUO19M7aHMgwBJr)\n",
    "\n",
    "\u8981\u7f16\u5199\u6211\u4eec\u7684\u7b2c\u4e00\u4e2a\u7b80\u5355Python\u7a0b\u5e8f\uff0c\u6211\u4eec\u5728\u4e0b\u9762\u7684Jupyter\u7b14\u8bb0\u672c\u4ee3\u7801\u5355\u5143\u683c\u4e2d\u8f93\u5165\u3002\u4f60\u53ef\u4ee5\u53cc\u51fb\u6b64\u5355\u5143\u683c\uff0c\u66f4\u6539\u4ee3\u7801\u5e76\u901a\u8fc7\u6309SHIFT+ENTER\u6267\u884c\u5b83\uff1a"
   ]
  },
  {
   "cell_type": "code",
   "execution_count": 2,
   "metadata": {},
   "outputs": [
    {
     "name": "stdout",
     "output_type": "stream",
     "text": [
      "Hello world\n"
     ]
    }
   ],
   "source": [
    "print(\"Hello world\")"
   ]
  },
  {
   "cell_type": "markdown",
   "metadata": {},
   "source": [
    "* \u5728\u4f7f\u7528Jupyter\u7b14\u8bb0\u672c\u65f6\uff0c\u663e\u7136SHIFT-ENTER\u662f\u4eba\u4eec\u4e00\u76f4\u4f7f\u7528\u7684**\u4e3b\u8981**\u5feb\u6377\u952e\u3002\n",
    "* \u5982\u679c\u4f60\u60f3\"\u79bb\u5f00\"\u4e00\u4e2a\u5355\u5143\u683c\u800c\u4e0d\u6267\u884c\u5b83\uff0c\u4f60\u4e5f\u53ef\u4ee5\u6309ESCAPE\u3002\n",
    "* \u4f60\u53ef\u4ee5\u901a\u8fc7\u6309A\u5728\u5f53\u524d\u5355\u5143\u683c**\u4e0a\u65b9**\u6dfb\u52a0\u65b0\u5355\u5143\u683c\uff0c\u901a\u8fc7\u6309B\u5728**\u4e0b\u65b9**\u6dfb\u52a0\u65b0\u5355\u5143\u683c\u3002\n",
    "* \u4f60\u53ef\u4ee5\u901a\u8fc7\u6309D\u5220\u9664\u5355\u5143\u683c\u3002\n",
    "\n",
    "\u8fd8\u6709\u66f4\u591a\u5feb\u6377\u952e\u3002\u4f60\u53ef\u4ee5\u5728\u4e0a\u65b9\u83dc\u5355\u7684\u5e2e\u52a9 > \u952e\u76d8\u5feb\u6377\u952e\u4e2d\u67e5\u770b\u6240\u6709\u5feb\u6377\u952e\uff0c\u6216\u8005\u6309H\u952e\u3002\n",
    "\n",
    "\u8bd5\u8bd5\u770b\uff01"
   ]
  },
  {
   "cell_type": "code",
   "execution_count": null,
   "metadata": {},
   "outputs": [],
   "source": []
  },
  {
   "cell_type": "code",
   "execution_count": null,
   "metadata": {},
   "outputs": [],
   "source": []
  },
  {
   "cell_type": "code",
   "execution_count": null,
   "metadata": {},
   "outputs": [],
   "source": []
  },
  {
   "cell_type": "markdown",
   "metadata": {
    "slideshow": {
     "slide_type": "slide"
    }
   },
   "source": [
    "## Jupyter\u7b14\u8bb0\u672c\u4e2d\u7684Markdown\u6587\u6863\n",
    "Markdown\u662f\u4e00\u79cd\u7528\u4e8e\u63cf\u8ff0\u6587\u672c**\u683c\u5f0f**~\u7684~*\u7f16\u7801\u8bed\u8a00*\u3002\u8981\u67e5\u770b\u63cf\u8ff0\u6b64\u6587\u672c\u7684markdown\u4ee3\u7801\uff0c\u8bf7\u5728\u4f60\u7684Jupyter\u7b14\u8bb0\u672c\u4e2d\u53cc\u51fb\u6b64\u5355\u5143\u683c\u3002\u6309SHIFT+ENTER\u8fd4\u56de\u67e5\u770b\u6a21\u5f0f\u3002\n",
    "\n",
    "* \u9879\u76ee\u7b26\u53f7\n",
    "* \u66f4\u591a\u9879\u76ee\u7b26\u53f7\n",
    "  * \u66f4\u6df1\u5c42\u7684\u9879\u76ee\u7b26\u53f7\n",
    "\n",
    "1. \u5217\u8868\u6761\u76ee\n",
    "2. \u53e6\u4e00\u4e2a\u5217\u8868\u6761\u76ee\n",
    "4. \u66f4\u591a\u5217\u8868\u6761\u76ee\n",
    "8. [Markdown\u901f\u67e5\u8868](https://github.com/adam-p/markdown-here/wiki/Markdown-Cheatsheet)"
   ]
  },
  {
   "cell_type": "markdown",
   "metadata": {},
   "source": [
    "# \u7ec3\u4e60\n",
    "\u5728\u4e0b\u65b9\u6dfb\u52a0\u4e00\u4e2a\u65b0\u7684Python\u4ee3\u7801\u5355\u5143\u683c\uff0c\u5e76\u4f7f\u7528`print`\u547d\u4ee4\u6253\u5370\u4f60\u7684\u540d\u5b57\u3002"
   ]
  }
 ],
 "metadata": {
  "kernelspec": {
   "display_name": "Python 3 (ipykernel)",
   "language": "python",
   "name": "python3"
  },
  "language_info": {
   "codemirror_mode": {
    "name": "ipython",
    "version": 3
   },
   "file_extension": ".py",
   "mimetype": "text/x-python",
   "name": "python",
   "nbconvert_exporter": "python",
   "pygments_lexer": "ipython3",
   "version": "3.9.0"
  }
 },
 "nbformat": 4,
 "nbformat_minor": 4
}