{
 "cells": [
  {
   "cell_type": "markdown",
   "id": "13e2e653-e785-4944-b636-c5af8ac8479f",
   "metadata": {},
   "source": [
    "# \u4eceDOI.org\u8bfb\u53d6\u5143\u6570\u636e\n",
    "\u5728\u672c\u7b14\u8bb0\u672c\u4e2d\uff0c\u6211\u4eec\u5c06\u8bbf\u95eehttps://doi.org\u4e0a\u8bb0\u5f55\u7684\u5143\u6570\u636e\u3002"
   ]
  },
  {
   "cell_type": "code",
   "execution_count": 1,
   "id": "a9b1e8c9-5e06-469c-9026-fcd051c19f0d",
   "metadata": {},
   "outputs": [],
   "source": [
    "import requests\n",
    "import json"
   ]
  },
  {
   "cell_type": "markdown",
   "id": "7b076f43-2533-4266-887f-760be61820f6",
   "metadata": {},
   "source": [
    "\u4e3a\u6b64\uff0c\u6211\u4eec\u7f16\u5199\u4e00\u4e2a\u5c0f\u7684\u8f85\u52a9\u51fd\u6570\u3002"
   ]
  },
  {
   "cell_type": "code",
   "execution_count": 2,
   "id": "6d4c61b7-a34d-489c-a8c7-4cc379d0c6a6",
   "metadata": {},
   "outputs": [],
   "source": [
    "def read_doi(doi):\n",
    "    \"\"\"\n",
    "    Reads meta data of records in doi.org.\n",
    "    \"\"\"\n",
    "\n",
    "    doi = doi.replace(\"https://doi.org/\", \"\")\n",
    "    url = \"https://doi.org/api/handles/\" + doi\n",
    "    \n",
    "    # Download the file\n",
    "    response = requests.get(url)\n",
    "    data = response.json()\n",
    "    return data"
   ]
  },
  {
   "cell_type": "markdown",
   "id": "6b60eef3-afac-441d-ab87-e572bf0ae209",
   "metadata": {},
   "source": [
    "\u7136\u540e\u6211\u4eec\u53ef\u4ee5\u8c03\u7528\u8be5\u51fd\u6570\u5e76\u5c06\u7ed3\u679c\u5b58\u50a8\u5728\u4e00\u4e2a`data`\u5bf9\u8c61\u4e2d\u3002"
   ]
  },
  {
   "cell_type": "code",
   "execution_count": 3,
   "id": "dd0e3c6a-0fb3-4cae-b763-7fc5bb0dd2b8",
   "metadata": {},
   "outputs": [
    {
     "data": {
      "text/plain": [
       "{'responseCode': 1,\n",
       " 'handle': '10.5281/zenodo.3833824',\n",
       " 'values': [{'index': 100,\n",
       "   'type': 'HS_ADMIN',\n",
       "   'data': {'format': 'admin',\n",
       "    'value': {'handle': '10.admin/codata',\n",
       "     'index': 300,\n",
       "     'permissions': '111111111111'}},\n",
       "   'ttl': 86400,\n",
       "   'timestamp': '2020-05-19T10:28:11Z'},\n",
       "  {'index': 1,\n",
       "   'type': 'URL',\n",
       "   'data': {'format': 'string', 'value': 'https://zenodo.org/record/3833824'},\n",
       "   'ttl': 86400,\n",
       "   'timestamp': '2020-05-19T10:28:11Z'}]}"
      ]
     },
     "execution_count": 3,
     "metadata": {},
     "output_type": "execute_result"
    }
   ],
   "source": [
    "data = read_doi(\"https://doi.org/10.5281/zenodo.3833824\")\n",
    "data"
   ]
  },
  {
   "cell_type": "markdown",
   "id": "69457d57-6b3b-481b-9d14-ba8d8a9b0c12",
   "metadata": {},
   "source": [
    "\u8fd9\u4e2a[json](https://www.json.org/json-en.html)\u5bf9\u8c61\u7531Python\u5b57\u5178\u548c\u5217\u8868\u7ec4\u6210\u3002\u6211\u4eec\u53ef\u4ee5\u901a\u8fc7\u8fd9\u4e9b\u6765\u5bfc\u822a\u5e76\u63d0\u53d6\u4fe1\u606f\u3002"
   ]
  },
  {
   "cell_type": "code",
   "execution_count": 4,
   "id": "59897f15-2db0-4fa3-8029-af8dc9d941de",
   "metadata": {},
   "outputs": [
    {
     "data": {
      "text/plain": [
       "{'index': 100,\n",
       " 'type': 'HS_ADMIN',\n",
       " 'data': {'format': 'admin',\n",
       "  'value': {'handle': '10.admin/codata',\n",
       "   'index': 300,\n",
       "   'permissions': '111111111111'}},\n",
       " 'ttl': 86400,\n",
       " 'timestamp': '2020-05-19T10:28:11Z'}"
      ]
     },
     "execution_count": 4,
     "metadata": {},
     "output_type": "execute_result"
    }
   ],
   "source": [
    "data['values'][0]"
   ]
  },
  {
   "cell_type": "markdown",
   "id": "9ce5a0f4-bbbe-4b18-92bb-3dfe9f5e1dc5",
   "metadata": {},
   "source": [
    "## \u7ec3\u4e60 \n",
    "\u627e\u51fa\u4e0a\u8ff0DOI\u7684\u4f5c\u8005\u3002"
   ]
  }
 ],
 "metadata": {
  "kernelspec": {
   "display_name": "Python 3 (ipykernel)",
   "language": "python",
   "name": "python3"
  },
  "language_info": {
   "codemirror_mode": {
    "name": "ipython",
    "version": 3
   },
   "file_extension": ".py",
   "mimetype": "text/x-python",
   "name": "python",
   "nbconvert_exporter": "python",
   "pygments_lexer": "ipython3",
   "version": "3.9.16"
  }
 },
 "nbformat": 4,
 "nbformat_minor": 5
}