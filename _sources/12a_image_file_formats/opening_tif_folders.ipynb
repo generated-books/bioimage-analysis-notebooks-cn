{
 "cells": [
  {
   "cell_type": "markdown",
   "id": "71f84baf-4332-4a4f-8b04-989417f0dac4",
   "metadata": {},
   "source": [
    "# \u52a0\u8f7d\u591a\u901a\u9053/\u591a\u4f4d\u7f6e\u7684tif\u6587\u4ef6\u5939\n",
    "\u4e00\u4e9b\u663e\u5fae\u955c\u4f1a\u5c06\u56fe\u50cf\u6570\u636e\u9010\u7247\u5199\u5165\u78c1\u76d8\u4f5c\u4e3atif\u6587\u4ef6\u3002\u4f60\u4f1a\u5728\u8fd9\u4e9b\u6587\u4ef6\u5939\u4e2d\u627e\u5230\u8bb8\u591a\u540d\u4e3a`image_z03_ch01.tif`\u4e4b\u7c7b\u7684\u6587\u4ef6\u3002\u8981\u52a0\u8f7d\u8fd9\u4e9b\u6587\u4ef6\u5939\uff0c\u4f60\u901a\u5e38\u9700\u8981\u77e5\u9053\u4e00\u4e9b\u7ec6\u8282\uff0c\u6bd4\u5982\u6709\u591a\u5c11Z\u5207\u7247\u548c\u591a\u5c11\u901a\u9053\u88ab\u6210\u50cf\uff0c\u6216\u8005\u56fe\u50cf\u6570\u636e\u662f\u5426\u6709\u591a\u4e2a\u65f6\u95f4\u70b9\u3002\n",
    "\n",
    "\u53e6\u8bf7\u53c2\u9605[\u8fd9\u4e2a\u8ba8\u8bba](https://forum.image.sc/t/reading-2d-images-as-a-multi-channel-3d-stack-in-python/75460)\u3002"
   ]
  },
  {
   "cell_type": "code",
   "execution_count": 1,
   "id": "5dcadd94-3c42-435a-a4cc-52082757b13c",
   "metadata": {},
   "outputs": [],
   "source": [
    "from skimage import io\n",
    "import matplotlib.pyplot as plt\n",
    "import tifffile as tif\n",
    "import numpy as np\n",
    "\n",
    "import shutil\n",
    "import os\n",
    "\n",
    "path = \"../../data/tif_folder/\""
   ]
  },
  {
   "cell_type": "markdown",
   "id": "d16d6962-3e29-4b93-a1b9-54d2d7b9c539",
   "metadata": {},
   "source": [
    "\u4e3a\u4e86\u6f14\u793a\u76ee\u7684\uff0c\u6211\u4eec\u53ea\u662f\u521b\u5efa\u8fd9\u6837\u4e00\u4e2a\u5305\u542b\u865a\u62df\u56fe\u50cf\u6570\u636e\u7684\u6587\u4ef6\u5939\u3002"
   ]
  },
  {
   "cell_type": "code",
   "execution_count": 2,
   "id": "c4d89a5f-5f7d-44e2-b350-4a8a8ec11040",
   "metadata": {},
   "outputs": [],
   "source": [
    "if not os.path.exists(path):\n",
    "    os.mkdir(path)"
   ]
  },
  {
   "cell_type": "code",
   "execution_count": 3,
   "id": "f5cc4c11-b95e-406a-b16d-f02a98f40ccd",
   "metadata": {},
   "outputs": [],
   "source": [
    "for z in range(1,7):\n",
    "    for c in range(1,5):\n",
    "        #image = io.imread(\"c:/structure/data/blobs.tif\")\n",
    "        #io.imsave(f\"c:/structure/data/images/r01c01f34p0{z}-ch0{c}t01.tiff\", image)\n",
    "        \n",
    "        shutil.copy(\"../../data/blobs.tif\",\n",
    "                    path + f\"image_z{str(z).zfill(2)}-ch{str(c).zfill(2)}.tiff\")"
   ]
  },
  {
   "cell_type": "markdown",
   "id": "2d57f8f6-52e3-454f-a05f-34c28b20cbc0",
   "metadata": {},
   "source": [
    "\u4e3a\u4e86\u83b7\u5f97\u6982\u89c8\uff0c\u6211\u4eec\u53ef\u4ee5\u6253\u5370\u51fa\u6587\u4ef6\u5939\u4e2d\u7684\u6587\u4ef6\u540d\u3002"
   ]
  },
  {
   "cell_type": "code",
   "execution_count": 4,
   "id": "bbf4b820-b7ab-4406-8ee0-90469159aa25",
   "metadata": {},
   "outputs": [
    {
     "name": "stdout",
     "output_type": "stream",
     "text": [
      "image_z01-ch01.tiff\n",
      "image_z01-ch02.tiff\n",
      "image_z01-ch03.tiff\n",
      "image_z01-ch04.tiff\n",
      "image_z02-ch01.tiff\n",
      "image_z02-ch02.tiff\n",
      "image_z02-ch03.tiff\n",
      "image_z02-ch04.tiff\n",
      "image_z03-ch01.tiff\n",
      "image_z03-ch02.tiff\n",
      "image_z03-ch03.tiff\n",
      "image_z03-ch04.tiff\n",
      "image_z04-ch01.tiff\n",
      "image_z04-ch02.tiff\n",
      "image_z04-ch03.tiff\n",
      "image_z04-ch04.tiff\n",
      "image_z05-ch01.tiff\n",
      "image_z05-ch02.tiff\n",
      "image_z05-ch03.tiff\n",
      "image_z05-ch04.tiff\n",
      "image_z06-ch01.tiff\n",
      "image_z06-ch02.tiff\n",
      "image_z06-ch03.tiff\n",
      "image_z06-ch04.tiff\n"
     ]
    }
   ],
   "source": [
    "for file in os.listdir(path):\n",
    "    print(file)"
   ]
  },
  {
   "cell_type": "markdown",
   "id": "fecc5d69-2f8c-4c05-89d2-41b40616b916",
   "metadata": {},
   "source": [
    "scikit-image\u63d0\u4f9b\u4e86\u4e00\u4e2a[`imread_collection`](https://scikit-image.org/docs/stable/api/skimage.io.html#skimage.io.imread_collection)\u7528\u4e8e\u52a0\u8f7d\u5339\u914d\u67d0\u79cd\u6a21\u5f0f\u7684\u6587\u4ef6\uff0c\u4f8b\u5982\u5305\u542b`*`\u7684\u6587\u4ef6\u3002"
   ]
  },
  {
   "cell_type": "code",
   "execution_count": 5,
   "id": "4ee85a79-0c8e-4d1b-a2a5-b563c25d8b39",
   "metadata": {},
   "outputs": [
    {
     "data": {
      "text/plain": [
       "<skimage.io.collection.ImageCollection at 0x2244cd228e0>"
      ]
     },
     "execution_count": 5,
     "metadata": {},
     "output_type": "execute_result"
    }
   ],
   "source": [
    "im_collection = io.imread_collection(path + \"*\")\n",
    "im_collection"
   ]
  },
  {
   "cell_type": "markdown",
   "id": "118f72a7-9124-4970-9d3a-95e78c4635bd",
   "metadata": {},
   "source": [
    "\u4f60\u53ef\u4ee5\u5c06\u8fd9\u4e2a\u56fe\u50cf\u96c6\u5408\u8f6c\u6362\u4e3a\u57fa\u4e8enumpy\u6570\u7ec4\u7684\u56fe\u50cf\u5806\u6808\u3002\u4e0d\u5e78\u7684\u662f\uff0c\u6b64\u65f6Z\u5207\u7247\u548c\u901a\u9053\u7684\u6570\u91cf\u662f\u672a\u77e5\u7684\u3002"
   ]
  },
  {
   "cell_type": "code",
   "execution_count": 6,
   "id": "61ebcdcd-a8f8-4b7f-a6e6-470541e14d1b",
   "metadata": {},
   "outputs": [
    {
     "data": {
      "text/plain": [
       "(24, 254, 256)"
      ]
     },
     "execution_count": 6,
     "metadata": {},
     "output_type": "execute_result"
    }
   ],
   "source": [
    "image_stack = im_collection.concatenate()\n",
    "image_stack.shape"
   ]
  },
  {
   "cell_type": "markdown",
   "id": "ed8a414b-6b3d-4898-a2cb-be04fe5f2bdc",
   "metadata": {},
   "source": [
    "\u5982\u679c\u4f60\u77e5\u9053Z\u5207\u7247\u548c\u901a\u9053\u7684\u6570\u91cf\uff0c\u4f60\u53ef\u4ee5\u4f7f\u7528[`reshape`]()\u5c06\u56fe\u50cf\u91cd\u5851\u4e3a3D+\u901a\u9053\u62164D\u56fe\u50cf\u3002"
   ]
  },
  {
   "cell_type": "code",
   "execution_count": 7,
   "id": "56260861-930d-4faf-9fea-ef16be53a4ab",
   "metadata": {},
   "outputs": [
    {
     "data": {
      "text/plain": [
       "(4, 6, 254, 256)"
      ]
     },
     "execution_count": 7,
     "metadata": {},
     "output_type": "execute_result"
    }
   ],
   "source": [
    "num_channels = 4\n",
    "num_z_slices = 6\n",
    "image4d = np.reshape(image_stack, (num_channels, num_z_slices, image_stack.shape[-2], image_stack.shape[-1]))\n",
    "image4d.shape"
   ]
  },
  {
   "cell_type": "markdown",
   "id": "5eb92aad-91b4-444b-977f-996ba6bec1ff",
   "metadata": {},
   "source": [
    "\u6216\u8005\uff0c\u4f60\u4e5f\u53ef\u4ee5\u6784\u5efa\u81ea\u5df1\u7684for\u5faa\u73af\u6765\u4ece\u78c1\u76d8\u52a0\u8f7d\u6570\u636e\u3002\u8fd9\u7ed9\u4f60\u63d0\u4f9b\u4e86\u66f4\u591a\u7684\u81ea\u7531\uff0c\u4f8b\u5982\u5c06\u5207\u7247\u548c\u901a\u9053\u6392\u5e8f\u5230\u4f7f\u7528\u7684\u7ef4\u5ea6\u4e2d\u3002"
   ]
  },
  {
   "cell_type": "code",
   "execution_count": 8,
   "id": "bf1fa78a-de06-406c-97d8-fc42a1627ed7",
   "metadata": {},
   "outputs": [
    {
     "data": {
      "text/plain": [
       "(6, 4, 254, 256)"
      ]
     },
     "execution_count": 8,
     "metadata": {},
     "output_type": "execute_result"
    }
   ],
   "source": [
    "num_channels = 4\n",
    "num_z_slices = 6\n",
    "\n",
    "image4d_loaded = np.asarray([\n",
    "    [io.imread(path + f\"image_z{str(z).zfill(2)}-ch{str(c).zfill(2)}.tiff\") for c in range(1, 5)]\n",
    "    for z in range(1, 7)\n",
    "])\n",
    "image4d_loaded.shape"
   ]
  },
  {
   "cell_type": "code",
   "execution_count": null,
   "id": "ae87cfa4-5acd-4e98-a520-bd04be1d54ab",
   "metadata": {},
   "outputs": [],
   "source": []
  }
 ],
 "metadata": {
  "kernelspec": {
   "display_name": "Python 3 (ipykernel)",
   "language": "python",
   "name": "python3"
  },
  "language_info": {
   "codemirror_mode": {
    "name": "ipython",
    "version": 3
   },
   "file_extension": ".py",
   "mimetype": "text/x-python",
   "name": "python",
   "nbconvert_exporter": "python",
   "pygments_lexer": "ipython3",
   "version": "3.9.15"
  },
  "widgets": {
   "application/vnd.jupyter.widget-state+json": {
    "state": {},
    "version_major": 2,
    "version_minor": 0
   }
  }
 },
 "nbformat": 4,
 "nbformat_minor": 5
}