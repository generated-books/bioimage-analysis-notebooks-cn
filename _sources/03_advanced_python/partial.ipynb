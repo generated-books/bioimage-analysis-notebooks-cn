{
 "cells": [
  {
   "cell_type": "markdown",
   "id": "406c429a-7821-4c45-8865-aacf55d61248",
   "metadata": {},
   "source": [
    "# \u504f\u51fd\u6570\n",
    "\u5728\u67d0\u4e9b\u4f7f\u7528\u573a\u666f\u4e2d\uff0c\u53ef\u80fd\u9700\u8981\u5c06\u4e00\u4e2a\u51fd\u6570\u53ca\u5176\u67d0\u4e9b\u53c2\u6570\u4e00\u8d77\u6536\u96c6\u5728\u4e00\u4e2a\u53d8\u91cf\u4e2d\u4ee5\u4fbf\u7a0d\u540e\u6267\u884c\u3002[functools\u7684`partial()`](https://docs.python.org/3/library/functools.html#functools.partial)\u4f7f\u8fd9\u6210\u4e3a\u53ef\u80fd\u3002"
   ]
  },
  {
   "cell_type": "code",
   "execution_count": 1,
   "id": "7ebf13ec-3c3e-4681-9292-a74b7259467c",
   "metadata": {},
   "outputs": [],
   "source": [
    "from functools import partial"
   ]
  },
  {
   "cell_type": "markdown",
   "id": "04cff01d-d240-468e-b628-09e92c05e01b",
   "metadata": {},
   "source": [
    "\u4e3a\u4e86\u6f14\u793a\u5b83\uff0c\u6211\u4eec\u5b9a\u4e49\u4e00\u4e2a\u793a\u4f8b\u51fd\u6570\u3002"
   ]
  },
  {
   "cell_type": "code",
   "execution_count": 2,
   "id": "d0e94864-cb14-4138-ba12-75af252da731",
   "metadata": {},
   "outputs": [],
   "source": [
    "def compute_sum(a, b):\n",
    "    return a + b"
   ]
  },
  {
   "cell_type": "markdown",
   "id": "57337bd4-40e2-4afa-88df-df7fb94ef24d",
   "metadata": {},
   "source": [
    "\u7136\u540e\u6211\u4eec\u53ef\u4ee5\u5c06\u8be5\u51fd\u6570\u4e0e\u53c2\u6570\u7ec4\u5408\u7684`partial`\u5bf9\u8c61\u5b58\u50a8\u5728\u4e00\u4e2a\u53d8\u91cf\u4e2d\u3002"
   ]
  },
  {
   "cell_type": "code",
   "execution_count": 3,
   "id": "30b803b4-b38c-4466-80e2-1b0c29319b0f",
   "metadata": {},
   "outputs": [],
   "source": [
    "sum_of_3_and_4 = partial(compute_sum, 3, 4)"
   ]
  },
  {
   "cell_type": "markdown",
   "id": "d185265c-c293-48d4-9eb2-79121b809478",
   "metadata": {},
   "source": [
    "\u8fd9\u4e2a\u5bf9\u8c61\u662f[\u53ef\u8c03\u7528\u7684](https://docs.python.org/3/library/typing.html#typing.Callable)\u3002"
   ]
  },
  {
   "cell_type": "code",
   "execution_count": 4,
   "id": "eaecf16d-f2e7-4a1e-a999-d01b2147763a",
   "metadata": {},
   "outputs": [
    {
     "data": {
      "text/plain": [
       "7"
      ]
     },
     "execution_count": 4,
     "metadata": {},
     "output_type": "execute_result"
    }
   ],
   "source": [
    "sum_of_3_and_4()"
   ]
  },
  {
   "cell_type": "markdown",
   "id": "988ee81d-d881-45db-9754-0b74642d3a45",
   "metadata": {},
   "source": [
    "## \u4fdd\u6301\u53c2\u6570\u672a\u8bbe\u7f6e\n",
    "\u4e5f\u53ef\u4ee5\u53ea\u90e8\u5206\u6307\u5b9a\u53c2\u6570\u3002"
   ]
  },
  {
   "cell_type": "code",
   "execution_count": 5,
   "id": "38385592-cd2a-4e71-baaa-70ed55304243",
   "metadata": {},
   "outputs": [],
   "source": [
    "sum_of_3_and_b = partial(compute_sum, 3)"
   ]
  },
  {
   "cell_type": "code",
   "execution_count": 6,
   "id": "2b8a0919-971c-44b6-ac11-a054bc9893de",
   "metadata": {},
   "outputs": [
    {
     "data": {
      "text/plain": [
       "12"
      ]
     },
     "execution_count": 6,
     "metadata": {},
     "output_type": "execute_result"
    }
   ],
   "source": [
    "sum_of_3_and_b(9)"
   ]
  },
  {
   "cell_type": "markdown",
   "id": "0b89c247-9124-4027-a7ab-dcbabe260f14",
   "metadata": {},
   "source": [
    "## \u4f20\u9012\u5173\u952e\u5b57\u53c2\u6570\n",
    "\u5b83\u4e5f\u9002\u7528\u4e8e\u5173\u952e\u5b57\u53c2\u6570\u3002"
   ]
  },
  {
   "cell_type": "code",
   "execution_count": 7,
   "id": "3e02d3be-19ab-4498-97b2-e5e7cd3e870c",
   "metadata": {},
   "outputs": [],
   "source": [
    "sum_of_a_and_4 = partial(compute_sum, b=4)"
   ]
  },
  {
   "cell_type": "code",
   "execution_count": 8,
   "id": "8e9b6ef5-ee4e-4160-b5f2-8878eb8e42ed",
   "metadata": {},
   "outputs": [
    {
     "data": {
      "text/plain": [
       "9"
      ]
     },
     "execution_count": 8,
     "metadata": {},
     "output_type": "execute_result"
    }
   ],
   "source": [
    "sum_of_a_and_4(5)"
   ]
  },
  {
   "cell_type": "code",
   "execution_count": 9,
   "id": "47cf1529-f687-46eb-bd6c-3cd36898ab72",
   "metadata": {},
   "outputs": [
    {
     "data": {
      "text/plain": [
       "5"
      ]
     },
     "execution_count": 9,
     "metadata": {},
     "output_type": "execute_result"
    }
   ],
   "source": [
    "sum_of_a_and_4(a=1)"
   ]
  },
  {
   "cell_type": "markdown",
   "id": "32af919d-a341-466d-b649-d80394221880",
   "metadata": {},
   "source": [
    "## \u7ec3\u4e60\n",
    "\u7f16\u5199\u4e00\u4e2a\u51fd\u6570\u6765\u786e\u5b9a\u4e24\u70b9\u4e4b\u95f4\u7684\u6b27\u51e0\u91cc\u5f97\u8ddd\u79bb\u3002\u4e4b\u540e\uff0c\u4f7f\u7528`partial`\u4f20\u9012\u4e00\u4e2a\u56fa\u5b9a\u70b9\uff0c\u5e76\u4f7f\u7528for\u5faa\u73af\u6253\u5370\u51fa\u4e00\u7cfb\u5217\u70b9\u7684\u8ddd\u79bb\u3002"
   ]
  },
  {
   "cell_type": "code",
   "execution_count": 10,
   "id": "afa7eef1-8e61-42fc-a7cf-3f7a66eb4775",
   "metadata": {},
   "outputs": [],
   "source": [
    "fixed_point = (1, 1, 1)\n",
    "list_of_points = [(2,1,1), (1,1,3), (2,2,2)]"
   ]
  },
  {
   "cell_type": "code",
   "execution_count": null,
   "id": "ab1be2f3-f99d-4a0f-8575-8bf0c042728f",
   "metadata": {},
   "outputs": [],
   "source": []
  },
  {
   "cell_type": "code",
   "execution_count": null,
   "id": "85e1e628-b528-4009-8b33-bfa06eb82cfd",
   "metadata": {},
   "outputs": [],
   "source": []
  }
 ],
 "metadata": {
  "kernelspec": {
   "display_name": "Python 3 (ipykernel)",
   "language": "python",
   "name": "python3"
  },
  "language_info": {
   "codemirror_mode": {
    "name": "ipython",
    "version": 3
   },
   "file_extension": ".py",
   "mimetype": "text/x-python",
   "name": "python",
   "nbconvert_exporter": "python",
   "pygments_lexer": "ipython3",
   "version": "3.9.7"
  }
 },
 "nbformat": 4,
 "nbformat_minor": 5
}