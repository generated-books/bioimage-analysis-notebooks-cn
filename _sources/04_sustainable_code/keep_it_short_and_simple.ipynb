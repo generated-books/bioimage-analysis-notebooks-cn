{
 "cells": [
  {
   "cell_type": "markdown",
   "id": "3b28cebb-8400-491d-bb63-88d634749a05",
   "metadata": {},
   "source": [
    "# \u4fdd\u6301\u7b80\u77ed\u548c\u7b80\u5355\n",
    "Python\u5177\u6709\u4ee4\u4eba\u60ca\u53f9\u7684\u529f\u80fd\uff0c\u4f7f\u6211\u4eec\u80fd\u591f\u7f16\u519921\u4e16\u7eaa\u7684\u4ee3\u7801\u3002\u4f8b\u5982\uff0c\u6211\u4eec\u53ef\u4ee5\u5c06\u51fd\u6570\u548c\u53c2\u6570\u6536\u96c6\u5728\u5217\u8868\u4e2d\uff0c\u7136\u540e\u4ece\u5faa\u73af\u4e2d\u8c03\u7528\u5b83\u4eec\u3002\u867d\u7136\u4ece\u7f16\u7a0b\u7684\u89d2\u5ea6\u6765\u770b\u8fd9\u975e\u5e38\u9177\uff0c\u4f46\u53ef\u80fd\u4e0d\u6613\u8bfb\u61c2\u4ee3\u7801\u3002\u5efa\u8bae\u662f\uff1a[\u4fdd\u6301\u7b80\u77ed\u548c\u7b80\u5355\uff08KISS\uff09](https://en.wikipedia.org/wiki/KISS_principle)\u3002"
   ]
  },
  {
   "cell_type": "code",
   "execution_count": null,
   "id": "76c73ee3-d959-4f36-b86d-1e182d4f3da9",
   "metadata": {},
   "outputs": [],
   "source": [
    "import numpy as np\n",
    "from skimage.io import imread, imshow\n",
    "from napari_segment_blobs_and_things_with_membranes import threshold_otsu, gaussian_blur, label"
   ]
  },
  {
   "cell_type": "markdown",
   "id": "a0fa0f51-862e-4c6b-8197-368d84714eec",
   "metadata": {},
   "source": [
    "## \u7ec3\u4e60\n",
    "\u4f5c\u4e3a\u793a\u4f8b\uff0c\u4e0b\u9762\u6709\u4e24\u4e2a\u4ee3\u7801\u6bb5\u3002\u4e0d\u8fd0\u884c\u4ee3\u7801 - \u4f60\u8ba4\u4e3a\u5b83\u4eec\u505a\u7684\u662f\u540c\u6837\u7684\u4e8b\u60c5\u5417\uff1f"
   ]
  },
  {
   "cell_type": "code",
   "execution_count": null,
   "id": "ddb977fa-133a-4782-9101-078c5475b0a4",
   "metadata": {},
   "outputs": [],
   "source": [
    "image = imread(\"../../data/blobs.tif\")\n",
    "\n",
    "# define a list of functions and a corresponding list of arguments\n",
    "functions = [gaussian_blur, threshold_otsu, label]\n",
    "argument_lists = [[.5], [], []]\n",
    "\n",
    "# go through functions and argument lists pair-wise\n",
    "for function, argument_list in zip(functions, argument_lists):\n",
    "    # execute function with given arguments\n",
    "    image = function(image, *argument_list)\n",
    "\n",
    "result1 = image\n",
    "imshow(result1)"
   ]
  },
  {
   "cell_type": "code",
   "execution_count": null,
   "id": "b32eb680-6701-4008-970e-de2d07dc1e96",
   "metadata": {},
   "outputs": [],
   "source": [
    "image = imread(\"../../data/blobs.tif\")\n",
    "\n",
    "blurred = gaussian_blur(image, 5)\n",
    "binary = threshold_otsu(blurred)\n",
    "labels = label(binary)\n",
    "\n",
    "result2 = labels\n",
    "\n",
    "imshow(result2)"
   ]
  },
  {
   "cell_type": "markdown",
   "id": "32718eea-2ac4-4387-a774-e35a82f31720",
   "metadata": {},
   "source": [
    "\u5982\u679c\u4f60\u4e0d\u786e\u5b9a\uff0c\u4f60\u4e5f\u53ef\u4ee5\u76f4\u63a5\u68c0\u67e5\u7ed3\u679c\u662f\u5426\u76f8\u7b49\uff1a"
   ]
  },
  {
   "cell_type": "code",
   "execution_count": null,
   "id": "6af1d143-cc22-48a4-b74e-64870a2a6570",
   "metadata": {},
   "outputs": [],
   "source": [
    "np.all(result1 == result2) "
   ]
  }
 ],
 "metadata": {
  "kernelspec": {
   "display_name": "Python 3 (ipykernel)",
   "language": "python",
   "name": "python3"
  },
  "language_info": {
   "codemirror_mode": {
    "name": "ipython",
    "version": 3
   },
   "file_extension": ".py",
   "mimetype": "text/x-python",
   "name": "python",
   "nbconvert_exporter": "python",
   "pygments_lexer": "ipython3",
   "version": "3.9.15"
  }
 },
 "nbformat": 4,
 "nbformat_minor": 5
}