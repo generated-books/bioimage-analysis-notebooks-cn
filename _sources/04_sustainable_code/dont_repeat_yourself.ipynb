{
 "cells": [
  {
   "cell_type": "markdown",
   "id": "fd4907ce-c38c-4d48-a0f5-c2f77a03943b",
   "metadata": {},
   "source": [
    "# \u4e0d\u8981\u91cd\u590d\u81ea\u5df1\n",
    "\n",
    "\u6709\u65f6\uff0c\u6211\u4eec\u4f1a\u591a\u6b21\u590d\u5236\u7c98\u8d34\u4ee3\u7801\u4ee5\u5feb\u901f\u5904\u7406\u56fe\u50cf\u3002\u4ece\u957f\u8fdc\u6765\u770b\uff0c\u8fd9\u79cd\u4ee3\u7801\u91cd\u590d\u5bf9\u4ee3\u7801\u8d28\u91cf\u4e0d\u5229\uff0c\u56e0\u4e3a\u5982\u679c\u6211\u4eec\u60f3\u8981\u66f4\u6539\u67d0\u4e9b\u5185\u5bb9\uff0c\u5c31\u9700\u8981\u5728\u591a\u4e2a\u5730\u65b9\u8fdb\u884c\u66f4\u6539\uff0c\u5e76\u53ef\u80fd\u5fd8\u8bb0\u67d0\u4e9b\u5730\u65b9\u3002\u56e0\u6b64\uff0c\u9632\u6b62\u91cd\u590d\u4ee3\u7801\u81f3\u5173\u91cd\u8981\u3002\u8fd9\u4e2a\u8f6f\u4ef6\u8bbe\u8ba1\u539f\u5219\u88ab\u79f0\u4e3a[\u4e0d\u8981\u91cd\u590d\u81ea\u5df1](https://en.wikipedia.org/wiki/Don%27t_repeat_yourself)\u3002"
   ]
  },
  {
   "cell_type": "code",
   "execution_count": 1,
   "id": "23d84e97-7c50-4a5f-a3e9-fda157acccdf",
   "metadata": {},
   "outputs": [],
   "source": [
    "import pyclesperanto_prototype as cle"
   ]
  },
  {
   "cell_type": "code",
   "execution_count": 2,
   "id": "f8f0181e-3290-4931-b77d-3ff26e1d06ab",
   "metadata": {},
   "outputs": [
    {
     "data": {
      "text/plain": [
       "44.0"
      ]
     },
     "execution_count": 2,
     "metadata": {},
     "output_type": "execute_result"
    }
   ],
   "source": [
    "image = cle.imread(\"../../data/BBBC007_batch/17P1_POS0013_D_1UL.tif\")\n",
    "labels = cle.voronoi_otsu_labeling(image, spot_sigma=3)\n",
    "number_of_nuclei = labels.max()\n",
    "number_of_nuclei"
   ]
  },
  {
   "cell_type": "code",
   "execution_count": 3,
   "id": "d1a23f73-cddc-496c-a21a-03bcfe469b20",
   "metadata": {},
   "outputs": [
    {
     "data": {
      "text/plain": [
       "41.0"
      ]
     },
     "execution_count": 3,
     "metadata": {},
     "output_type": "execute_result"
    }
   ],
   "source": [
    "image = cle.imread(\"../../data/BBBC007_batch/20P1_POS0005_D_1UL.tif\")\n",
    "labels = cle.voronoi_otsu_labeling(image, spot_sigma=3)\n",
    "number_of_nuclei = labels.max()\n",
    "number_of_nuclei"
   ]
  },
  {
   "cell_type": "code",
   "execution_count": 4,
   "id": "e7ac4af4-d786-434b-9637-e1a646f3c899",
   "metadata": {},
   "outputs": [
    {
     "data": {
      "text/plain": [
       "73.0"
      ]
     },
     "execution_count": 4,
     "metadata": {},
     "output_type": "execute_result"
    }
   ],
   "source": [
    "image = cle.imread(\"../../data/BBBC007_batch/20P1_POS0007_D_1UL.tif\")\n",
    "labels = cle.voronoi_otsu_labeling(image, spot_sigma=3)\n",
    "number_of_nuclei = labels.max()\n",
    "number_of_nuclei"
   ]
  },
  {
   "cell_type": "markdown",
   "id": "45f664ef-c36b-43a1-b4de-afb4b857ad00",
   "metadata": {},
   "source": [
    "\u5982\u679c\u6211\u4eec\u73b0\u5728\u60f3\u770b\u770b\u6539\u53d8\u4e0a\u9762\u7684`spot_sigma`\u53c2\u6570\u5982\u4f55\u5f71\u54cd\u7ed3\u679c\uff0c\u6211\u4eec\u9700\u8981\u5728\u4e09\u4e2a\u5730\u65b9\u66f4\u6539\u8fd9\u4e2a\u503c\u3002\u5f53\u4ee3\u7801\u53d8\u5f97\u66f4\u957f\u65f6\uff0c\u53ef\u80fd\u4f1a\u53d1\u751f\u6211\u4eec\u5fd8\u8bb0\u5728\u67d0\u4e2a\u5730\u65b9\u66f4\u6539\u5b83\u7684\u60c5\u51b5\u3002\n",
    "\n",
    "### \u4f7f\u7528for\u5faa\u73af\u66ff\u4ee3\u4ee3\u7801\u91cd\u590d\n",
    "\u9632\u6b62\u4ee3\u7801\u91cd\u590d\u7684\u4e00\u79cd\u65b9\u6cd5\u662f\u4f7f\u7528for\u5faa\u73af\u3002"
   ]
  },
  {
   "cell_type": "code",
   "execution_count": 5,
   "id": "fcbb86dc-f20d-4f84-b73b-7ffa9174d7c6",
   "metadata": {},
   "outputs": [],
   "source": [
    "folder = \"../../data/BBBC007_batch/\"\n",
    "files = [\"17P1_POS0013_D_1UL.tif\",\n",
    "        \"20P1_POS0005_D_1UL.tif\",\n",
    "        \"20P1_POS0007_D_1UL.tif\"]"
   ]
  },
  {
   "cell_type": "code",
   "execution_count": 6,
   "id": "9b33d522-a7cd-4063-a9b5-ef006071f14a",
   "metadata": {},
   "outputs": [
    {
     "name": "stdout",
     "output_type": "stream",
     "text": [
      "17P1_POS0013_D_1UL.tif 44.0\n",
      "20P1_POS0005_D_1UL.tif 41.0\n",
      "20P1_POS0007_D_1UL.tif 73.0\n"
     ]
    }
   ],
   "source": [
    "for file in files:\n",
    "    image = cle.imread(folder + file)\n",
    "    labels = cle.voronoi_otsu_labeling(\n",
    "                    image, \n",
    "                    spot_sigma=3)\n",
    "    number_of_nuclei = labels.max()\n",
    "    print(file, number_of_nuclei)"
   ]
  },
  {
   "cell_type": "markdown",
   "id": "1fcda315-290c-43d3-aada-b92cd92602dd",
   "metadata": {},
   "source": [
    "### \u4f7f\u7528\u51fd\u6570\u66ff\u4ee3\u4ee3\u7801\u91cd\u590d\n",
    "\u901a\u8fc7\u5f15\u5165\u6240\u8c13\u7684\u8f85\u52a9\u51fd\u6570\uff0c\u6211\u4eec\u53ef\u4ee5\u83b7\u5f97\u66f4\u5927\u7684\u7075\u6d3b\u6027\uff0c\u8fd9\u4e9b\u51fd\u6570\u53ef\u4ee5_\u5e2e\u52a9_\u6211\u4eec\u5b8c\u6210\u4e00\u4e2a\u4e13\u95e8\u7684\u4efb\u52a1\uff0c\u4f8b\u5982\u8ba1\u7b97\u7ec6\u80de\u6838\uff1a"
   ]
  },
  {
   "cell_type": "code",
   "execution_count": 7,
   "id": "b37c4de7-11a8-4e30-948e-57f4eeec1b93",
   "metadata": {},
   "outputs": [],
   "source": [
    "def count_nuclei(image, spot_sigma=3):\n",
    "    labels = cle.voronoi_otsu_labeling(\n",
    "                    image, \n",
    "                    spot_sigma=spot_sigma)\n",
    "    number_of_nuclei = labels.max()\n",
    "    \n",
    "    return number_of_nuclei"
   ]
  },
  {
   "cell_type": "code",
   "execution_count": 8,
   "id": "5c6750b1-9f0e-455d-864c-b17cbccbec7a",
   "metadata": {},
   "outputs": [
    {
     "data": {
      "text/plain": [
       "44.0"
      ]
     },
     "execution_count": 8,
     "metadata": {},
     "output_type": "execute_result"
    }
   ],
   "source": [
    "count_nuclei(cle.imread(folder + files[0]))"
   ]
  },
  {
   "cell_type": "code",
   "execution_count": 9,
   "id": "e4e8d662-b994-4509-89a4-8084253dd2ff",
   "metadata": {},
   "outputs": [
    {
     "data": {
      "text/plain": [
       "41.0"
      ]
     },
     "execution_count": 9,
     "metadata": {},
     "output_type": "execute_result"
    }
   ],
   "source": [
    "count_nuclei(cle.imread(folder + files[1]))"
   ]
  },
  {
   "cell_type": "code",
   "execution_count": 10,
   "id": "14a8c024-f4aa-47dd-aeed-118f0ba8c724",
   "metadata": {},
   "outputs": [
    {
     "data": {
      "text/plain": [
       "73.0"
      ]
     },
     "execution_count": 10,
     "metadata": {},
     "output_type": "execute_result"
    }
   ],
   "source": [
    "count_nuclei(cle.imread(folder + files[2]))"
   ]
  },
  {
   "cell_type": "code",
   "execution_count": 11,
   "id": "f886c39a-a59a-48d7-9eb2-a7993c197a0e",
   "metadata": {},
   "outputs": [
    {
     "data": {
      "text/plain": [
       "68.0"
      ]
     },
     "execution_count": 11,
     "metadata": {},
     "output_type": "execute_result"
    }
   ],
   "source": [
    "count_nuclei(cle.imread(folder + files[2]), spot_sigma=5)"
   ]
  }
 ],
 "metadata": {
  "kernelspec": {
   "display_name": "Python 3 (ipykernel)",
   "language": "python",
   "name": "python3"
  },
  "language_info": {
   "codemirror_mode": {
    "name": "ipython",
    "version": 3
   },
   "file_extension": ".py",
   "mimetype": "text/x-python",
   "name": "python",
   "nbconvert_exporter": "python",
   "pygments_lexer": "ipython3",
   "version": "3.9.15"
  }
 },
 "nbformat": 4,
 "nbformat_minor": 5
}