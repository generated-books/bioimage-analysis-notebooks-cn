{
 "cells": [
  {
   "cell_type": "markdown",
   "id": "798022dd-fa69-4ddd-9049-922c5583275c",
   "metadata": {},
   "source": [
    "# \u7f16\u5199\u4f18\u8d28\u4ee3\u7801\n",
    "## \u7f16\u5199\u53ef\u8bfb\u6027\u9ad8\u7684\u4ee3\u7801\n",
    "\u4ece\u6280\u672f\u4e0a\u8bb2\uff0cPython\u5141\u8bb8\u6211\u4eec\u8fd9\u6837\u7f16\u5199\u4ee3\u7801\u3002"
   ]
  },
  {
   "cell_type": "code",
   "execution_count": 1,
   "id": "80e01b1a-431c-4c2b-ae1c-3a889d2f81d5",
   "metadata": {},
   "outputs": [
    {
     "name": "stdout",
     "output_type": "stream",
     "text": [
      "Yang\n"
     ]
    }
   ],
   "source": [
    "a=5;b=3;c=8;d=(a+b)/c;print(\"Yin\" if d==5 else \"Yang\")"
   ]
  },
  {
   "cell_type": "markdown",
   "id": "bd574e9a-d2a5-43a6-acf8-4af73b00181f",
   "metadata": {},
   "source": [
    "\u7136\u800c\uff0c\u4e3a\u4e86\u63d0\u9ad8\u53ef\u8bfb\u6027\uff0c\u5efa\u8bae\u5c06\u6bcf\u4e2a\u8bed\u53e5\u5199\u5728\u5355\u72ec\u7684\u884c\u4e0a\u3002\u540c\u65f6\uff0c\u5728\u4e0d\u540c\u90e8\u5206\u4e4b\u95f4\u6dfb\u52a0\u7a7a\u884c\uff0c\u5e76\u5f15\u5165\u6ce8\u91ca\u6765\u89e3\u91ca\u4e3a\u4ec0\u4e48\u8981\u8fd9\u6837\u505a\u3002"
   ]
  },
  {
   "cell_type": "code",
   "execution_count": 2,
   "id": "af8aa5aa-4a9d-4f0a-8776-0a29878f23ba",
   "metadata": {},
   "outputs": [],
   "source": [
    "# initialize program\n",
    "a=5\n",
    "b=3\n",
    "c=8\n",
    "\n",
    "# compute result before we can evaluate it\n",
    "d=(a+b)/c"
   ]
  },
  {
   "cell_type": "markdown",
   "id": "a25300a1-f85b-4c9a-8629-5780b6e8aeb2",
   "metadata": {},
   "source": [
    "\u5982\u679c\u4f60\u4f7f\u7528Jupyter\u7b14\u8bb0\u672c\uff0c\u6253\u5370\u51fa\u4e2d\u95f4\u7ed3\u679c\u53ef\u4ee5\u8ba9\u8bfb\u8005\u770b\u5230\u53d1\u751f\u4e86\u4ec0\u4e48\u3002"
   ]
  },
  {
   "cell_type": "code",
   "execution_count": 3,
   "id": "81b2dca6-2e25-46e7-9ad6-bee83b2256ad",
   "metadata": {},
   "outputs": [
    {
     "data": {
      "text/plain": [
       "1.0"
      ]
     },
     "execution_count": 3,
     "metadata": {},
     "output_type": "execute_result"
    }
   ],
   "source": [
    "d"
   ]
  },
  {
   "cell_type": "markdown",
   "id": "1d7342d7-7e76-437c-bee3-21fa509b31c8",
   "metadata": {},
   "source": [
    "\u8003\u8651\u5728\u53d8\u91cf\u3001\u8fd0\u7b97\u7b26\u548c\u6570\u5b57\u4e4b\u95f4\u6dfb\u52a0\u7a7a\u683c\uff0c\u56e0\u4e3a\u8fd9\u6837\u66f4\u5bb9\u6613\u9605\u8bfb\uff0c\u5bf9\u5427\uff1f"
   ]
  },
  {
   "cell_type": "code",
   "execution_count": 4,
   "id": "024f1ec4-79e8-4559-ac1e-2d8df7602b8b",
   "metadata": {},
   "outputs": [
    {
     "data": {
      "text/plain": [
       "1.0"
      ]
     },
     "execution_count": 4,
     "metadata": {},
     "output_type": "execute_result"
    }
   ],
   "source": [
    "d = (a + b) / c\n",
    "d"
   ]
  },
  {
   "cell_type": "markdown",
   "id": "30bb9bbc-5153-4bd6-aa81-6bdf479e221c",
   "metadata": {},
   "source": [
    "\u6709\u4e9b\u4eba\u53ef\u4ee5\u63a5\u53d7\u8fd9\u6837\u7684\u7b80\u77ed\u8bed\u53e5\uff1a"
   ]
  },
  {
   "cell_type": "code",
   "execution_count": 5,
   "id": "4fb1a25d-0669-4b1e-b0d2-9ae27bf00317",
   "metadata": {},
   "outputs": [
    {
     "name": "stdout",
     "output_type": "stream",
     "text": [
      "Yang\n"
     ]
    }
   ],
   "source": [
    "print(\"Yin\" if d==5 else \"Yang\")"
   ]
  },
  {
   "cell_type": "markdown",
   "id": "e87712f2-e265-4434-9b1b-2a01d089241d",
   "metadata": {},
   "source": [
    "\u5176\u4ed6\u4eba\u5219\u66f4\u559c\u6b22\u5c06\u4ee3\u7801\u5b8c\u6574\u5730\u5199\u51fa\u6765\u3002"
   ]
  },
  {
   "cell_type": "code",
   "execution_count": 6,
   "id": "5db81d1a-0671-4485-b501-9c324bb2527f",
   "metadata": {},
   "outputs": [
    {
     "name": "stdout",
     "output_type": "stream",
     "text": [
      "Yang\n"
     ]
    }
   ],
   "source": [
    "if d == 5:\n",
    "    print(\"Yin\")\n",
    "else:\n",
    "    print(\"Yang\")"
   ]
  }
 ],
 "metadata": {
  "kernelspec": {
   "display_name": "Python 3 (ipykernel)",
   "language": "python",
   "name": "python3"
  },
  "language_info": {
   "codemirror_mode": {
    "name": "ipython",
    "version": 3
   },
   "file_extension": ".py",
   "mimetype": "text/x-python",
   "name": "python",
   "nbconvert_exporter": "python",
   "pygments_lexer": "ipython3",
   "version": "3.9.15"
  }
 },
 "nbformat": 4,
 "nbformat_minor": 5
}