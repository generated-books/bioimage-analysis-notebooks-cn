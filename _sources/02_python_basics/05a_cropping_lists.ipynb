{
 "cells": [
  {
   "cell_type": "markdown",
   "id": "2bac9780-3f38-4f74-9a22-577e2a4c6643",
   "metadata": {},
   "source": [
    "# \u88c1\u526a\u5217\u8868\n",
    "\u5728Python\u4e2d\uff0c\u4e00\u4e2a\u5e38\u89c1\u7684\u4efb\u52a1\u662f\u88c1\u526a\u5217\u8868\u548c\u5143\u7ec4\u7684\u90e8\u5206\u5185\u5bb9\uff0c\u4f8b\u5982\u8bbf\u95ee\u5217\u8868\u4e2d\u7684\u7279\u5b9a\u90e8\u5206\u3002\n",
    "\n",
    "\u8ba9\u6211\u4eec\u4ece\u4e00\u4e2a\u6570\u5b57\u5217\u8868\u5f00\u59cb"
   ]
  },
  {
   "cell_type": "code",
   "execution_count": 1,
   "id": "24617c60-0f20-4d12-ae69-b99630fbd919",
   "metadata": {},
   "outputs": [],
   "source": [
    "data = [34, 0, 65, 23, 51, 9, 50, 78, 34, 100]"
   ]
  },
  {
   "cell_type": "markdown",
   "id": "21077e88-518e-4f68-94b8-2d77e87b4058",
   "metadata": {},
   "source": [
    "\u6211\u4eec\u53ef\u4ee5\u786e\u5b9a`data`\u4e2d\u6709\u591a\u5c11\u4e2a\u5143\u7d20\uff1a"
   ]
  },
  {
   "cell_type": "code",
   "execution_count": 2,
   "id": "c4a74ad5-2503-4644-8dae-58b6cc80bd07",
   "metadata": {},
   "outputs": [
    {
     "data": {
      "text/plain": [
       "10"
      ]
     },
     "execution_count": 2,
     "metadata": {},
     "output_type": "execute_result"
    }
   ],
   "source": [
    "len(data)"
   ]
  },
  {
   "cell_type": "markdown",
   "id": "f19975f2-66ae-40fe-a129-baa8a5c3271e",
   "metadata": {},
   "source": [
    "\u5982\u524d\u6240\u793a\uff0c\u6211\u4eec\u53ef\u4ee5\u901a\u8fc7\u4f20\u9012\u7d22\u5f15\u6765\u8bbf\u95ee\u7279\u5b9a\u5143\u7d20\u3002\u5143\u7d20\u7d22\u5f15\u7684\u8ba1\u6570\u4ece0\u5f00\u59cb\u3002"
   ]
  },
  {
   "cell_type": "code",
   "execution_count": 3,
   "id": "aeed7787-440f-4e82-aacc-9f42b2489c5b",
   "metadata": {},
   "outputs": [
    {
     "data": {
      "text/plain": [
       "34"
      ]
     },
     "execution_count": 3,
     "metadata": {},
     "output_type": "execute_result"
    }
   ],
   "source": [
    "data[0]"
   ]
  },
  {
   "cell_type": "code",
   "execution_count": 4,
   "id": "45e19fb5-5f11-405a-8cbb-2a4f8e7d1789",
   "metadata": {},
   "outputs": [
    {
     "data": {
      "text/plain": [
       "0"
      ]
     },
     "execution_count": 4,
     "metadata": {},
     "output_type": "execute_result"
    }
   ],
   "source": [
    "data[1]"
   ]
  },
  {
   "cell_type": "markdown",
   "id": "59396d59-dedd-45ff-b7b0-5bd3f9221c2d",
   "metadata": {},
   "source": [
    "\u6211\u4eec\u4e5f\u53ef\u4ee5\u4f20\u9012\u8d1f\u7d22\u5f15\u3002\u8fd9\u5c06\u4ece\u5217\u8868\u7684\u672b\u5c3e\u8bbf\u95ee\u5143\u7d20\u3002\u6700\u540e\u4e00\u4e2a\u5143\u7d20\u7684\u7d22\u5f15\u662f-1\u3002"
   ]
  },
  {
   "cell_type": "code",
   "execution_count": 5,
   "id": "d4a46ce7-8956-477f-9279-84e6a23b973e",
   "metadata": {},
   "outputs": [
    {
     "data": {
      "text/plain": [
       "100"
      ]
     },
     "execution_count": 5,
     "metadata": {},
     "output_type": "execute_result"
    }
   ],
   "source": [
    "data[-1]"
   ]
  },
  {
   "cell_type": "code",
   "execution_count": 6,
   "id": "b3498523-4dde-4054-83e0-f9c86c6a23c2",
   "metadata": {},
   "outputs": [
    {
     "data": {
      "text/plain": [
       "34"
      ]
     },
     "execution_count": 6,
     "metadata": {},
     "output_type": "execute_result"
    }
   ],
   "source": [
    "data[-2]"
   ]
  },
  {
   "cell_type": "markdown",
   "id": "3d7b3fa8-fe48-44ca-9397-ed009c8f7683",
   "metadata": {},
   "source": [
    "## \u5728\u5217\u8868\u4e2d\u9009\u62e9\u8303\u56f4\n",
    "\u6211\u4eec\u8fd8\u53ef\u4ee5\u751f\u6210\u4e00\u4e2a\u5305\u542b\u524d\u4e09\u4e2a\u5143\u7d20\u7684\u65b0\u5217\u8868\u3002\u4e3a\u6b64\uff0c\u6211\u4eec\u4f20\u9012\u4e00\u4e2a`[start:end]`\u5f62\u5f0f\u7684\u8303\u56f4\u3002\u65b0\u5217\u8868\u7684\u7b2c\u4e00\u4e2a\u5143\u7d20\u7684\u7d22\u5f15\u662f`start`\uff0c\u6700\u540e\u4e00\u4e2a\u5143\u7d20\u5c06\u5728`end`\u4e4b\u524d\u3002"
   ]
  },
  {
   "cell_type": "code",
   "execution_count": 7,
   "id": "d066c8a8-eea4-4983-981d-86379fc370e0",
   "metadata": {},
   "outputs": [
    {
     "data": {
      "text/plain": [
       "[34, 0, 65, 23, 51, 9, 50, 78, 34, 100]"
      ]
     },
     "execution_count": 7,
     "metadata": {},
     "output_type": "execute_result"
    }
   ],
   "source": [
    "data"
   ]
  },
  {
   "cell_type": "code",
   "execution_count": 8,
   "id": "eac82998-e516-4013-b791-e371d4281618",
   "metadata": {},
   "outputs": [
    {
     "data": {
      "text/plain": [
       "[34, 0]"
      ]
     },
     "execution_count": 8,
     "metadata": {},
     "output_type": "execute_result"
    }
   ],
   "source": [
    "data[0:2]"
   ]
  },
  {
   "cell_type": "code",
   "execution_count": 9,
   "id": "7d950d4f-77bf-4c7c-9ac8-b6f1b8c0468f",
   "metadata": {},
   "outputs": [
    {
     "data": {
      "text/plain": [
       "[34, 0, 65]"
      ]
     },
     "execution_count": 9,
     "metadata": {},
     "output_type": "execute_result"
    }
   ],
   "source": [
    "data[0:3]"
   ]
  },
  {
   "cell_type": "code",
   "execution_count": 10,
   "id": "34a11701-eef3-4b1a-8a7d-9523a1aa8a72",
   "metadata": {},
   "outputs": [
    {
     "data": {
      "text/plain": [
       "[0]"
      ]
     },
     "execution_count": 10,
     "metadata": {},
     "output_type": "execute_result"
    }
   ],
   "source": [
    "data[1:2]"
   ]
  },
  {
   "cell_type": "markdown",
   "id": "82a94b37-d7bc-43cf-a15f-e8f8d1df18b5",
   "metadata": {},
   "source": [
    "\u6b64\u5916\uff0c\u5982\u679c\u6211\u4eec\u60f3\u4ece\u5f00\u59cb\u9009\u62e9\u5217\u8868\u4e2d\u7684\u6240\u6709\u6761\u76ee\u6216\u76f4\u5230\u7ed3\u675f\uff0c\u6211\u4eec\u4e0d\u5fc5\u6307\u5b9a`start`\u6216`end`\u3002"
   ]
  },
  {
   "cell_type": "code",
   "execution_count": 11,
   "id": "cbd78a00-ef91-4dea-b033-89c83d8f9e76",
   "metadata": {},
   "outputs": [
    {
     "data": {
      "text/plain": [
       "[34, 0, 65, 23, 51, 9, 50, 78, 34, 100]"
      ]
     },
     "execution_count": 11,
     "metadata": {},
     "output_type": "execute_result"
    }
   ],
   "source": [
    "data"
   ]
  },
  {
   "cell_type": "code",
   "execution_count": 12,
   "id": "18ed61b1-bf09-47a9-a875-89eac6955a20",
   "metadata": {},
   "outputs": [
    {
     "data": {
      "text/plain": [
       "[34, 0]"
      ]
     },
     "execution_count": 12,
     "metadata": {},
     "output_type": "execute_result"
    }
   ],
   "source": [
    "data[:2]"
   ]
  },
  {
   "cell_type": "code",
   "execution_count": 13,
   "id": "cfeaca31-83a9-4710-b565-8a6250166989",
   "metadata": {},
   "outputs": [
    {
     "data": {
      "text/plain": [
       "[34, 0, 65]"
      ]
     },
     "execution_count": 13,
     "metadata": {},
     "output_type": "execute_result"
    }
   ],
   "source": [
    "data[:3]"
   ]
  },
  {
   "cell_type": "code",
   "execution_count": 14,
   "id": "34c44699-364a-4697-9341-e0583cc7830e",
   "metadata": {},
   "outputs": [
    {
     "data": {
      "text/plain": [
       "[65, 23, 51, 9, 50, 78, 34, 100]"
      ]
     },
     "execution_count": 14,
     "metadata": {},
     "output_type": "execute_result"
    }
   ],
   "source": [
    "data[2:]"
   ]
  },
  {
   "cell_type": "code",
   "execution_count": 15,
   "id": "d88f089f-c23e-4e68-b788-925f122ebc9d",
   "metadata": {},
   "outputs": [
    {
     "data": {
      "text/plain": [
       "[23, 51, 9, 50, 78, 34, 100]"
      ]
     },
     "execution_count": 15,
     "metadata": {},
     "output_type": "execute_result"
    }
   ],
   "source": [
    "data[3:]"
   ]
  },
  {
   "cell_type": "markdown",
   "id": "917d4bdd-c547-4e29-92da-3db5f097be05",
   "metadata": {},
   "source": [
    "\u8fd9\u4e5f\u9002\u7528\u4e8e\u8d1f\u7d22\u5f15"
   ]
  },
  {
   "cell_type": "code",
   "execution_count": 16,
   "id": "e40e6e8a-1cd6-4c8d-a1d1-c1230d93671c",
   "metadata": {},
   "outputs": [
    {
     "data": {
      "text/plain": [
       "[34, 100]"
      ]
     },
     "execution_count": 16,
     "metadata": {},
     "output_type": "execute_result"
    }
   ],
   "source": [
    "data[-2:]"
   ]
  },
  {
   "cell_type": "markdown",
   "id": "2d3fc7e4-c8d3-43a4-99c0-07fb7245e7ba",
   "metadata": {},
   "source": [
    "## \u5728\u5217\u8868\u4e2d\u8df3\u8fc7\u6761\u76ee\n",
    "`:` \u4e5f\u53ef\u4ee5\u7528\u6765\u63d0\u4f9b\u6b65\u957f\uff0c\u4f7f\u7528\u8bed\u6cd5 `[start:end:step]`\u3002"
   ]
  },
  {
   "cell_type": "code",
   "execution_count": 17,
   "id": "d065f055-233b-4d79-8cc6-c6a4c4430409",
   "metadata": {},
   "outputs": [
    {
     "data": {
      "text/plain": [
       "[34, 0, 65, 23, 51, 9, 50, 78, 34, 100]"
      ]
     },
     "execution_count": 17,
     "metadata": {},
     "output_type": "execute_result"
    }
   ],
   "source": [
    "data"
   ]
  },
  {
   "cell_type": "markdown",
   "id": "4102c548-c0d1-4bda-a389-fa1f4512c2ab",
   "metadata": {},
   "source": [
    "\u4f8b\u5982\uff0c\u6211\u4eec\u53ef\u4ee5\u4ece\u7b2c\u4e00\u4e2a\u5f00\u59cb\u9009\u62e9\u6bcf\u9694\u4e00\u4e2a\u5143\u7d20\uff1a"
   ]
  },
  {
   "cell_type": "code",
   "execution_count": 18,
   "id": "bdc30d02-ea6c-4979-b995-b79c022838f4",
   "metadata": {},
   "outputs": [
    {
     "data": {
      "text/plain": [
       "[34, 65, 51, 50, 34]"
      ]
     },
     "execution_count": 18,
     "metadata": {},
     "output_type": "execute_result"
    }
   ],
   "source": [
    "data[0:10:2]"
   ]
  },
  {
   "cell_type": "code",
   "execution_count": 19,
   "id": "3c6f8f4e-e8eb-45c6-9123-596460ff416d",
   "metadata": {},
   "outputs": [
    {
     "data": {
      "text/plain": [
       "[34, 65, 51, 50, 34]"
      ]
     },
     "execution_count": 19,
     "metadata": {},
     "output_type": "execute_result"
    }
   ],
   "source": [
    "data[::2]"
   ]
  },
  {
   "cell_type": "markdown",
   "id": "e8138c6e-5aa8-4b1c-8e27-e02195519992",
   "metadata": {},
   "source": [
    "\u6211\u4eec\u4e5f\u53ef\u4ee5\u4ece\u7b2c\u4e8c\u4e2a\u5143\u7d20\uff08\u7d22\u5f151\uff09\u5f00\u59cb\uff1a"
   ]
  },
  {
   "cell_type": "code",
   "execution_count": 20,
   "id": "56271034-0907-45fa-8e13-24c72fd2f4eb",
   "metadata": {},
   "outputs": [
    {
     "data": {
      "text/plain": [
       "[0, 23, 9, 78, 100]"
      ]
     },
     "execution_count": 20,
     "metadata": {},
     "output_type": "execute_result"
    }
   ],
   "source": [
    "data[1::2]"
   ]
  },
  {
   "cell_type": "markdown",
   "id": "c15bacf5-69b7-44d2-b9c7-ab6a696ca985",
   "metadata": {},
   "source": [
    "## \u5143\u7ec4\n",
    "\u4e0a\u9762\u4ecb\u7ecd\u7684\u6240\u6709\u6982\u5ff5\u4e5f\u9002\u7528\u4e8e\u5143\u7ec4"
   ]
  },
  {
   "cell_type": "code",
   "execution_count": 21,
   "id": "34acbd72-3b4d-4abd-bf3c-5ffd79866f77",
   "metadata": {},
   "outputs": [
    {
     "data": {
      "text/plain": [
       "(34, 0, 65, 23, 51, 9, 50, 78, 34, 100)"
      ]
     },
     "execution_count": 21,
     "metadata": {},
     "output_type": "execute_result"
    }
   ],
   "source": [
    "immutable_data = tuple(data)\n",
    "immutable_data"
   ]
  },
  {
   "cell_type": "code",
   "execution_count": 22,
   "id": "861cc342-f201-45df-b652-8a1046094859",
   "metadata": {},
   "outputs": [
    {
     "data": {
      "text/plain": [
       "(34, 0, 65, 23, 51)"
      ]
     },
     "execution_count": 22,
     "metadata": {},
     "output_type": "execute_result"
    }
   ],
   "source": [
    "immutable_data[:5]"
   ]
  },
  {
   "cell_type": "markdown",
   "id": "8e1f7ae9-c81b-4216-94a8-528a50dbe4f4",
   "metadata": {},
   "source": [
    "## \u7ec3\u4e60\n",
    "\u8bf7\u4f7f\u7528\u7c7b\u4f3c\u4e0a\u9762\u6240\u793a\u547d\u4ee4\u7684\u5355\u4e2aPython\u547d\u4ee4\u4ece`data`\u4e2d\u9009\u62e9\u4e09\u4e2a\u6570\u5b5723\u30019\u548c78\u3002"
   ]
  },
  {
   "cell_type": "code",
   "execution_count": null,
   "id": "24759c70-7de0-4b3d-bbb1-b1332585bf49",
   "metadata": {},
   "outputs": [],
   "source": []
  }
 ],
 "metadata": {
  "kernelspec": {
   "display_name": "Python 3 (ipykernel)",
   "language": "python",
   "name": "python3"
  },
  "language_info": {
   "codemirror_mode": {
    "name": "ipython",
    "version": 3
   },
   "file_extension": ".py",
   "mimetype": "text/x-python",
   "name": "python",
   "nbconvert_exporter": "python",
   "pygments_lexer": "ipython3",
   "version": "3.9.0"
  }
 },
 "nbformat": 4,
 "nbformat_minor": 5
}