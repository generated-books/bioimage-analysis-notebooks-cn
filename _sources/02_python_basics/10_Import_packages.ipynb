{
 "cells": [
  {
   "cell_type": "markdown",
   "id": "10cc5ddb-417d-43cd-ba12-e4c781850d67",
   "metadata": {},
   "source": [
    "# \u5bfc\u5165\u51fd\u6570\u548c\u5305\n",
    "\n",
    "\u5f88\u591a\u65f6\u5019\uff0c\u6211\u4eec\u9700\u8981\u9ed8\u8ba4Python\u5e93\u6ca1\u6709\u76f4\u63a5\u63d0\u4f9b\u7684\u5de5\u5177\u3002\u5728\u8fd9\u79cd\u60c5\u51b5\u4e0b\uff0c\u6211\u4eec\u9700\u8981\u4ece\u6a21\u5757\u6216\u5305\u4e2d\u5bfc\u5165\u5fc5\u8981\u7684\u51fd\u6570\u5230\u6211\u4eec\u7684\u7b14\u8bb0\u672c\u6216\u811a\u672c\u4e2d\u3002\u4e00\u4e9b\u6a21\u5757\u76f4\u63a5\u968fPython\u53d1\u884c\u7248\u63d0\u4f9b\uff08\u6bd4\u5982\u5728[Python\u4e2d\u7684\u57fa\u7840\u6570\u5b66](Math_in_python.ipynb)\u4e2d\u770b\u5230\u7684math\u6a21\u5757\uff09\uff0c\u800c\u4e00\u4e9b\u5176\u4ed6\u7684\u5982Numpy\u3001scikit-image\u7b49\u662f\u901a\u8fc7pip\u6216conda\u5b89\u88c5\u7684\u5916\u90e8\u5305\u3002\u5728\u5bfc\u5165\u65b9\u9762\uff0c\u5b83\u4eec\u7684\u5de5\u4f5c\u65b9\u5f0f\u76f8\u540c\uff0c\u6211\u4eec\u6709\u591a\u79cd\u65b9\u6cd5\u6765\u5bfc\u5165\u5355\u4e2a\u51fd\u6570\u6216\u4e00\u7ec4\u51fd\u6570\u3002"
   ]
  },
  {
   "cell_type": "markdown",
   "id": "ab468beb-e517-4468-86bb-bf6b8ba96a9f",
   "metadata": {},
   "source": [
    "## \u57fa\u672c\u5bfc\u5165\n",
    "\n",
    "\u57fa\u672c\u7684\u5bfc\u5165\u8bed\u53e5\u4f7f\u7528\u5173\u952e\u8bcd```import```\u548c\u6a21\u5757\u540d\u3002\u4f8b\u5982\uff0c\u4f7f\u7528\u5904\u7406\u6587\u4ef6\u8def\u5f84\u548c\u540d\u79f0\u7684\u57fa\u672cPython\u6a21\u5757```pathlib```\uff1a"
   ]
  },
  {
   "cell_type": "code",
   "execution_count": 13,
   "id": "d00dce4e-c426-484c-bd41-2905dc99f59c",
   "metadata": {},
   "outputs": [],
   "source": [
    "import pathlib"
   ]
  },
  {
   "cell_type": "markdown",
   "id": "130dff08-9326-4df4-999f-fb98d1172617",
   "metadata": {},
   "source": [
    "\u5982\u679c\u6211\u4eec\u60f3\u5bfc\u5165\u4e00\u4e2a\u5916\u90e8\u5305\uff0c\u6211\u4eec\u9700\u8981\u786e\u4fdd\u5b83\u5b9e\u9645\u4e0a\u5df2\u5b89\u88c5\uff0c\u5426\u5219\u6211\u4eec\u4f1a\u5f97\u5230\u4e00\u4e2a\u9519\u8bef\u6d88\u606f\uff1a"
   ]
  },
  {
   "cell_type": "code",
   "execution_count": 14,
   "id": "3d20edb7-7cec-4ea0-a46a-51f7584bf635",
   "metadata": {},
   "outputs": [
    {
     "ename": "ModuleNotFoundError",
     "evalue": "No module named 'absent_package'",
     "output_type": "error",
     "traceback": [
      "\u001b[0;31m---------------------------------------------------------------------------\u001b[0m",
      "\u001b[0;31mModuleNotFoundError\u001b[0m                       Traceback (most recent call last)",
      "Input \u001b[0;32mIn [14]\u001b[0m, in \u001b[0;36m<cell line: 1>\u001b[0;34m()\u001b[0m\n\u001b[0;32m----> 1\u001b[0m \u001b[38;5;28;01mimport\u001b[39;00m \u001b[38;5;21;01mabsent_package\u001b[39;00m\n",
      "\u001b[0;31mModuleNotFoundError\u001b[0m: No module named 'absent_package'"
     ]
    }
   ],
   "source": [
    "import absent_package"
   ]
  },
  {
   "cell_type": "markdown",
   "id": "e8cfed05-6309-4c37-8ee1-a0ab74a70552",
   "metadata": {},
   "source": [
    "\u5982\u679c\u4f60\u7f3a\u5c11\u4e00\u4e2a\u5305\uff0c\u4f60\u53ef\u4ee5\u76f4\u63a5\u4ece\u7b14\u8bb0\u672c\u4f7f\u7528pip\u6216conda\u5b89\u88c5\u5b83\u3002\u4f8b\u5982\uff0c\u5982\u679cNumpy\u8fd8\u6ca1\u6709\u5b89\u88c5\uff0c\u4f60\u53ef\u4ee5\u6267\u884c\uff1a"
   ]
  },
  {
   "cell_type": "code",
   "execution_count": 41,
   "id": "6cb89fc2-a2c1-44ca-915c-bfd9f185a368",
   "metadata": {},
   "outputs": [
    {
     "name": "stdout",
     "output_type": "stream",
     "text": [
      "Collecting package metadata (current_repodata.json): done\n",
      "Solving environment: done\n",
      "\n",
      "# All requested packages already installed.\n",
      "\n",
      "\n",
      "Note: you may need to restart the kernel to use updated packages.\n"
     ]
    }
   ],
   "source": [
    "conda install -c conda-forge numpy"
   ]
  },
  {
   "cell_type": "markdown",
   "id": "adbad354-b227-41d1-bc97-7b4a386dc8cc",
   "metadata": {},
   "source": [
    "## \u66ff\u4ee3\u5bfc\u5165\u5f62\u5f0f\n",
    "\n",
    "\u4f7f\u7528\u4e0a\u9762\u7684\u7b80\u5355\u5f62\u5f0f\uff0c\u6211\u4eec\u53ef\u4ee5\u76f4\u63a5\u8bbf\u95ee\u9644\u52a0\u5230\u4e3b\u5305\u7684\u51fd\u6570\u3002\u8ba9\u6211\u4eec\u5bfc\u5165\u6211\u4eec\u7a0d\u540e\u5c06\u7528\u4e8e\u5904\u7406\u56fe\u50cf\u7684Numpy\u5305\u3002\u6211\u4eec\u53ef\u4ee5\u5bfc\u5165\u5b83\uff1a"
   ]
  },
  {
   "cell_type": "code",
   "execution_count": 15,
   "id": "c5374a88-b2cf-4963-b076-616bfaeb6aff",
   "metadata": {},
   "outputs": [],
   "source": [
    "import numpy"
   ]
  },
  {
   "cell_type": "markdown",
   "id": "caf83b1e-76e7-4a2b-aabb-2180dae9148f",
   "metadata": {},
   "source": [
    "\u73b0\u5728\u6211\u4eec\u53ef\u4ee5\u901a\u8fc7\u7b80\u5355\u4f7f\u7528\u70b9\u8868\u793a\u6cd5\u6765\u8bbf\u95eeNumpy\u7684\u4f59\u5f26\u51fd\u6570\uff1a"
   ]
  },
  {
   "cell_type": "code",
   "execution_count": 16,
   "id": "952e16a1-9684-4867-9273-247ad6707eeb",
   "metadata": {},
   "outputs": [
    {
     "data": {
      "text/plain": [
       "-0.9999987317275395"
      ]
     },
     "execution_count": 16,
     "metadata": {},
     "output_type": "execute_result"
    }
   ],
   "source": [
    "numpy.cos(3.14)"
   ]
  },
  {
   "cell_type": "markdown",
   "id": "f73a553c-1cec-4ad8-a8f9-6601d03e788f",
   "metadata": {},
   "source": [
    "\u8981\u627e\u5230\u5305\u6216\u6a21\u5757\u4e2d\u6240\u6709\u53ef\u7528\u7684\u51fd\u6570\uff0c\u4f60\u901a\u5e38\u9700\u8981\u67e5\u770b\u5176\u6587\u6863\u5e76\u5bfb\u627e*\u5e94\u7528\u7a0b\u5e8f\u7f16\u7a0b\u63a5\u53e3*\u6216*API*\u3002\u4f8b\u5982\uff0c\u8fd9\u91cc\u6211\u4eec\u53ef\u4ee5\u627e\u5230Numpy\u6240\u6709\u6570\u5b66\u51fd\u6570\uff08\u5305\u62ec\u4f59\u5f26\uff09\u7684\u63cf\u8ff0\uff1ahttps://numpy.org/doc/stable/reference/routines.math.html"
   ]
  },
  {
   "cell_type": "markdown",
   "id": "42490a15-3988-4359-a1c6-9a9c588a3c0e",
   "metadata": {},
   "source": [
    "### \u540d\u79f0\u7f29\u77ed\n",
    "\n",
    "\u5982\u679c\u6211\u4eec\u7ecf\u5e38\u4f7f\u7528\u4e00\u4e2a\u5305\uff0c\u6211\u4eec\u53ef\u80fd\u4e0d\u60f3\u6bcf\u6b21\u9700\u8981\u4f7f\u7528\u5b83\u7684\u51fd\u6570\u65f6\u90fd\u5199\u5168\u5305\u540d\u3002\u4e3a\u4e86\u907f\u514d\u8fd9\u79cd\u60c5\u51b5\uff0c\u6211\u4eec\u53ef\u4ee5\u5728\u5bfc\u5165\u65f6\u4f7f\u7528```as```\u8bed\u53e5\u6765\u7f29\u5199\u5b83\uff1a"
   ]
  },
  {
   "cell_type": "code",
   "execution_count": 17,
   "id": "f3ab4b68-d1a6-4708-aafb-a95c9efee4a8",
   "metadata": {},
   "outputs": [],
   "source": [
    "import numpy as np"
   ]
  },
  {
   "cell_type": "code",
   "execution_count": 18,
   "id": "b19bb26d-d119-4120-8152-0336c949c069",
   "metadata": {},
   "outputs": [
    {
     "data": {
      "text/plain": [
       "-0.9999987317275395"
      ]
     },
     "execution_count": 18,
     "metadata": {},
     "output_type": "execute_result"
    }
   ],
   "source": [
    "np.cos(3.14)"
   ]
  },
  {
   "cell_type": "markdown",
   "id": "60f63fce-d4dc-42ff-b4e7-4b168d709bab",
   "metadata": {},
   "source": [
    "### \u7279\u5b9a\u51fd\u6570\n",
    "\n",
    "\u5982\u679c\u6211\u4eec\u53ea\u9700\u8981\u5305\u4e2d\u7684\u4e00\u4e2a\u7279\u5b9a\u51fd\u6570\uff0c\u6211\u4eec\u4e5f\u53ef\u4ee5\u4f7f\u7528```from```\u8bed\u53e5\u53ea\u5bfc\u5165\u5b83\u3002\u4f8b\u5982\uff0c\u5982\u679c\u6211\u4eec\u53ea\u60f3\u5bfc\u5165\u4e0a\u9762\u7684```np.cos```\u51fd\u6570\uff1a"
   ]
  },
  {
   "cell_type": "code",
   "execution_count": 19,
   "id": "918ca0db-90e9-47b3-9c53-4652049843f1",
   "metadata": {},
   "outputs": [],
   "source": [
    "from numpy import cos"
   ]
  },
  {
   "cell_type": "code",
   "execution_count": 20,
   "id": "8374d32d-7a48-43cb-ad55-b564f87cc2b4",
   "metadata": {},
   "outputs": [
    {
     "data": {
      "text/plain": [
       "-0.9999987317275395"
      ]
     },
     "execution_count": 20,
     "metadata": {},
     "output_type": "execute_result"
    }
   ],
   "source": [
    "cos(3.14)"
   ]
  },
  {
   "cell_type": "markdown",
   "id": "23644840-840f-4ecd-b09a-4fee262678ce",
   "metadata": {},
   "source": [
    "\u5f53\u7136\uff0c\u5728\u8fd9\u79cd\u60c5\u51b5\u4e0b\uff0c\u9664\u975e\u6211\u4eec\u627e\u5230\u5bfc\u5165\u51fd\u6570\u7684\u5177\u4f53\u884c\uff0c\u5426\u5219\u6211\u4eec\u4e0d\u77e5\u9053```cos```\u4e00\u5b9a\u5c5e\u4e8eNumpy\uff0c\u56e0\u4e3a\u6211\u4eec\u4e5f\u53ef\u80fd\u5728\u7b14\u8bb0\u672c\u4e2d\u5b9a\u4e49\u4e86\u8fd9\u6837\u4e00\u4e2a\u51fd\u6570\u3002"
   ]
  },
  {
   "cell_type": "markdown",
   "id": "ba26add4-d1dd-4123-90da-38d0b8d61409",
   "metadata": {},
   "source": [
    "## \u5b50\u6a21\u5757\n",
    "\n",
    "\u5728\u50cfNumpy\u8fd9\u6837\u7684\u5927\u578b\u5305\u4e2d\uff0c\u4e00\u4e9b\u51fd\u6570\u53ef\u4ee5\u76f4\u63a5\u4ece\u4e3b\u5305\u8bbf\u95ee\uff08\u5982```np.cos```\uff09\uff0c\u800c\u5176\u4ed6\u66f4\u4e13\u95e8\u7684\u4efb\u52a1\u5219\u6309\u4e3b\u9898\u6216\u9886\u57df\u5206\u7ec4\u5230\u5b50\u6a21\u5757\u4e2d\u3002\u4f8b\u5982\uff0cNumpy\u6709\u4e00\u4e2a\u4e13\u95e8\u7528\u4e8e\u5206\u5e03\u7684\u5b50\u6a21\u5757\uff0c\u53eb\u505a```random```\u3002\u4e0a\u9762\u770b\u5230\u7684\u6240\u6709\u8981\u70b9\u5728\u8fd9\u91cc\u4ecd\u7136\u9002\u7528\u3002\n",
    "\n",
    "\u6211\u4eec\u4f7f\u7528\u70b9\u8868\u793a\u6cd5\u6765\u8bbf\u95ee\u51fd\u6570\uff0c\u4f46\u73b0\u5728\u9700\u8981\u6307\u5b9a\u5b50\u6a21\u5757\u540d\u3002\u4f8b\u5982\uff0c```normal```\u51fd\u6570\u751f\u6210\u4ece\u6b63\u6001\u5206\u5e03\u4e2d\u62bd\u53d6\u7684\u6570\u5b57\uff1a"
   ]
  },
  {
   "cell_type": "code",
   "execution_count": 31,
   "id": "108d12fd-041a-4f48-9f92-58479d5eb9cd",
   "metadata": {},
   "outputs": [
    {
     "data": {
      "text/plain": [
       "1.8077301364791438"
      ]
     },
     "execution_count": 31,
     "metadata": {},
     "output_type": "execute_result"
    }
   ],
   "source": [
    "np.random.normal()"
   ]
  },
  {
   "cell_type": "markdown",
   "id": "ff382ef6-de48-49b7-968b-7120fb505367",
   "metadata": {},
   "source": [
    "\u6211\u4eec\u53ef\u4ee5\u901a\u8fc7\u53ea\u5bfc\u5165\u5b50\u6a21\u5757\u6765\u7f29\u77ed\u51fd\u6570\u8c03\u7528\uff1a"
   ]
  },
  {
   "cell_type": "code",
   "execution_count": 32,
   "id": "e60dc664-f66a-475c-86d5-44cdc8448826",
   "metadata": {},
   "outputs": [],
   "source": [
    "from numpy import random"
   ]
  },
  {
   "cell_type": "code",
   "execution_count": 33,
   "id": "8c8470b2-882f-4cda-8c1f-795c22db05ab",
   "metadata": {},
   "outputs": [
    {
     "data": {
      "text/plain": [
       "0.0909924357071552"
      ]
     },
     "execution_count": 33,
     "metadata": {},
     "output_type": "execute_result"
    }
   ],
   "source": [
    "random.normal()"
   ]
  },
  {
   "cell_type": "markdown",
   "id": "f7e64bd9-1127-43cb-96db-60a12a56ea48",
   "metadata": {},
   "source": [
    "\u6211\u4eec\u53ef\u4ee5\u8fdb\u4e00\u6b65\u7f29\u77ed\uff0c\u53ea\u5bfc\u5165\u51fd\u6570\uff1a"
   ]
  },
  {
   "cell_type": "code",
   "execution_count": 34,
   "id": "eb009d0d-5b8f-49ab-8a5e-d16c972837b8",
   "metadata": {},
   "outputs": [],
   "source": [
    "from numpy.random import normal"
   ]
  },
  {
   "cell_type": "code",
   "execution_count": 35,
   "id": "5533cd1d-1f0e-47d7-acb5-ad0ea6772019",
   "metadata": {},
   "outputs": [
    {
     "data": {
      "text/plain": [
       "0.0038794083334154307"
      ]
     },
     "execution_count": 35,
     "metadata": {},
     "output_type": "execute_result"
    }
   ],
   "source": [
    "normal()"
   ]
  },
  {
   "cell_type": "markdown",
   "id": "cc770a20-0014-4b6c-b12e-3fa6b1d72f22",
   "metadata": {},
   "source": [
    "## \u7ec3\u4e60\n",
    "\n",
    "Numpy\u5305\u6709\u4e00\u4e2a\u540d\u4e3a```linalg```\u7684\u7ebf\u6027\u4ee3\u6570\u5b50\u6a21\u5757\u3002\u4ee5\u4e0b\u4ee3\u7801\u8ba1\u7b97\u5411\u91cf\u7684\u8303\u6570\uff1a```np.linalg.norm([1,2])```\u3002\u5c1d\u8bd5\uff1a\n",
    "- \u53ea\u5bfc\u5165\u5b50\u6a21\u5757\u5e76\u8c03\u7528\u76f8\u540c\u7684\u51fd\u6570\n",
    "- \u53ea\u5bfc\u5165```norm```\u51fd\u6570\u5e76\u8c03\u7528\u5b83\n",
    " "
   ]
  },
  {
   "cell_type": "code",
   "execution_count": null,
   "id": "72dc7b73-b072-411d-92f3-a7c9cce4395f",
   "metadata": {},
   "outputs": [],
   "source": []
  }
 ],
 "metadata": {
  "kernelspec": {
   "display_name": "Python 3 (ipykernel)",
   "language": "python",
   "name": "python3"
  },
  "language_info": {
   "codemirror_mode": {
    "name": "ipython",
    "version": 3
   },
   "file_extension": ".py",
   "mimetype": "text/x-python",
   "name": "python",
   "nbconvert_exporter": "python",
   "pygments_lexer": "ipython3",
   "version": "3.9.19"
  }
 },
 "nbformat": 4,
 "nbformat_minor": 5
}