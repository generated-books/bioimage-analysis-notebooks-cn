{
 "cells": [
  {
   "cell_type": "markdown",
   "id": "strange-soundtrack",
   "metadata": {},
   "source": [
    "# \u5b57\u5178\n",
    "\u5b57\u5178\u662f\u4fdd\u5b58\u952e\u503c\u5bf9\u7684\u6570\u636e\u7ed3\u6784\uff0c\u5199\u4f5c `key:value`\u3002\n",
    "\n",
    "\u53e6\u8bf7\u53c2\u9605\n",
    "* [Python\u4e2d\u7684\u5b57\u5178](https://www.w3schools.com/python/python_dictionaries.asp)\n",
    "* [\u5c06\u5b57\u5178\u952e\u4f5c\u4e3a\u5217\u8868](https://stackoverflow.com/questions/16819222/how-to-return-dictionary-keys-as-a-list-in-python)\n",
    "\n",
    "\u4f60\u53ef\u4ee5\u8fd9\u6837\u5b9a\u4e49\u5b57\u5178\uff1a"
   ]
  },
  {
   "cell_type": "code",
   "execution_count": 1,
   "id": "transparent-external",
   "metadata": {},
   "outputs": [],
   "source": [
    "german_english_dictionary = {'Vorlesung':'Lecture', 'Gleichung':'Equation'}"
   ]
  },
  {
   "cell_type": "markdown",
   "id": "premier-address",
   "metadata": {},
   "source": [
    "\u4e3a\u4e86\u65b9\u4fbf\u8bfb\u8005\uff0c\u53ef\u4ee5\u8003\u8651\u8fd9\u6837\u5199\uff1a"
   ]
  },
  {
   "cell_type": "code",
   "execution_count": 2,
   "id": "constitutional-civilian",
   "metadata": {},
   "outputs": [],
   "source": [
    "german_english_dictionary = {\n",
    "    'Vorlesung':'Lecture', \n",
    "    'Gleichung':'Equation'\n",
    "}"
   ]
  },
  {
   "cell_type": "code",
   "execution_count": 3,
   "id": "fitted-mirror",
   "metadata": {},
   "outputs": [
    {
     "data": {
      "text/plain": [
       "{'Vorlesung': 'Lecture', 'Gleichung': 'Equation'}"
      ]
     },
     "execution_count": 3,
     "metadata": {},
     "output_type": "execute_result"
    }
   ],
   "source": [
    "german_english_dictionary"
   ]
  },
  {
   "cell_type": "markdown",
   "id": "accepted-inspection",
   "metadata": {},
   "source": [
    "\u5982\u679c\u4f60\u60f3\u8bbf\u95ee\u5b57\u5178\u4e2d\u7684\u7279\u5b9a\u6761\u76ee\uff0c\u53ef\u4ee5\u4f7f\u7528\u65b9\u62ec\u53f7\u548c\u952e\u6765\u8bbf\u95ee\u5b83\uff1a"
   ]
  },
  {
   "cell_type": "code",
   "execution_count": 4,
   "id": "varying-machine",
   "metadata": {},
   "outputs": [
    {
     "data": {
      "text/plain": [
       "'Lecture'"
      ]
     },
     "execution_count": 4,
     "metadata": {},
     "output_type": "execute_result"
    }
   ],
   "source": [
    "german_english_dictionary['Vorlesung']"
   ]
  },
  {
   "cell_type": "markdown",
   "id": "secure-seventh",
   "metadata": {},
   "source": [
    "\u4f60\u53ef\u4ee5\u5411\u5b57\u5178\u6dfb\u52a0\u5143\u7d20\uff1a"
   ]
  },
  {
   "cell_type": "code",
   "execution_count": 5,
   "id": "aboriginal-shareware",
   "metadata": {},
   "outputs": [],
   "source": [
    "german_english_dictionary['Tag'] = 'Day'"
   ]
  },
  {
   "cell_type": "code",
   "execution_count": 6,
   "id": "motivated-immune",
   "metadata": {},
   "outputs": [
    {
     "data": {
      "text/plain": [
       "{'Vorlesung': 'Lecture', 'Gleichung': 'Equation', 'Tag': 'Day'}"
      ]
     },
     "execution_count": 6,
     "metadata": {},
     "output_type": "execute_result"
    }
   ],
   "source": [
    "german_english_dictionary"
   ]
  },
  {
   "cell_type": "markdown",
   "id": "lovely-investment",
   "metadata": {},
   "source": [
    "\u4f60\u8fd8\u53ef\u4ee5\u83b7\u53d6\u5b57\u5178\u4e2d\u6240\u6709\u952e\u7684\u5217\u8868\uff1a"
   ]
  },
  {
   "cell_type": "code",
   "execution_count": 7,
   "id": "certain-devon",
   "metadata": {},
   "outputs": [],
   "source": [
    "keys = list(german_english_dictionary.keys())"
   ]
  },
  {
   "cell_type": "code",
   "execution_count": 8,
   "id": "middle-homeless",
   "metadata": {},
   "outputs": [
    {
     "data": {
      "text/plain": [
       "['Vorlesung', 'Gleichung', 'Tag']"
      ]
     },
     "execution_count": 8,
     "metadata": {},
     "output_type": "execute_result"
    }
   ],
   "source": [
    "keys"
   ]
  },
  {
   "cell_type": "code",
   "execution_count": 9,
   "id": "novel-overall",
   "metadata": {},
   "outputs": [
    {
     "data": {
      "text/plain": [
       "'Gleichung'"
      ]
     },
     "execution_count": 9,
     "metadata": {},
     "output_type": "execute_result"
    }
   ],
   "source": [
    "keys[1]"
   ]
  },
  {
   "cell_type": "markdown",
   "id": "modified-mambo",
   "metadata": {},
   "source": [
    "# \u8868\u683c\n",
    "\u8868\u683c*\u53ef\u4ee5*\u8868\u793a\u4e3a\u4ee5\u6570\u7ec4\u4e3a\u5143\u7d20\u7684\u5b57\u5178\u3002"
   ]
  },
  {
   "cell_type": "code",
   "execution_count": 10,
   "id": "acceptable-cornell",
   "metadata": {},
   "outputs": [],
   "source": [
    "measurements_week = {\n",
    "    'Monday':   [2.3, 3.1, 5.6],\n",
    "    'Tuesday':  [1.8, 7.0, 4.3],\n",
    "    'Wednesday':[4.5, 1.5, 3.2],\n",
    "    'Thursday': [1.9, 2.0, 6.4],\n",
    "    'Friday':   [4.4, 2.3, 5.4]\n",
    "}"
   ]
  },
  {
   "cell_type": "code",
   "execution_count": 11,
   "id": "expired-ambassador",
   "metadata": {},
   "outputs": [
    {
     "data": {
      "text/plain": [
       "{'Monday': [2.3, 3.1, 5.6],\n",
       " 'Tuesday': [1.8, 7.0, 4.3],\n",
       " 'Wednesday': [4.5, 1.5, 3.2],\n",
       " 'Thursday': [1.9, 2.0, 6.4],\n",
       " 'Friday': [4.4, 2.3, 5.4]}"
      ]
     },
     "execution_count": 11,
     "metadata": {},
     "output_type": "execute_result"
    }
   ],
   "source": [
    "measurements_week"
   ]
  },
  {
   "cell_type": "code",
   "execution_count": 12,
   "id": "permanent-judges",
   "metadata": {},
   "outputs": [
    {
     "data": {
      "text/plain": [
       "[2.3, 3.1, 5.6]"
      ]
     },
     "execution_count": 12,
     "metadata": {},
     "output_type": "execute_result"
    }
   ],
   "source": [
    "measurements_week['Monday']"
   ]
  },
  {
   "cell_type": "markdown",
   "id": "positive-motel",
   "metadata": {},
   "source": [
    "\u4f60\u4e5f\u53ef\u4ee5\u5728\u8fd9\u6837\u7684_\u8868\u683c_\u4e2d\u5b58\u50a8\u53d8\u91cf\uff1a"
   ]
  },
  {
   "cell_type": "code",
   "execution_count": 13,
   "id": "announced-smart",
   "metadata": {},
   "outputs": [],
   "source": [
    "w1 = 5\n",
    "h1 = 3\n",
    "area1 = w1 * h1\n",
    "\n",
    "w2 = 2\n",
    "h2 = 4\n",
    "area2 = w2 * h2\n",
    "\n",
    "rectangles = {\n",
    "    \"width\": [w1, w2],\n",
    "    \"height\": [h1, h2],\n",
    "    \"area\": [area1, area2]\n",
    "}"
   ]
  },
  {
   "cell_type": "code",
   "execution_count": 14,
   "id": "happy-advisory",
   "metadata": {},
   "outputs": [
    {
     "data": {
      "text/plain": [
       "{'width': [5, 2], 'height': [3, 4], 'area': [15, 8]}"
      ]
     },
     "execution_count": 14,
     "metadata": {},
     "output_type": "execute_result"
    }
   ],
   "source": [
    "rectangles"
   ]
  },
  {
   "cell_type": "markdown",
   "id": "alike-leisure",
   "metadata": {},
   "source": [
    "# \u7ec3\u4e60\n",
    "\u4f60\u521a\u521a\u6d4b\u91cf\u4e86\u4e09\u4e2a\u5706\u7684\u534a\u5f84\u3002\u5c06\u5b83\u4eec\u5199\u5165\u4e00\u4e2a\u8868\u683c\uff0c\u5e76\u6dfb\u52a0\u4e00\u5217\u76f8\u5e94\u7684\u5706\u9762\u79ef\u6d4b\u91cf\u503c\u3002"
   ]
  },
  {
   "cell_type": "code",
   "execution_count": 15,
   "id": "distinguished-simulation",
   "metadata": {},
   "outputs": [],
   "source": [
    "r1 = 12\n",
    "r2 = 8\n",
    "r3 = 15"
   ]
  },
  {
   "cell_type": "code",
   "execution_count": null,
   "id": "compound-crawford",
   "metadata": {},
   "outputs": [],
   "source": []
  }
 ],
 "metadata": {
  "kernelspec": {
   "display_name": "Python 3 (ipykernel)",
   "language": "python",
   "name": "python3"
  },
  "language_info": {
   "codemirror_mode": {
    "name": "ipython",
    "version": 3
   },
   "file_extension": ".py",
   "mimetype": "text/x-python",
   "name": "python",
   "nbconvert_exporter": "python",
   "pygments_lexer": "ipython3",
   "version": "3.9.0"
  }
 },
 "nbformat": 4,
 "nbformat_minor": 5
}