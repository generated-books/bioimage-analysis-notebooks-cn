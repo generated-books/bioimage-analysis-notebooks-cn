{
 "cells": [
  {
   "cell_type": "markdown",
   "id": "cb1fdbe0",
   "metadata": {},
   "source": [
    "# \u8ffd\u8e2a\u5185\u5b58\u6d88\u8017\n",
    "\u5728\u8bbe\u7f6e\u590d\u6742\u7684\u5de5\u4f5c\u6d41\u7a0b\u65f6\uff0c\u67e5\u770b\u5185\u5b58\u6d88\u8017\u53ef\u80fd\u662f\u6709\u610f\u4e49\u7684\u3002\u5728\u4ea4\u4e92\u5f0f\u73af\u5883\u4e2d\uff0c\u7528\u6237\u53ef\u4ee5\u4f7f\u7528Windows\u4efb\u52a1\u7ba1\u7406\u5668\u6765\u67e5\u770bGPU\u5185\u5b58\u7684\u4f7f\u7528\u60c5\u51b5\u3002\u5bf9\u4e8e\u811a\u672c\u7f16\u5199\u6765\u8bf4\uff0c\u8fd9\u53ef\u80fd\u4f1a\u5f88\u9ebb\u70e6\u3002\u5f53\u4f7f\u7528nvidia GPU\u65f6\uff0c\u53ef\u4ee5\u4f7f\u7528\u4ee5\u4e0b\u7a0b\u5e8f\u6765\u8c03\u8bd5\u5de5\u4f5c\u6d41\u7a0b\u7684\u5185\u5b58\u6d88\u8017\u3002"
   ]
  },
  {
   "cell_type": "code",
   "execution_count": 1,
   "id": "01a6ede9",
   "metadata": {},
   "outputs": [
    {
     "data": {
      "text/plain": [
       "<NVIDIA GeForce RTX 3050 Ti Laptop GPU on Platform: NVIDIA CUDA (1 refs)>"
      ]
     },
     "execution_count": 1,
     "metadata": {},
     "output_type": "execute_result"
    }
   ],
   "source": [
    "import numpy as np\n",
    "import pyclesperanto_prototype as cle\n",
    "\n",
    "cle.select_device(\"RTX\")"
   ]
  },
  {
   "cell_type": "markdown",
   "id": "8a0e81e0",
   "metadata": {},
   "source": [
    "\u4e3a\u4e86\u76d1\u7763\u5185\u5b58\u6d88\u8017\uff0c\u53ef\u4ee5\u4f7f\u7528[nvidia-smi](https://nvidia.custhelp.com/app/answers/detail/a_id/3751/~/useful-nvidia-smi-queries)\uff0c\u8fd9\u662f\u4e00\u4e2a\u547d\u4ee4\u884c\u5de5\u5177\uff0c\u53ef\u4ee5\u6253\u5370\u51fa\u5f53\u524d\u4efb\u4f55\u5e94\u7528\u7a0b\u5e8f\u5728\u7ed9\u5b9aGPU\u4e0a\u963b\u585e\u7684\u5185\u5b58\u91cf\uff1a"
   ]
  },
  {
   "cell_type": "code",
   "execution_count": 2,
   "id": "bedbd481",
   "metadata": {},
   "outputs": [
    {
     "name": "stdout",
     "output_type": "stream",
     "text": [
      "memory.used [MiB]\n",
      "178 MiB\n"
     ]
    }
   ],
   "source": [
    "!nvidia-smi --query-gpu=memory.used --format=csv"
   ]
  },
  {
   "cell_type": "markdown",
   "id": "3ed5c332",
   "metadata": {},
   "source": [
    "\u5982\u679c\u6211\u4eec\u5728GPU\u4e0a\u8fd0\u884c\u4e00\u4e2a\u64cd\u4f5c\u5e76\u518d\u6b21\u68c0\u67e5\u5185\u5b58\u6d88\u8017\uff0c\u6211\u4eec\u5e94\u8be5\u4f1a\u770b\u5230\u4e00\u4e2a\u589e\u52a0\u3002"
   ]
  },
  {
   "cell_type": "code",
   "execution_count": 3,
   "id": "2f06ebac",
   "metadata": {},
   "outputs": [],
   "source": [
    "image = np.random.random((1024, 1024, 100))\n",
    "\n",
    "blurred = cle.gaussian_blur(image)"
   ]
  },
  {
   "cell_type": "code",
   "execution_count": 4,
   "id": "f5328a54",
   "metadata": {},
   "outputs": [
    {
     "name": "stdout",
     "output_type": "stream",
     "text": [
      "memory.used [MiB]\n",
      "580 MiB\n"
     ]
    }
   ],
   "source": [
    "!nvidia-smi --query-gpu=memory.used --format=csv"
   ]
  },
  {
   "cell_type": "markdown",
   "id": "9587fb0c",
   "metadata": {},
   "source": [
    "`del`\u547d\u4ee4\u5141\u8bb8\u91ca\u653e\u5185\u5b58\u3002\u6ce8\u610f\uff1a\u53d8\u91cf\u80cc\u540e\u7684\u5185\u5b58\u53ef\u80fd\u4e0d\u4f1a\u7acb\u5373\u88ab\u91ca\u653e\uff0c\u8fd9\u53d6\u51b3\u4e8e\u7cfb\u7edf\u5f53\u524d\u7684\u5fd9\u788c\u7a0b\u5ea6\u3002"
   ]
  },
  {
   "cell_type": "code",
   "execution_count": 5,
   "id": "39400e4a",
   "metadata": {},
   "outputs": [],
   "source": [
    "del blurred"
   ]
  },
  {
   "cell_type": "code",
   "execution_count": 6,
   "id": "8bef3a3f",
   "metadata": {},
   "outputs": [
    {
     "name": "stdout",
     "output_type": "stream",
     "text": [
      "memory.used [MiB]\n",
      "180 MiB\n"
     ]
    }
   ],
   "source": [
    "!nvidia-smi --query-gpu=memory.used --format=csv"
   ]
  },
  {
   "cell_type": "code",
   "execution_count": null,
   "id": "fdcd417c",
   "metadata": {},
   "outputs": [],
   "source": []
  }
 ],
 "metadata": {
  "kernelspec": {
   "display_name": "Python 3 (ipykernel)",
   "language": "python",
   "name": "python3"
  },
  "language_info": {
   "codemirror_mode": {
    "name": "ipython",
    "version": 3
   },
   "file_extension": ".py",
   "mimetype": "text/x-python",
   "name": "python",
   "nbconvert_exporter": "python",
   "pygments_lexer": "ipython3",
   "version": "3.9.9"
  }
 },
 "nbformat": 4,
 "nbformat_minor": 5
}